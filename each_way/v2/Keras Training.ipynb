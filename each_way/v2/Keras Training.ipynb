{
 "cells": [
  {
   "cell_type": "code",
   "execution_count": 1,
   "metadata": {},
   "outputs": [
    {
     "name": "stderr",
     "output_type": "stream",
     "text": [
      "Using TensorFlow backend.\n"
     ]
    }
   ],
   "source": [
    "from keras.models import Sequential, load_model\n",
    "from keras.layers import Dense, Activation, Dropout\n",
    "from keras_tqdm import TQDMNotebookCallback\n",
    "import keras.callbacks\n",
    "\n",
    "from sqlalchemy import create_engine\n",
    "import json\n",
    "import pickle\n",
    "\n",
    "import pandas as pd\n",
    "import numpy as np\n",
    "import seaborn as sns\n",
    "import matplotlib.pyplot as plt\n",
    "%matplotlib inline"
   ]
  },
  {
   "cell_type": "code",
   "execution_count": 55,
   "metadata": {
    "collapsed": true
   },
   "outputs": [],
   "source": [
    "version = 'v2'\n",
    "\n",
    "# R  W  1\n",
    "# R  P  1\n",
    "# G  W  1\n",
    "# G  P  1\n",
    "# H  W  1\n",
    "# H  P  1\n",
    "\n",
    "# category = 'R'\n",
    "# category = 'G'\n",
    "category = 'H'\n",
    "\n",
    "# bet_type = 'W'\n",
    "bet_type = 'P'"
   ]
  },
  {
   "cell_type": "code",
   "execution_count": 56,
   "metadata": {},
   "outputs": [
    {
     "name": "stdout",
     "output_type": "stream",
     "text": [
      "5927 races loaded!\n"
     ]
    }
   ],
   "source": [
    "engine = create_engine('sqlite:///../../data/race.db')\n",
    "conn = engine.connect()\n",
    "conn\n",
    "dfoo = pd.read_sql_table('race', conn)\n",
    "print('{} races loaded!'.format(len(dfoo)))"
   ]
  },
  {
   "cell_type": "code",
   "execution_count": 57,
   "metadata": {},
   "outputs": [
    {
     "name": "stdout",
     "output_type": "stream",
     "text": [
      "1482 H races!\n"
     ]
    }
   ],
   "source": [
    "dfo = dfoo.loc[dfoo['race_type'].isin([category])]\n",
    "print('{} {} races!'.format(len(dfo), category))"
   ]
  },
  {
   "cell_type": "code",
   "execution_count": 58,
   "metadata": {},
   "outputs": [
    {
     "name": "stderr",
     "output_type": "stream",
     "text": [
      "/Users/jaco/.pyenv/versions/3.6.1/envs/tabby/lib/python3.6/site-packages/ipykernel_launcher.py:1: SettingWithCopyWarning: \n",
      "A value is trying to be set on a copy of a slice from a DataFrame.\n",
      "Try using .loc[row_indexer,col_indexer] = value instead\n",
      "\n",
      "See the caveats in the documentation: http://pandas.pydata.org/pandas-docs/stable/indexing.html#indexing-view-versus-copy\n",
      "  \"\"\"Entry point for launching an IPython kernel.\n",
      "/Users/jaco/.pyenv/versions/3.6.1/envs/tabby/lib/python3.6/site-packages/ipykernel_launcher.py:2: SettingWithCopyWarning: \n",
      "A value is trying to be set on a copy of a slice from a DataFrame.\n",
      "Try using .loc[row_indexer,col_indexer] = value instead\n",
      "\n",
      "See the caveats in the documentation: http://pandas.pydata.org/pandas-docs/stable/indexing.html#indexing-view-versus-copy\n",
      "  \n"
     ]
    },
    {
     "data": {
      "text/html": [
       "<div>\n",
       "<style>\n",
       "    .dataframe thead tr:only-child th {\n",
       "        text-align: right;\n",
       "    }\n",
       "\n",
       "    .dataframe thead th {\n",
       "        text-align: left;\n",
       "    }\n",
       "\n",
       "    .dataframe tbody tr th {\n",
       "        vertical-align: top;\n",
       "    }\n",
       "</style>\n",
       "<table border=\"1\" class=\"dataframe\">\n",
       "  <thead>\n",
       "    <tr style=\"text-align: right;\">\n",
       "      <th></th>\n",
       "      <th>id</th>\n",
       "      <th>meeting_name</th>\n",
       "      <th>location</th>\n",
       "      <th>venue_mnemonic</th>\n",
       "      <th>race_type</th>\n",
       "      <th>meeting_date</th>\n",
       "      <th>race_number</th>\n",
       "      <th>race_name</th>\n",
       "      <th>race_start_time</th>\n",
       "      <th>race_status</th>\n",
       "      <th>race_distance</th>\n",
       "      <th>results_data</th>\n",
       "      <th>num_runners</th>\n",
       "      <th>runners_data</th>\n",
       "      <th>quinella</th>\n",
       "      <th>exacta</th>\n",
       "      <th>trifecta</th>\n",
       "      <th>first_four</th>\n",
       "      <th>results</th>\n",
       "      <th>runners</th>\n",
       "    </tr>\n",
       "  </thead>\n",
       "  <tbody>\n",
       "    <tr>\n",
       "      <th>36</th>\n",
       "      <td>37</td>\n",
       "      <td>CHARLTON</td>\n",
       "      <td>VIC</td>\n",
       "      <td>M</td>\n",
       "      <td>H</td>\n",
       "      <td>2017-10-01</td>\n",
       "      <td>1</td>\n",
       "      <td>DNR LOGISTICS 3YO PACE MS</td>\n",
       "      <td>2017-10-01 02:14:00</td>\n",
       "      <td>Paying</td>\n",
       "      <td>2100</td>\n",
       "      <td>[[1], [5], [3], [4]]</td>\n",
       "      <td>6</td>\n",
       "      <td>[{\"runnerName\": \"TORQUE TOTHE STARZ\", \"runnerN...</td>\n",
       "      <td>3.3</td>\n",
       "      <td>15.6</td>\n",
       "      <td>36.1</td>\n",
       "      <td>57.3</td>\n",
       "      <td>[[1], [5], [3], [4]]</td>\n",
       "      <td>[{'runnerName': 'TORQUE TOTHE STARZ', 'runnerN...</td>\n",
       "    </tr>\n",
       "    <tr>\n",
       "      <th>37</th>\n",
       "      <td>38</td>\n",
       "      <td>CHARLTON</td>\n",
       "      <td>VIC</td>\n",
       "      <td>M</td>\n",
       "      <td>H</td>\n",
       "      <td>2017-10-01</td>\n",
       "      <td>2</td>\n",
       "      <td>AGISTMENT KILMORE PACE MS</td>\n",
       "      <td>2017-10-01 02:48:00</td>\n",
       "      <td>Paying</td>\n",
       "      <td>1609</td>\n",
       "      <td>[[1], [2], [8], [7]]</td>\n",
       "      <td>8</td>\n",
       "      <td>[{\"runnerName\": \"SUBTLE EMBRACE\", \"runnerNumbe...</td>\n",
       "      <td>4.3</td>\n",
       "      <td>10.5</td>\n",
       "      <td>33.8</td>\n",
       "      <td>186.1</td>\n",
       "      <td>[[1], [2], [8], [7]]</td>\n",
       "      <td>[{'runnerName': 'SUBTLE EMBRACE', 'runnerNumbe...</td>\n",
       "    </tr>\n",
       "    <tr>\n",
       "      <th>38</th>\n",
       "      <td>39</td>\n",
       "      <td>CHARLTON</td>\n",
       "      <td>VIC</td>\n",
       "      <td>M</td>\n",
       "      <td>H</td>\n",
       "      <td>2017-10-01</td>\n",
       "      <td>3</td>\n",
       "      <td>VALE ROD GRANT TROT MS</td>\n",
       "      <td>2017-10-01 03:18:00</td>\n",
       "      <td>Paying</td>\n",
       "      <td>2100</td>\n",
       "      <td>[[5], [1], [6], [2]]</td>\n",
       "      <td>10</td>\n",
       "      <td>[{\"runnerName\": \"SHESASUNDON\", \"runnerNumber\":...</td>\n",
       "      <td>6.5</td>\n",
       "      <td>14.0</td>\n",
       "      <td>91.7</td>\n",
       "      <td>249.9</td>\n",
       "      <td>[[5], [1], [6], [2]]</td>\n",
       "      <td>[{'runnerName': 'SHESASUNDON', 'runnerNumber':...</td>\n",
       "    </tr>\n",
       "  </tbody>\n",
       "</table>\n",
       "</div>"
      ],
      "text/plain": [
       "    id meeting_name location venue_mnemonic race_type meeting_date  \\\n",
       "36  37     CHARLTON      VIC              M         H   2017-10-01   \n",
       "37  38     CHARLTON      VIC              M         H   2017-10-01   \n",
       "38  39     CHARLTON      VIC              M         H   2017-10-01   \n",
       "\n",
       "    race_number                  race_name     race_start_time race_status  \\\n",
       "36            1  DNR LOGISTICS 3YO PACE MS 2017-10-01 02:14:00      Paying   \n",
       "37            2  AGISTMENT KILMORE PACE MS 2017-10-01 02:48:00      Paying   \n",
       "38            3     VALE ROD GRANT TROT MS 2017-10-01 03:18:00      Paying   \n",
       "\n",
       "    race_distance          results_data  num_runners  \\\n",
       "36           2100  [[1], [5], [3], [4]]            6   \n",
       "37           1609  [[1], [2], [8], [7]]            8   \n",
       "38           2100  [[5], [1], [6], [2]]           10   \n",
       "\n",
       "                                         runners_data  quinella  exacta  \\\n",
       "36  [{\"runnerName\": \"TORQUE TOTHE STARZ\", \"runnerN...       3.3    15.6   \n",
       "37  [{\"runnerName\": \"SUBTLE EMBRACE\", \"runnerNumbe...       4.3    10.5   \n",
       "38  [{\"runnerName\": \"SHESASUNDON\", \"runnerNumber\":...       6.5    14.0   \n",
       "\n",
       "    trifecta  first_four               results  \\\n",
       "36      36.1        57.3  [[1], [5], [3], [4]]   \n",
       "37      33.8       186.1  [[1], [2], [8], [7]]   \n",
       "38      91.7       249.9  [[5], [1], [6], [2]]   \n",
       "\n",
       "                                              runners  \n",
       "36  [{'runnerName': 'TORQUE TOTHE STARZ', 'runnerN...  \n",
       "37  [{'runnerName': 'SUBTLE EMBRACE', 'runnerNumbe...  \n",
       "38  [{'runnerName': 'SHESASUNDON', 'runnerNumber':...  "
      ]
     },
     "execution_count": 58,
     "metadata": {},
     "output_type": "execute_result"
    }
   ],
   "source": [
    "dfo['results'] = dfo['results_data'].map(json.loads)\n",
    "dfo['runners'] = dfo['runners_data'].map(json.loads)\n",
    "dfo.head(3)"
   ]
  },
  {
   "cell_type": "code",
   "execution_count": 59,
   "metadata": {},
   "outputs": [
    {
     "data": {
      "text/html": [
       "<div>\n",
       "<style>\n",
       "    .dataframe thead tr:only-child th {\n",
       "        text-align: right;\n",
       "    }\n",
       "\n",
       "    .dataframe thead th {\n",
       "        text-align: left;\n",
       "    }\n",
       "\n",
       "    .dataframe tbody tr th {\n",
       "        vertical-align: top;\n",
       "    }\n",
       "</style>\n",
       "<table border=\"1\" class=\"dataframe\">\n",
       "  <thead>\n",
       "    <tr style=\"text-align: right;\">\n",
       "      <th></th>\n",
       "      <th>P_pred</th>\n",
       "      <th>P_prob</th>\n",
       "      <th>W_pred</th>\n",
       "      <th>W_prob</th>\n",
       "      <th>barrierNumber</th>\n",
       "      <th>claimAmount</th>\n",
       "      <th>finishingPosition</th>\n",
       "      <th>fixedOdds</th>\n",
       "      <th>has_odds</th>\n",
       "      <th>num_runners</th>\n",
       "      <th>...</th>\n",
       "      <th>place_rank</th>\n",
       "      <th>place_scaled</th>\n",
       "      <th>riderDriverName</th>\n",
       "      <th>runnerName</th>\n",
       "      <th>runnerNumber</th>\n",
       "      <th>trainerName</th>\n",
       "      <th>win_odds</th>\n",
       "      <th>win_perc</th>\n",
       "      <th>win_rank</th>\n",
       "      <th>win_scaled</th>\n",
       "    </tr>\n",
       "  </thead>\n",
       "  <tbody>\n",
       "    <tr>\n",
       "      <th>5</th>\n",
       "      <td>0.069343</td>\n",
       "      <td>0.035674</td>\n",
       "      <td>0.016875</td>\n",
       "      <td>0.015591</td>\n",
       "      <td>0</td>\n",
       "      <td>0</td>\n",
       "      <td>4</td>\n",
       "      <td>{'returnWin': 41, 'returnWinOpen': 41, 'return...</td>\n",
       "      <td>True</td>\n",
       "      <td>7</td>\n",
       "      <td>...</td>\n",
       "      <td>7.0</td>\n",
       "      <td>0.023448</td>\n",
       "      <td>MITCHELL MILLER</td>\n",
       "      <td>JUST A LEGEND</td>\n",
       "      <td>4</td>\n",
       "      <td>N C DYMOCK</td>\n",
       "      <td>52.1</td>\n",
       "      <td>0.019194</td>\n",
       "      <td>7.0</td>\n",
       "      <td>0.015841</td>\n",
       "    </tr>\n",
       "    <tr>\n",
       "      <th>6</th>\n",
       "      <td>0.085608</td>\n",
       "      <td>0.044041</td>\n",
       "      <td>0.029025</td>\n",
       "      <td>0.026816</td>\n",
       "      <td>0</td>\n",
       "      <td>0</td>\n",
       "      <td>0</td>\n",
       "      <td>{'returnWin': 34, 'returnWinOpen': 26, 'return...</td>\n",
       "      <td>True</td>\n",
       "      <td>7</td>\n",
       "      <td>...</td>\n",
       "      <td>5.0</td>\n",
       "      <td>0.040860</td>\n",
       "      <td>JACK JUSTINS</td>\n",
       "      <td>SIMONDOU SU</td>\n",
       "      <td>5</td>\n",
       "      <td>W JUSTINS</td>\n",
       "      <td>30.9</td>\n",
       "      <td>0.032362</td>\n",
       "      <td>6.0</td>\n",
       "      <td>0.026709</td>\n",
       "    </tr>\n",
       "    <tr>\n",
       "      <th>7</th>\n",
       "      <td>0.998507</td>\n",
       "      <td>0.513688</td>\n",
       "      <td>0.769474</td>\n",
       "      <td>0.710905</td>\n",
       "      <td>0</td>\n",
       "      <td>0</td>\n",
       "      <td>1</td>\n",
       "      <td>{'returnWin': 1.22, 'returnWinOpen': 1.28, 're...</td>\n",
       "      <td>True</td>\n",
       "      <td>7</td>\n",
       "      <td>...</td>\n",
       "      <td>1.0</td>\n",
       "      <td>0.343905</td>\n",
       "      <td>DYLAN EGERTON-GREE</td>\n",
       "      <td>CHIAROSCURO</td>\n",
       "      <td>6</td>\n",
       "      <td>M A LINDAU</td>\n",
       "      <td>1.2</td>\n",
       "      <td>0.833333</td>\n",
       "      <td>1.0</td>\n",
       "      <td>0.687752</td>\n",
       "    </tr>\n",
       "  </tbody>\n",
       "</table>\n",
       "<p>3 rows × 23 columns</p>\n",
       "</div>"
      ],
      "text/plain": [
       "     P_pred    P_prob    W_pred    W_prob  barrierNumber  claimAmount  \\\n",
       "5  0.069343  0.035674  0.016875  0.015591              0            0   \n",
       "6  0.085608  0.044041  0.029025  0.026816              0            0   \n",
       "7  0.998507  0.513688  0.769474  0.710905              0            0   \n",
       "\n",
       "   finishingPosition                                          fixedOdds  \\\n",
       "5                  4  {'returnWin': 41, 'returnWinOpen': 41, 'return...   \n",
       "6                  0  {'returnWin': 34, 'returnWinOpen': 26, 'return...   \n",
       "7                  1  {'returnWin': 1.22, 'returnWinOpen': 1.28, 're...   \n",
       "\n",
       "   has_odds  num_runners     ...     place_rank  place_scaled  \\\n",
       "5      True            7     ...            7.0      0.023448   \n",
       "6      True            7     ...            5.0      0.040860   \n",
       "7      True            7     ...            1.0      0.343905   \n",
       "\n",
       "      riderDriverName     runnerName  runnerNumber trainerName win_odds  \\\n",
       "5     MITCHELL MILLER  JUST A LEGEND             4  N C DYMOCK     52.1   \n",
       "6        JACK JUSTINS    SIMONDOU SU             5   W JUSTINS     30.9   \n",
       "7  DYLAN EGERTON-GREE    CHIAROSCURO             6  M A LINDAU      1.2   \n",
       "\n",
       "   win_perc win_rank  win_scaled  \n",
       "5  0.019194      7.0    0.015841  \n",
       "6  0.032362      6.0    0.026709  \n",
       "7  0.833333      1.0    0.687752  \n",
       "\n",
       "[3 rows x 23 columns]"
      ]
     },
     "execution_count": 59,
     "metadata": {},
     "output_type": "execute_result"
    }
   ],
   "source": [
    "# extract runners from races\n",
    "data_all = pd.DataFrame()\n",
    "for ri, race in dfo.iterrows():\n",
    "    data_all = data_all.append(race['runners'])    \n",
    "data_all.tail(3)"
   ]
  },
  {
   "cell_type": "code",
   "execution_count": 60,
   "metadata": {},
   "outputs": [
    {
     "data": {
      "text/html": [
       "<div>\n",
       "<style>\n",
       "    .dataframe thead tr:only-child th {\n",
       "        text-align: right;\n",
       "    }\n",
       "\n",
       "    .dataframe thead th {\n",
       "        text-align: left;\n",
       "    }\n",
       "\n",
       "    .dataframe tbody tr th {\n",
       "        vertical-align: top;\n",
       "    }\n",
       "</style>\n",
       "<table border=\"1\" class=\"dataframe\">\n",
       "  <thead>\n",
       "    <tr style=\"text-align: right;\">\n",
       "      <th></th>\n",
       "      <th>P_pred</th>\n",
       "      <th>P_prob</th>\n",
       "      <th>W_pred</th>\n",
       "      <th>W_prob</th>\n",
       "      <th>barrierNumber</th>\n",
       "      <th>claimAmount</th>\n",
       "      <th>finishingPosition</th>\n",
       "      <th>num_runners</th>\n",
       "      <th>place_odds</th>\n",
       "      <th>place_perc</th>\n",
       "      <th>place_rank</th>\n",
       "      <th>place_scaled</th>\n",
       "      <th>runnerNumber</th>\n",
       "      <th>win_odds</th>\n",
       "      <th>win_perc</th>\n",
       "      <th>win_rank</th>\n",
       "      <th>win_scaled</th>\n",
       "    </tr>\n",
       "  </thead>\n",
       "  <tbody>\n",
       "    <tr>\n",
       "      <th>count</th>\n",
       "      <td>14140.000000</td>\n",
       "      <td>14140.000000</td>\n",
       "      <td>1.414000e+04</td>\n",
       "      <td>14140.000000</td>\n",
       "      <td>14140.000000</td>\n",
       "      <td>14140.0</td>\n",
       "      <td>14140.000000</td>\n",
       "      <td>14140.000000</td>\n",
       "      <td>14140.000000</td>\n",
       "      <td>14140.000000</td>\n",
       "      <td>14140.000000</td>\n",
       "      <td>14140.000000</td>\n",
       "      <td>14140.000000</td>\n",
       "      <td>14140.000000</td>\n",
       "      <td>14140.000000</td>\n",
       "      <td>14140.000000</td>\n",
       "      <td>14140.000000</td>\n",
       "    </tr>\n",
       "    <tr>\n",
       "      <th>mean</th>\n",
       "      <td>0.299005</td>\n",
       "      <td>0.104438</td>\n",
       "      <td>1.053818e-01</td>\n",
       "      <td>0.104809</td>\n",
       "      <td>0.785290</td>\n",
       "      <td>0.0</td>\n",
       "      <td>1.001980</td>\n",
       "      <td>10.278218</td>\n",
       "      <td>5.372116</td>\n",
       "      <td>0.347840</td>\n",
       "      <td>5.553112</td>\n",
       "      <td>0.104809</td>\n",
       "      <td>5.847595</td>\n",
       "      <td>25.107793</td>\n",
       "      <td>0.124193</td>\n",
       "      <td>5.615983</td>\n",
       "      <td>0.104809</td>\n",
       "    </tr>\n",
       "    <tr>\n",
       "      <th>std</th>\n",
       "      <td>0.208452</td>\n",
       "      <td>0.077646</td>\n",
       "      <td>1.306888e-01</td>\n",
       "      <td>0.125287</td>\n",
       "      <td>3.703145</td>\n",
       "      <td>0.0</td>\n",
       "      <td>1.398218</td>\n",
       "      <td>2.976194</td>\n",
       "      <td>5.730837</td>\n",
       "      <td>0.243878</td>\n",
       "      <td>3.390921</td>\n",
       "      <td>0.077334</td>\n",
       "      <td>3.522598</td>\n",
       "      <td>30.105048</td>\n",
       "      <td>0.143558</td>\n",
       "      <td>3.397898</td>\n",
       "      <td>0.120848</td>\n",
       "    </tr>\n",
       "    <tr>\n",
       "      <th>min</th>\n",
       "      <td>0.000000</td>\n",
       "      <td>0.000000</td>\n",
       "      <td>7.347395e-09</td>\n",
       "      <td>0.000362</td>\n",
       "      <td>0.000000</td>\n",
       "      <td>0.0</td>\n",
       "      <td>0.000000</td>\n",
       "      <td>1.000000</td>\n",
       "      <td>1.000000</td>\n",
       "      <td>0.006667</td>\n",
       "      <td>1.000000</td>\n",
       "      <td>0.001886</td>\n",
       "      <td>1.000000</td>\n",
       "      <td>1.040000</td>\n",
       "      <td>0.001600</td>\n",
       "      <td>1.000000</td>\n",
       "      <td>0.001349</td>\n",
       "    </tr>\n",
       "    <tr>\n",
       "      <th>25%</th>\n",
       "      <td>0.126393</td>\n",
       "      <td>0.044373</td>\n",
       "      <td>2.438337e-02</td>\n",
       "      <td>0.024252</td>\n",
       "      <td>0.000000</td>\n",
       "      <td>0.0</td>\n",
       "      <td>0.000000</td>\n",
       "      <td>8.000000</td>\n",
       "      <td>2.000000</td>\n",
       "      <td>0.151515</td>\n",
       "      <td>3.000000</td>\n",
       "      <td>0.045106</td>\n",
       "      <td>3.000000</td>\n",
       "      <td>6.200000</td>\n",
       "      <td>0.030581</td>\n",
       "      <td>3.000000</td>\n",
       "      <td>0.025767</td>\n",
       "    </tr>\n",
       "    <tr>\n",
       "      <th>50%</th>\n",
       "      <td>0.248103</td>\n",
       "      <td>0.083950</td>\n",
       "      <td>5.766835e-02</td>\n",
       "      <td>0.058381</td>\n",
       "      <td>0.000000</td>\n",
       "      <td>0.0</td>\n",
       "      <td>0.000000</td>\n",
       "      <td>10.000000</td>\n",
       "      <td>3.500000</td>\n",
       "      <td>0.285714</td>\n",
       "      <td>5.000000</td>\n",
       "      <td>0.084249</td>\n",
       "      <td>5.000000</td>\n",
       "      <td>14.400000</td>\n",
       "      <td>0.069444</td>\n",
       "      <td>5.000000</td>\n",
       "      <td>0.058442</td>\n",
       "    </tr>\n",
       "    <tr>\n",
       "      <th>75%</th>\n",
       "      <td>0.446944</td>\n",
       "      <td>0.156925</td>\n",
       "      <td>1.275740e-01</td>\n",
       "      <td>0.129935</td>\n",
       "      <td>0.000000</td>\n",
       "      <td>0.0</td>\n",
       "      <td>2.000000</td>\n",
       "      <td>12.000000</td>\n",
       "      <td>6.600000</td>\n",
       "      <td>0.500000</td>\n",
       "      <td>8.000000</td>\n",
       "      <td>0.147176</td>\n",
       "      <td>8.000000</td>\n",
       "      <td>32.700000</td>\n",
       "      <td>0.161290</td>\n",
       "      <td>8.000000</td>\n",
       "      <td>0.135284</td>\n",
       "    </tr>\n",
       "    <tr>\n",
       "      <th>max</th>\n",
       "      <td>1.000000</td>\n",
       "      <td>0.623140</td>\n",
       "      <td>8.850901e-01</td>\n",
       "      <td>1.000000</td>\n",
       "      <td>80.000000</td>\n",
       "      <td>0.0</td>\n",
       "      <td>4.000000</td>\n",
       "      <td>20.000000</td>\n",
       "      <td>150.000000</td>\n",
       "      <td>1.000000</td>\n",
       "      <td>20.000000</td>\n",
       "      <td>1.000000</td>\n",
       "      <td>20.000000</td>\n",
       "      <td>625.000000</td>\n",
       "      <td>0.961538</td>\n",
       "      <td>20.000000</td>\n",
       "      <td>1.000000</td>\n",
       "    </tr>\n",
       "  </tbody>\n",
       "</table>\n",
       "</div>"
      ],
      "text/plain": [
       "             P_pred        P_prob        W_pred        W_prob  barrierNumber  \\\n",
       "count  14140.000000  14140.000000  1.414000e+04  14140.000000   14140.000000   \n",
       "mean       0.299005      0.104438  1.053818e-01      0.104809       0.785290   \n",
       "std        0.208452      0.077646  1.306888e-01      0.125287       3.703145   \n",
       "min        0.000000      0.000000  7.347395e-09      0.000362       0.000000   \n",
       "25%        0.126393      0.044373  2.438337e-02      0.024252       0.000000   \n",
       "50%        0.248103      0.083950  5.766835e-02      0.058381       0.000000   \n",
       "75%        0.446944      0.156925  1.275740e-01      0.129935       0.000000   \n",
       "max        1.000000      0.623140  8.850901e-01      1.000000      80.000000   \n",
       "\n",
       "       claimAmount  finishingPosition   num_runners    place_odds  \\\n",
       "count      14140.0       14140.000000  14140.000000  14140.000000   \n",
       "mean           0.0           1.001980     10.278218      5.372116   \n",
       "std            0.0           1.398218      2.976194      5.730837   \n",
       "min            0.0           0.000000      1.000000      1.000000   \n",
       "25%            0.0           0.000000      8.000000      2.000000   \n",
       "50%            0.0           0.000000     10.000000      3.500000   \n",
       "75%            0.0           2.000000     12.000000      6.600000   \n",
       "max            0.0           4.000000     20.000000    150.000000   \n",
       "\n",
       "         place_perc    place_rank  place_scaled  runnerNumber      win_odds  \\\n",
       "count  14140.000000  14140.000000  14140.000000  14140.000000  14140.000000   \n",
       "mean       0.347840      5.553112      0.104809      5.847595     25.107793   \n",
       "std        0.243878      3.390921      0.077334      3.522598     30.105048   \n",
       "min        0.006667      1.000000      0.001886      1.000000      1.040000   \n",
       "25%        0.151515      3.000000      0.045106      3.000000      6.200000   \n",
       "50%        0.285714      5.000000      0.084249      5.000000     14.400000   \n",
       "75%        0.500000      8.000000      0.147176      8.000000     32.700000   \n",
       "max        1.000000     20.000000      1.000000     20.000000    625.000000   \n",
       "\n",
       "           win_perc      win_rank    win_scaled  \n",
       "count  14140.000000  14140.000000  14140.000000  \n",
       "mean       0.124193      5.615983      0.104809  \n",
       "std        0.143558      3.397898      0.120848  \n",
       "min        0.001600      1.000000      0.001349  \n",
       "25%        0.030581      3.000000      0.025767  \n",
       "50%        0.069444      5.000000      0.058442  \n",
       "75%        0.161290      8.000000      0.135284  \n",
       "max        0.961538     20.000000      1.000000  "
      ]
     },
     "execution_count": 60,
     "metadata": {},
     "output_type": "execute_result"
    }
   ],
   "source": [
    "# drop scratched\n",
    "data = data_all.dropna(subset=['win_odds', 'place_odds'])\n",
    "data = data[(data.win_odds > 0)]\n",
    "data = data[(data.place_odds > 0)]\n",
    "data.describe()"
   ]
  },
  {
   "cell_type": "code",
   "execution_count": 61,
   "metadata": {},
   "outputs": [
    {
     "data": {
      "text/plain": [
       "count    14140.000000\n",
       "mean         0.296110\n",
       "std          0.456556\n",
       "min          0.000000\n",
       "25%          0.000000\n",
       "50%          0.000000\n",
       "75%          1.000000\n",
       "max          1.000000\n",
       "dtype: float64"
      ]
     },
     "execution_count": 61,
     "metadata": {},
     "output_type": "execute_result"
    }
   ],
   "source": [
    "# get label data\n",
    "Y = data['finishingPosition']\n",
    "\n",
    "if bet_type == 'W':\n",
    "    Y = (Y == 1)\n",
    "elif bet_type == 'P':\n",
    "    Y = (Y == 1) | (Y == 2) | ((Y == 3) & (data['num_runners'] >= 8))\n",
    "\n",
    "#print(data['finishingPosition'].head(10))\n",
    "Y = Y.astype(int)\n",
    "# Y.head(10)\n",
    "Y.describe()"
   ]
  },
  {
   "cell_type": "code",
   "execution_count": 62,
   "metadata": {},
   "outputs": [
    {
     "data": {
      "text/html": [
       "<div>\n",
       "<style>\n",
       "    .dataframe thead tr:only-child th {\n",
       "        text-align: right;\n",
       "    }\n",
       "\n",
       "    .dataframe thead th {\n",
       "        text-align: left;\n",
       "    }\n",
       "\n",
       "    .dataframe tbody tr th {\n",
       "        vertical-align: top;\n",
       "    }\n",
       "</style>\n",
       "<table border=\"1\" class=\"dataframe\">\n",
       "  <thead>\n",
       "    <tr style=\"text-align: right;\">\n",
       "      <th></th>\n",
       "      <th>num_runners</th>\n",
       "      <th>win_perc</th>\n",
       "      <th>win_scaled</th>\n",
       "      <th>win_rank</th>\n",
       "      <th>place_perc</th>\n",
       "      <th>place_scaled</th>\n",
       "      <th>place_rank</th>\n",
       "    </tr>\n",
       "  </thead>\n",
       "  <tbody>\n",
       "    <tr>\n",
       "      <th>count</th>\n",
       "      <td>14140.000000</td>\n",
       "      <td>14140.000000</td>\n",
       "      <td>14140.000000</td>\n",
       "      <td>14140.000000</td>\n",
       "      <td>14140.000000</td>\n",
       "      <td>14140.000000</td>\n",
       "      <td>14140.000000</td>\n",
       "    </tr>\n",
       "    <tr>\n",
       "      <th>mean</th>\n",
       "      <td>10.278218</td>\n",
       "      <td>0.124193</td>\n",
       "      <td>0.104809</td>\n",
       "      <td>5.615983</td>\n",
       "      <td>0.347840</td>\n",
       "      <td>0.104809</td>\n",
       "      <td>5.553112</td>\n",
       "    </tr>\n",
       "    <tr>\n",
       "      <th>std</th>\n",
       "      <td>2.976194</td>\n",
       "      <td>0.143558</td>\n",
       "      <td>0.120848</td>\n",
       "      <td>3.397898</td>\n",
       "      <td>0.243878</td>\n",
       "      <td>0.077334</td>\n",
       "      <td>3.390921</td>\n",
       "    </tr>\n",
       "    <tr>\n",
       "      <th>min</th>\n",
       "      <td>1.000000</td>\n",
       "      <td>0.001600</td>\n",
       "      <td>0.001349</td>\n",
       "      <td>1.000000</td>\n",
       "      <td>0.006667</td>\n",
       "      <td>0.001886</td>\n",
       "      <td>1.000000</td>\n",
       "    </tr>\n",
       "    <tr>\n",
       "      <th>25%</th>\n",
       "      <td>8.000000</td>\n",
       "      <td>0.030581</td>\n",
       "      <td>0.025767</td>\n",
       "      <td>3.000000</td>\n",
       "      <td>0.151515</td>\n",
       "      <td>0.045106</td>\n",
       "      <td>3.000000</td>\n",
       "    </tr>\n",
       "    <tr>\n",
       "      <th>50%</th>\n",
       "      <td>10.000000</td>\n",
       "      <td>0.069444</td>\n",
       "      <td>0.058442</td>\n",
       "      <td>5.000000</td>\n",
       "      <td>0.285714</td>\n",
       "      <td>0.084249</td>\n",
       "      <td>5.000000</td>\n",
       "    </tr>\n",
       "    <tr>\n",
       "      <th>75%</th>\n",
       "      <td>12.000000</td>\n",
       "      <td>0.161290</td>\n",
       "      <td>0.135284</td>\n",
       "      <td>8.000000</td>\n",
       "      <td>0.500000</td>\n",
       "      <td>0.147176</td>\n",
       "      <td>8.000000</td>\n",
       "    </tr>\n",
       "    <tr>\n",
       "      <th>max</th>\n",
       "      <td>20.000000</td>\n",
       "      <td>0.961538</td>\n",
       "      <td>1.000000</td>\n",
       "      <td>20.000000</td>\n",
       "      <td>1.000000</td>\n",
       "      <td>1.000000</td>\n",
       "      <td>20.000000</td>\n",
       "    </tr>\n",
       "  </tbody>\n",
       "</table>\n",
       "</div>"
      ],
      "text/plain": [
       "        num_runners      win_perc    win_scaled      win_rank    place_perc  \\\n",
       "count  14140.000000  14140.000000  14140.000000  14140.000000  14140.000000   \n",
       "mean      10.278218      0.124193      0.104809      5.615983      0.347840   \n",
       "std        2.976194      0.143558      0.120848      3.397898      0.243878   \n",
       "min        1.000000      0.001600      0.001349      1.000000      0.006667   \n",
       "25%        8.000000      0.030581      0.025767      3.000000      0.151515   \n",
       "50%       10.000000      0.069444      0.058442      5.000000      0.285714   \n",
       "75%       12.000000      0.161290      0.135284      8.000000      0.500000   \n",
       "max       20.000000      0.961538      1.000000     20.000000      1.000000   \n",
       "\n",
       "       place_scaled    place_rank  \n",
       "count  14140.000000  14140.000000  \n",
       "mean       0.104809      5.553112  \n",
       "std        0.077334      3.390921  \n",
       "min        0.001886      1.000000  \n",
       "25%        0.045106      3.000000  \n",
       "50%        0.084249      5.000000  \n",
       "75%        0.147176      8.000000  \n",
       "max        1.000000     20.000000  "
      ]
     },
     "execution_count": 62,
     "metadata": {},
     "output_type": "execute_result"
    }
   ],
   "source": [
    "xn = data['num_runners']\n",
    "xwp = data['win_perc']\n",
    "xws = data['win_scaled']\n",
    "xwr = data['win_rank']\n",
    "xpp = data['place_perc']\n",
    "xps = data['place_scaled']\n",
    "xpr = data['place_rank']\n",
    "X = pd.concat([xn, xwp, xws, xwr, xpp, xps, xpr], axis=1)\n",
    "X.describe()"
   ]
  },
  {
   "cell_type": "code",
   "execution_count": 63,
   "metadata": {},
   "outputs": [
    {
     "name": "stdout",
     "output_type": "stream",
     "text": [
      "input dimension = 7\n",
      "epochs = 100\n",
      "tag = H50x50P\n",
      "model created\n"
     ]
    }
   ],
   "source": [
    "# For a single-input model with 2 classes (binary classification):\n",
    "\n",
    "n = len(X.columns)\n",
    "print('input dimension = {}'.format(n))\n",
    "\n",
    "epochs = 100\n",
    "print('epochs = {}'.format(epochs))\n",
    "\n",
    "layer_1 = 50\n",
    "layer_2 = 50\n",
    "\n",
    "tag = '{}{}x{}{}'.format(category, layer_1, layer_2, bet_type)\n",
    "print('tag = {}'.format(tag))\n",
    "file_name = '/Users/jaco/code/tabby/each_way/{}/models/{}.h5'.format(version, tag)\n",
    "\n",
    "try:\n",
    "    model = load_model(file_name)\n",
    "    print('model loaded')\n",
    "except OSError:\n",
    "    model = Sequential()\n",
    "    model.add(Dense(layer_1, activation='relu', input_dim=n))\n",
    "    model.add(Dense(layer_2, activation='relu'))\n",
    "    model.add(Dense(1, activation='sigmoid'))\n",
    "    model.compile(optimizer='adam',\n",
    "                  loss='binary_crossentropy',\n",
    "                  metrics=['accuracy'])\n",
    "    print('model created')"
   ]
  },
  {
   "cell_type": "code",
   "execution_count": 64,
   "metadata": {},
   "outputs": [
    {
     "data": {
      "application/vnd.jupyter.widget-view+json": {
       "model_id": "94083f4c0da64f3f816fc7570fb7c979"
      }
     },
     "metadata": {},
     "output_type": "display_data"
    },
    {
     "data": {
      "application/vnd.jupyter.widget-view+json": {
       "model_id": "7783bd3ccbcf4e47973cfdbe0b29e15f"
      }
     },
     "metadata": {},
     "output_type": "display_data"
    },
    {
     "data": {
      "application/vnd.jupyter.widget-view+json": {
       "model_id": "5344b097850f4772809abe5290ceca0c"
      }
     },
     "metadata": {},
     "output_type": "display_data"
    },
    {
     "data": {
      "application/vnd.jupyter.widget-view+json": {
       "model_id": "202383e991fb490bba4886bf4599302e"
      }
     },
     "metadata": {},
     "output_type": "display_data"
    },
    {
     "data": {
      "application/vnd.jupyter.widget-view+json": {
       "model_id": "635e107feeca44a296e7a5937d705cbf"
      }
     },
     "metadata": {},
     "output_type": "display_data"
    },
    {
     "data": {
      "application/vnd.jupyter.widget-view+json": {
       "model_id": "db52988f2c5947a694a0ec03c8638685"
      }
     },
     "metadata": {},
     "output_type": "display_data"
    },
    {
     "data": {
      "application/vnd.jupyter.widget-view+json": {
       "model_id": "2814c263cdf54c88be3978e0e14d6a8b"
      }
     },
     "metadata": {},
     "output_type": "display_data"
    },
    {
     "data": {
      "application/vnd.jupyter.widget-view+json": {
       "model_id": "90b1cae42aaf4b0297d769a7322bf65b"
      }
     },
     "metadata": {},
     "output_type": "display_data"
    },
    {
     "data": {
      "application/vnd.jupyter.widget-view+json": {
       "model_id": "53d55941d6d24b0396fa2b7e3569671e"
      }
     },
     "metadata": {},
     "output_type": "display_data"
    },
    {
     "data": {
      "application/vnd.jupyter.widget-view+json": {
       "model_id": "1eaf305923cf44a5a8f46113f347a53d"
      }
     },
     "metadata": {},
     "output_type": "display_data"
    },
    {
     "data": {
      "application/vnd.jupyter.widget-view+json": {
       "model_id": "f036300321f24f02aca0a819a288bf38"
      }
     },
     "metadata": {},
     "output_type": "display_data"
    },
    {
     "data": {
      "application/vnd.jupyter.widget-view+json": {
       "model_id": "3ab1e338a66447c1aa7e3517905715cc"
      }
     },
     "metadata": {},
     "output_type": "display_data"
    },
    {
     "data": {
      "application/vnd.jupyter.widget-view+json": {
       "model_id": "13c4eefda42641c6922fbe67345c9cf6"
      }
     },
     "metadata": {},
     "output_type": "display_data"
    },
    {
     "data": {
      "application/vnd.jupyter.widget-view+json": {
       "model_id": "ecdb54e3faac4f8fb3a3a7f2e73d2fff"
      }
     },
     "metadata": {},
     "output_type": "display_data"
    },
    {
     "data": {
      "application/vnd.jupyter.widget-view+json": {
       "model_id": "58efb6f6d92c443987810725bcc51ace"
      }
     },
     "metadata": {},
     "output_type": "display_data"
    },
    {
     "data": {
      "application/vnd.jupyter.widget-view+json": {
       "model_id": "9ef29c11184544cbbfe5b9054f9a8e80"
      }
     },
     "metadata": {},
     "output_type": "display_data"
    },
    {
     "data": {
      "application/vnd.jupyter.widget-view+json": {
       "model_id": "0b17a9a843d342b0b752e24c3620e304"
      }
     },
     "metadata": {},
     "output_type": "display_data"
    },
    {
     "data": {
      "application/vnd.jupyter.widget-view+json": {
       "model_id": "ca51842edd2d4649aea959ad5a272a41"
      }
     },
     "metadata": {},
     "output_type": "display_data"
    },
    {
     "data": {
      "application/vnd.jupyter.widget-view+json": {
       "model_id": "46fd86868de148ad8c8dacdf1179b663"
      }
     },
     "metadata": {},
     "output_type": "display_data"
    },
    {
     "data": {
      "application/vnd.jupyter.widget-view+json": {
       "model_id": "f8a66049224e4576bcf2d88bf6fb5ae4"
      }
     },
     "metadata": {},
     "output_type": "display_data"
    },
    {
     "data": {
      "application/vnd.jupyter.widget-view+json": {
       "model_id": "ad70e7cf22954ce08da5b4ae4220a629"
      }
     },
     "metadata": {},
     "output_type": "display_data"
    },
    {
     "data": {
      "application/vnd.jupyter.widget-view+json": {
       "model_id": "3fd91af8320a423791c4a062ca99e0ad"
      }
     },
     "metadata": {},
     "output_type": "display_data"
    },
    {
     "data": {
      "application/vnd.jupyter.widget-view+json": {
       "model_id": "60ccc37812594c8489d763b39146055e"
      }
     },
     "metadata": {},
     "output_type": "display_data"
    },
    {
     "data": {
      "application/vnd.jupyter.widget-view+json": {
       "model_id": "a6861f94087b4addb87120f786d74cda"
      }
     },
     "metadata": {},
     "output_type": "display_data"
    },
    {
     "data": {
      "application/vnd.jupyter.widget-view+json": {
       "model_id": "a7f48ccb81c346748a8e05c126c3a86e"
      }
     },
     "metadata": {},
     "output_type": "display_data"
    },
    {
     "data": {
      "application/vnd.jupyter.widget-view+json": {
       "model_id": "66268a4e054a4d139776ec1ce13e6366"
      }
     },
     "metadata": {},
     "output_type": "display_data"
    },
    {
     "data": {
      "application/vnd.jupyter.widget-view+json": {
       "model_id": "93b627325a0344f4acc3f8783b80f2bd"
      }
     },
     "metadata": {},
     "output_type": "display_data"
    },
    {
     "data": {
      "application/vnd.jupyter.widget-view+json": {
       "model_id": "18f61380f0814c40aa2e5cc05a0de654"
      }
     },
     "metadata": {},
     "output_type": "display_data"
    },
    {
     "data": {
      "application/vnd.jupyter.widget-view+json": {
       "model_id": "72b0cfb526214333981b00aba5bc18cf"
      }
     },
     "metadata": {},
     "output_type": "display_data"
    },
    {
     "data": {
      "application/vnd.jupyter.widget-view+json": {
       "model_id": "6ef5889486d04ae9a5dee3e2da236dbf"
      }
     },
     "metadata": {},
     "output_type": "display_data"
    },
    {
     "data": {
      "application/vnd.jupyter.widget-view+json": {
       "model_id": "91a123512eb742e8b0e70ca5d394f6c3"
      }
     },
     "metadata": {},
     "output_type": "display_data"
    },
    {
     "data": {
      "application/vnd.jupyter.widget-view+json": {
       "model_id": "d4cc23e1b80e4ba4b980d948bc69cf59"
      }
     },
     "metadata": {},
     "output_type": "display_data"
    },
    {
     "data": {
      "application/vnd.jupyter.widget-view+json": {
       "model_id": "b2cc4a3522184262ae84ae34fd3c668c"
      }
     },
     "metadata": {},
     "output_type": "display_data"
    },
    {
     "data": {
      "application/vnd.jupyter.widget-view+json": {
       "model_id": "7b3c958d4a1047d49aabf506e661879a"
      }
     },
     "metadata": {},
     "output_type": "display_data"
    },
    {
     "data": {
      "application/vnd.jupyter.widget-view+json": {
       "model_id": "d85c4a620bdc42fe9ede4b52944f5f33"
      }
     },
     "metadata": {},
     "output_type": "display_data"
    },
    {
     "data": {
      "application/vnd.jupyter.widget-view+json": {
       "model_id": "237d847556804170a8bde6e9dae9dc14"
      }
     },
     "metadata": {},
     "output_type": "display_data"
    },
    {
     "data": {
      "application/vnd.jupyter.widget-view+json": {
       "model_id": "3e8125e139904c369d67b2a25b078e06"
      }
     },
     "metadata": {},
     "output_type": "display_data"
    },
    {
     "data": {
      "application/vnd.jupyter.widget-view+json": {
       "model_id": "5ed78bb46d6f49f4806d98266adde3a9"
      }
     },
     "metadata": {},
     "output_type": "display_data"
    },
    {
     "data": {
      "application/vnd.jupyter.widget-view+json": {
       "model_id": "312de941fd3848e590fd666a1de3388a"
      }
     },
     "metadata": {},
     "output_type": "display_data"
    },
    {
     "data": {
      "application/vnd.jupyter.widget-view+json": {
       "model_id": "e3f6b671667d47aaa465ff9626701f7a"
      }
     },
     "metadata": {},
     "output_type": "display_data"
    },
    {
     "data": {
      "application/vnd.jupyter.widget-view+json": {
       "model_id": "2d42a9e6ac98429a963a8288eb97dbb9"
      }
     },
     "metadata": {},
     "output_type": "display_data"
    },
    {
     "data": {
      "application/vnd.jupyter.widget-view+json": {
       "model_id": "6b697b2725614ea8aacb01e2d9741eaf"
      }
     },
     "metadata": {},
     "output_type": "display_data"
    },
    {
     "data": {
      "application/vnd.jupyter.widget-view+json": {
       "model_id": "30595d304389482a9e5dac35c720d505"
      }
     },
     "metadata": {},
     "output_type": "display_data"
    },
    {
     "data": {
      "application/vnd.jupyter.widget-view+json": {
       "model_id": "86e08852d537436baa07c605f8c895f7"
      }
     },
     "metadata": {},
     "output_type": "display_data"
    },
    {
     "data": {
      "application/vnd.jupyter.widget-view+json": {
       "model_id": "2f12e59844d34d63ba1a37b197769cb1"
      }
     },
     "metadata": {},
     "output_type": "display_data"
    },
    {
     "data": {
      "application/vnd.jupyter.widget-view+json": {
       "model_id": "2cbad8bdef1f4337b7e8e8310f0f3162"
      }
     },
     "metadata": {},
     "output_type": "display_data"
    },
    {
     "data": {
      "application/vnd.jupyter.widget-view+json": {
       "model_id": "110d5856abca454ca439070334017c7e"
      }
     },
     "metadata": {},
     "output_type": "display_data"
    },
    {
     "data": {
      "application/vnd.jupyter.widget-view+json": {
       "model_id": "d084203829c64319964ba2cee85b9a02"
      }
     },
     "metadata": {},
     "output_type": "display_data"
    },
    {
     "data": {
      "application/vnd.jupyter.widget-view+json": {
       "model_id": "a8746d49e9784ecf9bd70a4c0b609148"
      }
     },
     "metadata": {},
     "output_type": "display_data"
    },
    {
     "data": {
      "application/vnd.jupyter.widget-view+json": {
       "model_id": "2bb2068aef494a9198a8e96e61c47a94"
      }
     },
     "metadata": {},
     "output_type": "display_data"
    },
    {
     "data": {
      "application/vnd.jupyter.widget-view+json": {
       "model_id": "f3f40051202c468fb0efe4abf68a5ff7"
      }
     },
     "metadata": {},
     "output_type": "display_data"
    },
    {
     "data": {
      "application/vnd.jupyter.widget-view+json": {
       "model_id": "deb987aaf9704079add9f7a2081248bd"
      }
     },
     "metadata": {},
     "output_type": "display_data"
    },
    {
     "data": {
      "application/vnd.jupyter.widget-view+json": {
       "model_id": "9102560b481e490da20e522ea5dfea42"
      }
     },
     "metadata": {},
     "output_type": "display_data"
    },
    {
     "data": {
      "application/vnd.jupyter.widget-view+json": {
       "model_id": "dca912b617714402b502831455c2936e"
      }
     },
     "metadata": {},
     "output_type": "display_data"
    },
    {
     "data": {
      "application/vnd.jupyter.widget-view+json": {
       "model_id": "59079e9ca5a348aaaa060c56f5023751"
      }
     },
     "metadata": {},
     "output_type": "display_data"
    },
    {
     "data": {
      "application/vnd.jupyter.widget-view+json": {
       "model_id": "9ce7917dff874969b4c812236587058a"
      }
     },
     "metadata": {},
     "output_type": "display_data"
    },
    {
     "data": {
      "application/vnd.jupyter.widget-view+json": {
       "model_id": "6bbddce7bfba4361a014e717586b7540"
      }
     },
     "metadata": {},
     "output_type": "display_data"
    },
    {
     "data": {
      "application/vnd.jupyter.widget-view+json": {
       "model_id": "c35396d4219b477090c4297a8b50958c"
      }
     },
     "metadata": {},
     "output_type": "display_data"
    },
    {
     "data": {
      "application/vnd.jupyter.widget-view+json": {
       "model_id": "0671385e99184ab6a8314807402625a7"
      }
     },
     "metadata": {},
     "output_type": "display_data"
    },
    {
     "data": {
      "application/vnd.jupyter.widget-view+json": {
       "model_id": "f280041ceda34801a51dff3a1a7a7e6f"
      }
     },
     "metadata": {},
     "output_type": "display_data"
    },
    {
     "data": {
      "application/vnd.jupyter.widget-view+json": {
       "model_id": "ff0555d016614fd8a4b4f73e4b14f525"
      }
     },
     "metadata": {},
     "output_type": "display_data"
    },
    {
     "data": {
      "application/vnd.jupyter.widget-view+json": {
       "model_id": "5c740f4321a34328b43cc6dd7c7a82f8"
      }
     },
     "metadata": {},
     "output_type": "display_data"
    },
    {
     "data": {
      "application/vnd.jupyter.widget-view+json": {
       "model_id": "6251f5583f724f47b067ebf904ed61bc"
      }
     },
     "metadata": {},
     "output_type": "display_data"
    },
    {
     "data": {
      "application/vnd.jupyter.widget-view+json": {
       "model_id": "5bacb83b602d465fbbe8167026b49ce9"
      }
     },
     "metadata": {},
     "output_type": "display_data"
    },
    {
     "data": {
      "application/vnd.jupyter.widget-view+json": {
       "model_id": "8465ed8cca2f4343acaf9337dd70a5a9"
      }
     },
     "metadata": {},
     "output_type": "display_data"
    },
    {
     "data": {
      "application/vnd.jupyter.widget-view+json": {
       "model_id": "d6a5a3b160854d8b9297b34fb14dad14"
      }
     },
     "metadata": {},
     "output_type": "display_data"
    },
    {
     "data": {
      "application/vnd.jupyter.widget-view+json": {
       "model_id": "f04e0d3486654bf79dcf7f3a28a653c9"
      }
     },
     "metadata": {},
     "output_type": "display_data"
    },
    {
     "data": {
      "application/vnd.jupyter.widget-view+json": {
       "model_id": "66cf78c9c495445d804015e638165e25"
      }
     },
     "metadata": {},
     "output_type": "display_data"
    },
    {
     "data": {
      "application/vnd.jupyter.widget-view+json": {
       "model_id": "15e8bb12df1b47e6b3017a597d85a9f5"
      }
     },
     "metadata": {},
     "output_type": "display_data"
    },
    {
     "data": {
      "application/vnd.jupyter.widget-view+json": {
       "model_id": "1cb77916af04440885be4fa4332d469e"
      }
     },
     "metadata": {},
     "output_type": "display_data"
    },
    {
     "data": {
      "application/vnd.jupyter.widget-view+json": {
       "model_id": "2c2d83c1c2cc4dc8b93016d2db07b8f7"
      }
     },
     "metadata": {},
     "output_type": "display_data"
    },
    {
     "data": {
      "application/vnd.jupyter.widget-view+json": {
       "model_id": "49c3d11822c64a46af804a6469c7a113"
      }
     },
     "metadata": {},
     "output_type": "display_data"
    },
    {
     "data": {
      "application/vnd.jupyter.widget-view+json": {
       "model_id": "a295078d75e94dbb9645942e5d3df866"
      }
     },
     "metadata": {},
     "output_type": "display_data"
    },
    {
     "data": {
      "application/vnd.jupyter.widget-view+json": {
       "model_id": "6c6d089bfc81456495dbef43f85e74cd"
      }
     },
     "metadata": {},
     "output_type": "display_data"
    },
    {
     "data": {
      "application/vnd.jupyter.widget-view+json": {
       "model_id": "afe81a43be024fa8a2e73b8b7a5501bd"
      }
     },
     "metadata": {},
     "output_type": "display_data"
    },
    {
     "data": {
      "application/vnd.jupyter.widget-view+json": {
       "model_id": "83e79b91821e4a6f88dd1cbf9bd4df55"
      }
     },
     "metadata": {},
     "output_type": "display_data"
    },
    {
     "data": {
      "application/vnd.jupyter.widget-view+json": {
       "model_id": "427b47f6ef4f4f3caa58df18ab4e3e67"
      }
     },
     "metadata": {},
     "output_type": "display_data"
    },
    {
     "data": {
      "application/vnd.jupyter.widget-view+json": {
       "model_id": "70d5f348d1eb4872b03959902d55ac00"
      }
     },
     "metadata": {},
     "output_type": "display_data"
    },
    {
     "data": {
      "application/vnd.jupyter.widget-view+json": {
       "model_id": "4658f7cd03ff491fad69e26de09bae0c"
      }
     },
     "metadata": {},
     "output_type": "display_data"
    },
    {
     "data": {
      "application/vnd.jupyter.widget-view+json": {
       "model_id": "7afa71e3bed646b787ac9d3f59848ba3"
      }
     },
     "metadata": {},
     "output_type": "display_data"
    },
    {
     "data": {
      "application/vnd.jupyter.widget-view+json": {
       "model_id": "a87b4656fb6440cf8d7ea84782acd348"
      }
     },
     "metadata": {},
     "output_type": "display_data"
    },
    {
     "data": {
      "application/vnd.jupyter.widget-view+json": {
       "model_id": "f0c9f155c41f4a6098322ee792bcff6e"
      }
     },
     "metadata": {},
     "output_type": "display_data"
    },
    {
     "data": {
      "application/vnd.jupyter.widget-view+json": {
       "model_id": "62905c747de4474abdce418b4d842409"
      }
     },
     "metadata": {},
     "output_type": "display_data"
    },
    {
     "data": {
      "application/vnd.jupyter.widget-view+json": {
       "model_id": "623f882d75d748b7ab762f2efc9e236e"
      }
     },
     "metadata": {},
     "output_type": "display_data"
    },
    {
     "data": {
      "application/vnd.jupyter.widget-view+json": {
       "model_id": "b56f720b3ee34056a5f859068774631d"
      }
     },
     "metadata": {},
     "output_type": "display_data"
    },
    {
     "data": {
      "application/vnd.jupyter.widget-view+json": {
       "model_id": "acfdf20255ee421888661efcd4b07f12"
      }
     },
     "metadata": {},
     "output_type": "display_data"
    },
    {
     "data": {
      "application/vnd.jupyter.widget-view+json": {
       "model_id": "27413a19239d4a3a926c4b71dde10649"
      }
     },
     "metadata": {},
     "output_type": "display_data"
    },
    {
     "data": {
      "application/vnd.jupyter.widget-view+json": {
       "model_id": "a2958de53f794e14a1d2d6e0857b8ce6"
      }
     },
     "metadata": {},
     "output_type": "display_data"
    },
    {
     "data": {
      "application/vnd.jupyter.widget-view+json": {
       "model_id": "b340c5dd15354dc19d2aa57f869e9334"
      }
     },
     "metadata": {},
     "output_type": "display_data"
    },
    {
     "data": {
      "application/vnd.jupyter.widget-view+json": {
       "model_id": "10723d60a9c84564b9ff7e5f2293765f"
      }
     },
     "metadata": {},
     "output_type": "display_data"
    },
    {
     "data": {
      "application/vnd.jupyter.widget-view+json": {
       "model_id": "7ced6bcdc04744da9eb0d1ddb45e86d4"
      }
     },
     "metadata": {},
     "output_type": "display_data"
    },
    {
     "data": {
      "application/vnd.jupyter.widget-view+json": {
       "model_id": "a5a489c326014eb2ad4eac4e9087b48a"
      }
     },
     "metadata": {},
     "output_type": "display_data"
    },
    {
     "data": {
      "application/vnd.jupyter.widget-view+json": {
       "model_id": "702fe008a6704fa8b8b704de1c9fea80"
      }
     },
     "metadata": {},
     "output_type": "display_data"
    },
    {
     "data": {
      "application/vnd.jupyter.widget-view+json": {
       "model_id": "0e1c00a1335543ada6e16973e06b54b7"
      }
     },
     "metadata": {},
     "output_type": "display_data"
    },
    {
     "data": {
      "application/vnd.jupyter.widget-view+json": {
       "model_id": "38152f00bf50492192580bbbdf1808a0"
      }
     },
     "metadata": {},
     "output_type": "display_data"
    },
    {
     "data": {
      "application/vnd.jupyter.widget-view+json": {
       "model_id": "c058df7e26c644278b96e6d5d31636fa"
      }
     },
     "metadata": {},
     "output_type": "display_data"
    },
    {
     "data": {
      "application/vnd.jupyter.widget-view+json": {
       "model_id": "f5fad0837f534776875d405d965f5596"
      }
     },
     "metadata": {},
     "output_type": "display_data"
    },
    {
     "data": {
      "application/vnd.jupyter.widget-view+json": {
       "model_id": "cc2ebd4e6d594d81aec13a0c563fcddb"
      }
     },
     "metadata": {},
     "output_type": "display_data"
    },
    {
     "data": {
      "application/vnd.jupyter.widget-view+json": {
       "model_id": "55e45a510f0545c6bf69c73f883027ca"
      }
     },
     "metadata": {},
     "output_type": "display_data"
    },
    {
     "data": {
      "application/vnd.jupyter.widget-view+json": {
       "model_id": "7780dd8bf46947b8abb317ffc4e10965"
      }
     },
     "metadata": {},
     "output_type": "display_data"
    },
    {
     "data": {
      "application/vnd.jupyter.widget-view+json": {
       "model_id": "95cc60e72a4c4f76a69b124ffccbcb2a"
      }
     },
     "metadata": {},
     "output_type": "display_data"
    },
    {
     "name": "stdout",
     "output_type": "stream",
     "text": [
      "\n"
     ]
    }
   ],
   "source": [
    "# Train the model, iterating on the data in batches of 32 samples\n",
    "tqdm = TQDMNotebookCallback()\n",
    "\n",
    "tbCallBack = keras.callbacks.TensorBoard(\n",
    "    log_dir='/Users/jaco/code/tabby/each_way/{}/summary/{}'.format(version, tag), \n",
    "    histogram_freq=0,\n",
    "    write_graph=True,\n",
    "    write_images=True)\n",
    "\n",
    "model.fit(\n",
    "    X.as_matrix(), \n",
    "    Y.as_matrix(),\n",
    "    validation_split=0.2,\n",
    "    shuffle=True,\n",
    "    epochs=epochs,\n",
    "    batch_size=32,\n",
    "    verbose=0,\n",
    "    callbacks=[tqdm, tbCallBack])\n",
    "\n",
    "# creates a HDF5 file\n",
    "model.save(file_name)"
   ]
  },
  {
   "cell_type": "code",
   "execution_count": null,
   "metadata": {
    "collapsed": true
   },
   "outputs": [],
   "source": []
  }
 ],
 "metadata": {
  "kernelspec": {
   "display_name": "Python 3",
   "language": "python",
   "name": "python3"
  },
  "language_info": {
   "codemirror_mode": {
    "name": "ipython",
    "version": 3
   },
   "file_extension": ".py",
   "mimetype": "text/x-python",
   "name": "python",
   "nbconvert_exporter": "python",
   "pygments_lexer": "ipython3",
   "version": "3.6.1"
  }
 },
 "nbformat": 4,
 "nbformat_minor": 2
}
