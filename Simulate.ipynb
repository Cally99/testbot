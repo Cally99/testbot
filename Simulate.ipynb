{
 "cells": [
  {
   "cell_type": "code",
   "execution_count": 1,
   "metadata": {
    "collapsed": true
   },
   "outputs": [],
   "source": [
    "from sqlalchemy import create_engine\n",
    "from operator import itemgetter\n",
    "import json\n",
    "import math\n",
    "\n",
    "import pandas as pd\n",
    "import numpy as np\n",
    "#import seaborn as sns\n",
    "import matplotlib.pyplot as plt\n",
    "%matplotlib inline"
   ]
  },
  {
   "cell_type": "code",
   "execution_count": 2,
   "metadata": {},
   "outputs": [
    {
     "name": "stdout",
     "output_type": "stream",
     "text": [
      "9299 races loaded!\n"
     ]
    }
   ],
   "source": [
    "engine = create_engine('sqlite:///tab.db')\n",
    "conn = engine.connect()\n",
    "\n",
    "dfo = pd.read_sql_table('race', conn)\n",
    "print('{} races loaded!'.format(len(dfo)))"
   ]
  },
  {
   "cell_type": "code",
   "execution_count": 3,
   "metadata": {},
   "outputs": [
    {
     "name": "stdout",
     "output_type": "stream",
     "text": [
      "3796 G races!\n"
     ]
    }
   ],
   "source": [
    "category = 'G'\n",
    "dfo = dfo.loc[dfo['race_type'].isin([category])]\n",
    "print('{} {} races!'.format(len(dfo), category))"
   ]
  },
  {
   "cell_type": "code",
   "execution_count": 4,
   "metadata": {},
   "outputs": [
    {
     "data": {
      "text/html": [
       "<div>\n",
       "<style>\n",
       "    .dataframe thead tr:only-child th {\n",
       "        text-align: right;\n",
       "    }\n",
       "\n",
       "    .dataframe thead th {\n",
       "        text-align: left;\n",
       "    }\n",
       "\n",
       "    .dataframe tbody tr th {\n",
       "        vertical-align: top;\n",
       "    }\n",
       "</style>\n",
       "<table border=\"1\" class=\"dataframe\">\n",
       "  <thead>\n",
       "    <tr style=\"text-align: right;\">\n",
       "      <th></th>\n",
       "      <th>id</th>\n",
       "      <th>race_number</th>\n",
       "      <th>race_distance</th>\n",
       "      <th>num_runners</th>\n",
       "    </tr>\n",
       "  </thead>\n",
       "  <tbody>\n",
       "    <tr>\n",
       "      <th>count</th>\n",
       "      <td>3796.000000</td>\n",
       "      <td>3796.000000</td>\n",
       "      <td>3796.000000</td>\n",
       "      <td>3796.000000</td>\n",
       "    </tr>\n",
       "    <tr>\n",
       "      <th>mean</th>\n",
       "      <td>5195.928082</td>\n",
       "      <td>6.391992</td>\n",
       "      <td>435.177028</td>\n",
       "      <td>7.641201</td>\n",
       "    </tr>\n",
       "    <tr>\n",
       "      <th>std</th>\n",
       "      <td>2899.775745</td>\n",
       "      <td>3.288368</td>\n",
       "      <td>82.814514</td>\n",
       "      <td>0.777367</td>\n",
       "    </tr>\n",
       "    <tr>\n",
       "      <th>min</th>\n",
       "      <td>1.000000</td>\n",
       "      <td>1.000000</td>\n",
       "      <td>0.000000</td>\n",
       "      <td>4.000000</td>\n",
       "    </tr>\n",
       "    <tr>\n",
       "      <th>25%</th>\n",
       "      <td>3011.750000</td>\n",
       "      <td>4.000000</td>\n",
       "      <td>390.000000</td>\n",
       "      <td>8.000000</td>\n",
       "    </tr>\n",
       "    <tr>\n",
       "      <th>50%</th>\n",
       "      <td>5290.500000</td>\n",
       "      <td>6.000000</td>\n",
       "      <td>431.000000</td>\n",
       "      <td>8.000000</td>\n",
       "    </tr>\n",
       "    <tr>\n",
       "      <th>75%</th>\n",
       "      <td>7714.250000</td>\n",
       "      <td>9.000000</td>\n",
       "      <td>515.000000</td>\n",
       "      <td>8.000000</td>\n",
       "    </tr>\n",
       "    <tr>\n",
       "      <th>max</th>\n",
       "      <td>9971.000000</td>\n",
       "      <td>12.000000</td>\n",
       "      <td>732.000000</td>\n",
       "      <td>10.000000</td>\n",
       "    </tr>\n",
       "  </tbody>\n",
       "</table>\n",
       "</div>"
      ],
      "text/plain": [
       "                id  race_number  race_distance  num_runners\n",
       "count  3796.000000  3796.000000    3796.000000  3796.000000\n",
       "mean   5195.928082     6.391992     435.177028     7.641201\n",
       "std    2899.775745     3.288368      82.814514     0.777367\n",
       "min       1.000000     1.000000       0.000000     4.000000\n",
       "25%    3011.750000     4.000000     390.000000     8.000000\n",
       "50%    5290.500000     6.000000     431.000000     8.000000\n",
       "75%    7714.250000     9.000000     515.000000     8.000000\n",
       "max    9971.000000    12.000000     732.000000    10.000000"
      ]
     },
     "execution_count": 4,
     "metadata": {},
     "output_type": "execute_result"
    }
   ],
   "source": [
    "dfo['results'] = dfo['results_data'].map(json.loads)\n",
    "dfo['runners'] = dfo['runners_data'].map(json.loads)\n",
    "dfo.describe()"
   ]
  },
  {
   "cell_type": "code",
   "execution_count": 5,
   "metadata": {
    "collapsed": true
   },
   "outputs": [],
   "source": [
    "# bet size\n",
    "balance = 1000\n",
    "bet_chunk = balance * 0.01"
   ]
  },
  {
   "cell_type": "code",
   "execution_count": 6,
   "metadata": {
    "collapsed": true
   },
   "outputs": [],
   "source": [
    "def bettable(r):\n",
    "    return r['probability'] > r['odds_scale'] and r['odds_win'] > 0"
   ]
  },
  {
   "cell_type": "code",
   "execution_count": 7,
   "metadata": {
    "collapsed": true
   },
   "outputs": [],
   "source": [
    "def process_strategy(df, strategy):\n",
    "    \"\"\"run strategy, must pass runners returned back into results (it might be modified)\"\"\"\n",
    "    book = []\n",
    "    for _, race in df.iterrows():\n",
    "#         print(race['num_runners'])\n",
    "        runners = race['runners']\n",
    "        \n",
    "        # drop scratched\n",
    "        runners = [r for r in runners if r['odds_win']]\n",
    "        if not runners:\n",
    "            continue\n",
    "    \n",
    "        # default 0 bets\n",
    "        for runner in runners:\n",
    "            runner['bet'] = 0\n",
    "        \n",
    "        runners, num_bets = strategy(runners, bet_chunk)\n",
    "        if num_bets:\n",
    "            bet_results(book, runners, race['num_runners'], bet_chunk, num_bets, race['race_type'])\n",
    "    return book"
   ]
  },
  {
   "cell_type": "code",
   "execution_count": 8,
   "metadata": {
    "collapsed": true
   },
   "outputs": [],
   "source": [
    "def bet_results(book, runners, num_runners, bet_chunk, num_bets, race_type):\n",
    "    \"\"\"get results from bets\"\"\"\n",
    "    win_diff = 0\n",
    "    max_diff = 0\n",
    "    outcome = {\n",
    "        'success': 0,\n",
    "        'profit': -bet_chunk,\n",
    "        'num_bets': num_bets,\n",
    "        'num_runners': num_runners,\n",
    "    }\n",
    "    for i, runner in enumerate(runners):\n",
    "        diff = abs(runner['odds_scale'] - runner['probability'])\n",
    "        max_diff = max(max_diff, diff)\n",
    "        if int(runner['finishingPosition']) == 1:\n",
    "            win_diff = diff\n",
    "            if runner['bet'] > 0:\n",
    "                # odds = runner['parimutuel']['returnWin'] if runner['parimutuel']['returnWin'] else runner['odds_win']\n",
    "                odds = runner['odds_win']\n",
    "                profit = runner['bet'] * odds - bet_chunk\n",
    "                outcome = {\n",
    "                    'success': 1,\n",
    "                    'profit': profit,\n",
    "                    'num_bets': num_bets,\n",
    "                    'num_runners': num_runners,\n",
    "                }\n",
    "            break\n",
    "\n",
    "    outcome['max_diff'] = max_diff\n",
    "    outcome['win_diff'] = win_diff\n",
    "    outcome['bet_chunk'] = bet_chunk\n",
    "    outcome['race_type'] = race_type\n",
    "    outcome['runners'] = runners\n",
    "    book.append(outcome)"
   ]
  },
  {
   "cell_type": "code",
   "execution_count": 30,
   "metadata": {},
   "outputs": [
    {
     "name": "stdout",
     "output_type": "stream",
     "text": [
      "Dataframe shuffled!\n"
     ]
    }
   ],
   "source": [
    "def bet_positive_max(runners, bet_chunk):\n",
    "    \"\"\"bet max given prob>scale\"\"\"\n",
    "\n",
    "    diffs = [(r['probability'] - r['odds_scale'], r) for r in runners]\n",
    "    diffs.sort(key=itemgetter(0), reverse=True)\n",
    "\n",
    "    ##############################################################################################\n",
    "    # -1% roi 42% wr 100% races\n",
    "    ##############################################################################################\n",
    "#     num_bets = math.ceil(len(runners) * 0.125)\n",
    "\n",
    "\n",
    "    ##############################################################################################\n",
    "    # -2% roi 29% wr 100% races\n",
    "    ##############################################################################################\n",
    "    num_bets = 1\n",
    "\n",
    "\n",
    "    ##############################################################################################\n",
    "    # 10% roi 35% wr 33% races\n",
    "    ##############################################################################################\n",
    "#     num_bets = 1\n",
    "#     if len(runners) > 8:\n",
    "#         return [], 0\n",
    "\n",
    "    \n",
    "    ##############################################################################################\n",
    "    # -3% roi 31% wr 77% races\n",
    "    ##############################################################################################\n",
    "#     num_bets = 1\n",
    "#     if len(runners) > 12:\n",
    "#         return [], 0\n",
    "\n",
    "    \n",
    "    ##############################################################################################\n",
    "    # 0% roi 53% wr 33% races\n",
    "    ##############################################################################################\n",
    "#     num_bets = 2\n",
    "#     if len(runners) > 8:\n",
    "#         return [], 0\n",
    "\n",
    "    total_probs = sum(d[1]['probability'] for d in diffs[:num_bets])\n",
    "    for d, r in diffs[:num_bets]:\n",
    "        r['bet'] = bet_chunk * r['probability'] / total_probs\n",
    "\n",
    "    runners = [d[1] for d in diffs]\n",
    "    return runners, num_bets\n",
    "\n",
    "\n",
    "dfo = dfo.sample(frac=1).reset_index(drop=True)\n",
    "print('Dataframe shuffled!')\n",
    "\n",
    "book = process_strategy(dfo, bet_positive_max)"
   ]
  },
  {
   "cell_type": "code",
   "execution_count": 39,
   "metadata": {},
   "outputs": [
    {
     "name": "stdout",
     "output_type": "stream",
     "text": [
      "Dataframe shuffled!\n"
     ]
    }
   ],
   "source": [
    "def bet_positive_dutch(runners, bet_chunk):\n",
    "    \"\"\"dutch betting on probability\"\"\"\n",
    "\n",
    "    # sort runners from favourite to underdog\n",
    "    ###############################################################################################\n",
    "    # -10% roi 69% wr 100% races\n",
    "    # runners.sort(key=itemgetter('probability'), reverse=True)\n",
    "    ###############################################################################################\n",
    "    # -7% roi 68% wr 100% races\n",
    "    runners.sort(key=lambda r: r['probability'] - r['odds_scale'], reverse=True)\n",
    "    ###############################################################################################\n",
    "    \n",
    "    # start betting on all and cut off worse runner till positive outcome\n",
    "    for num_bets in range(len(runners), 0, -1):\n",
    "\n",
    "        # reset bets for every iteration\n",
    "        for runner in runners:\n",
    "            runner['bet'] = 0\n",
    "\n",
    "        # recreate smaller pool\n",
    "        pool = runners[:num_bets]\n",
    "        # print('pool is {} from {} bets'.format(len(pool), num_bets))\n",
    "\n",
    "        # all odds\n",
    "        total_probs = sum([r['probability'] for r in pool])\n",
    "#         total_scale = sum([r['odds_scale'] for r in pool])\n",
    "        # print('total probability = {}'.format(total))\n",
    "\n",
    "        # dutch for all in pool\n",
    "        profits = []\n",
    "        for runner in pool:\n",
    "\n",
    "            # scale bet according to odds or prediction?\n",
    "            ###################################################################################\n",
    "            # -7% roi 68% wr\n",
    "            runner['bet'] = bet_chunk * runner['probability'] / total_probs\n",
    "            ###################################################################################\n",
    "            # -13% roi 79% wr 100% races\n",
    "            # runner['bet'] = bet_chunk * runner['odds_scale'] / total_scale\n",
    "            ###################################################################################\n",
    "            \n",
    "            # need to check all as we scale to probs and not odds\n",
    "            profits.append(runner['bet'] * runner['odds_win'] - bet_chunk)\n",
    "\n",
    "        # exit with average profit\n",
    "        avg_profit = sum(profits) / len(profits)\n",
    "        ###################################################################################\n",
    "        # -9% roi 76% wr 30/30\n",
    "        #if avg_profit > 0:\n",
    "        ###################################################################################\n",
    "        # -1% roi 38% wr 26/30\n",
    "        #if avg_profit > bet_chunk * 1:\n",
    "        ###################################################################################\n",
    "        # 1% roi 25% wr 19/30\n",
    "        #if avg_profit > bet_chunk * 2:\n",
    "        ###################################################################################\n",
    "        # -4% roi 18% wr 13/30\n",
    "        #if avg_profit > bet_chunk * 3:\n",
    "        ###################################################################################\n",
    "\n",
    "        # exit with minimum profit\n",
    "        ###################################################################################\n",
    "        # -7% roi 68% wr\n",
    "        #if all(p > 0 for p in profits):\n",
    "        ###################################################################################\n",
    "        # 0% roi 35% wr 26/31\n",
    "        # if min(profits) > bet_chunk * 1:\n",
    "        ###################################################################################\n",
    "        # 2% roi 28% wr 22/31\n",
    "        #if min(profits) > bet_chunk * 1.5:\n",
    "        ###################################################################################\n",
    "        # 4% roi 24% wr 19/31\n",
    "        #if min(profits) > bet_chunk * 2:\n",
    "        ###################################################################################\n",
    "        # 3% roi 21% wr 17/31\n",
    "        #if min(profits) > bet_chunk * 2.5:\n",
    "        ###################################################################################\n",
    "        # -1% roi 18% wr 13/31\n",
    "        #if min(profits) > bet_chunk * 3:\n",
    "        ###################################################################################\n",
    "        \n",
    "        #4%  2 - 2\n",
    "        #3%  1.745 - 1.75\n",
    "        #2%  2.25 - 1.75\n",
    "        #2%  2 - 2.25\n",
    "        #3.7% 1.7 - 2\n",
    "        #3.7% 1.8 - 2\n",
    "        #3.7% 1.9 - 2 (1.9 5.1% - 1.8 5.3% - 1.7 4.9%)\n",
    "        #3.4% 2.1 - 2\n",
    "        # 5.0 (1.8,1.8)\n",
    "        # 4.0 (2, 1.8)\n",
    "#         if avg_profit > bet_chunk * 1.9 and min(profits) > bet_chunk * 1.8:\n",
    "        if min(profits) > 0:\n",
    "            break\n",
    "    else:\n",
    "        #print('no profit determined')\n",
    "        return [], 0\n",
    "    \n",
    "    return pool, num_bets\n",
    "\n",
    "\n",
    "dfo = dfo.sample(frac=1).reset_index(drop=True)\n",
    "print('Dataframe shuffled!')\n",
    "\n",
    "book = process_strategy(dfo, bet_positive_dutch)"
   ]
  },
  {
   "cell_type": "code",
   "execution_count": 40,
   "metadata": {},
   "outputs": [
    {
     "data": {
      "text/html": [
       "<div>\n",
       "<style>\n",
       "    .dataframe thead tr:only-child th {\n",
       "        text-align: right;\n",
       "    }\n",
       "\n",
       "    .dataframe thead th {\n",
       "        text-align: left;\n",
       "    }\n",
       "\n",
       "    .dataframe tbody tr th {\n",
       "        vertical-align: top;\n",
       "    }\n",
       "</style>\n",
       "<table border=\"1\" class=\"dataframe\">\n",
       "  <thead>\n",
       "    <tr style=\"text-align: right;\">\n",
       "      <th></th>\n",
       "      <th>bet_chunk</th>\n",
       "      <th>max_diff</th>\n",
       "      <th>num_bets</th>\n",
       "      <th>num_runners</th>\n",
       "      <th>profit</th>\n",
       "      <th>race_type</th>\n",
       "      <th>runners</th>\n",
       "      <th>success</th>\n",
       "      <th>win_diff</th>\n",
       "    </tr>\n",
       "  </thead>\n",
       "  <tbody>\n",
       "    <tr>\n",
       "      <th>3786</th>\n",
       "      <td>10.0</td>\n",
       "      <td>0.036341</td>\n",
       "      <td>3</td>\n",
       "      <td>8.0</td>\n",
       "      <td>-10.000000</td>\n",
       "      <td>G</td>\n",
       "      <td>[{'runnerName': 'FAMES THE AIM', 'runnerNumber...</td>\n",
       "      <td>0</td>\n",
       "      <td>0.000000</td>\n",
       "    </tr>\n",
       "    <tr>\n",
       "      <th>3787</th>\n",
       "      <td>10.0</td>\n",
       "      <td>0.039350</td>\n",
       "      <td>3</td>\n",
       "      <td>8.0</td>\n",
       "      <td>1.057165</td>\n",
       "      <td>G</td>\n",
       "      <td>[{'runnerName': 'FERNANDO EXPRESS', 'runnerNum...</td>\n",
       "      <td>1</td>\n",
       "      <td>0.039350</td>\n",
       "    </tr>\n",
       "    <tr>\n",
       "      <th>3788</th>\n",
       "      <td>10.0</td>\n",
       "      <td>0.014428</td>\n",
       "      <td>5</td>\n",
       "      <td>8.0</td>\n",
       "      <td>0.312075</td>\n",
       "      <td>G</td>\n",
       "      <td>[{'runnerName': 'ELITE MARJ', 'runnerNumber': ...</td>\n",
       "      <td>1</td>\n",
       "      <td>0.014428</td>\n",
       "    </tr>\n",
       "    <tr>\n",
       "      <th>3789</th>\n",
       "      <td>10.0</td>\n",
       "      <td>0.032058</td>\n",
       "      <td>3</td>\n",
       "      <td>8.0</td>\n",
       "      <td>0.644973</td>\n",
       "      <td>G</td>\n",
       "      <td>[{'runnerName': 'RED ONES', 'runnerNumber': 8,...</td>\n",
       "      <td>1</td>\n",
       "      <td>0.032058</td>\n",
       "    </tr>\n",
       "    <tr>\n",
       "      <th>3790</th>\n",
       "      <td>10.0</td>\n",
       "      <td>0.177419</td>\n",
       "      <td>3</td>\n",
       "      <td>9.0</td>\n",
       "      <td>2.409253</td>\n",
       "      <td>G</td>\n",
       "      <td>[{'runnerName': 'NOT AVAILABLE', 'runnerNumber...</td>\n",
       "      <td>1</td>\n",
       "      <td>0.177419</td>\n",
       "    </tr>\n",
       "    <tr>\n",
       "      <th>3791</th>\n",
       "      <td>10.0</td>\n",
       "      <td>0.010189</td>\n",
       "      <td>2</td>\n",
       "      <td>6.0</td>\n",
       "      <td>-10.000000</td>\n",
       "      <td>G</td>\n",
       "      <td>[{'runnerName': 'CRONIN', 'runnerNumber': 1, '...</td>\n",
       "      <td>0</td>\n",
       "      <td>0.000000</td>\n",
       "    </tr>\n",
       "    <tr>\n",
       "      <th>3792</th>\n",
       "      <td>10.0</td>\n",
       "      <td>0.023906</td>\n",
       "      <td>3</td>\n",
       "      <td>8.0</td>\n",
       "      <td>-10.000000</td>\n",
       "      <td>G</td>\n",
       "      <td>[{'runnerName': 'MIJA SYDNEY', 'runnerNumber':...</td>\n",
       "      <td>0</td>\n",
       "      <td>0.000000</td>\n",
       "    </tr>\n",
       "    <tr>\n",
       "      <th>3793</th>\n",
       "      <td>10.0</td>\n",
       "      <td>0.093730</td>\n",
       "      <td>2</td>\n",
       "      <td>8.0</td>\n",
       "      <td>2.591040</td>\n",
       "      <td>G</td>\n",
       "      <td>[{'runnerName': 'ROSA TEE', 'runnerNumber': 7,...</td>\n",
       "      <td>1</td>\n",
       "      <td>0.093730</td>\n",
       "    </tr>\n",
       "    <tr>\n",
       "      <th>3794</th>\n",
       "      <td>10.0</td>\n",
       "      <td>0.011809</td>\n",
       "      <td>4</td>\n",
       "      <td>8.0</td>\n",
       "      <td>1.540445</td>\n",
       "      <td>G</td>\n",
       "      <td>[{'runnerName': 'MAURICE MINOR', 'runnerNumber...</td>\n",
       "      <td>1</td>\n",
       "      <td>0.011809</td>\n",
       "    </tr>\n",
       "    <tr>\n",
       "      <th>3795</th>\n",
       "      <td>10.0</td>\n",
       "      <td>0.078829</td>\n",
       "      <td>2</td>\n",
       "      <td>8.0</td>\n",
       "      <td>2.453262</td>\n",
       "      <td>G</td>\n",
       "      <td>[{'runnerName': 'TRULY DOMINANT', 'runnerNumbe...</td>\n",
       "      <td>1</td>\n",
       "      <td>0.078829</td>\n",
       "    </tr>\n",
       "  </tbody>\n",
       "</table>\n",
       "</div>"
      ],
      "text/plain": [
       "      bet_chunk  max_diff  num_bets  num_runners     profit race_type  \\\n",
       "3786       10.0  0.036341         3          8.0 -10.000000         G   \n",
       "3787       10.0  0.039350         3          8.0   1.057165         G   \n",
       "3788       10.0  0.014428         5          8.0   0.312075         G   \n",
       "3789       10.0  0.032058         3          8.0   0.644973         G   \n",
       "3790       10.0  0.177419         3          9.0   2.409253         G   \n",
       "3791       10.0  0.010189         2          6.0 -10.000000         G   \n",
       "3792       10.0  0.023906         3          8.0 -10.000000         G   \n",
       "3793       10.0  0.093730         2          8.0   2.591040         G   \n",
       "3794       10.0  0.011809         4          8.0   1.540445         G   \n",
       "3795       10.0  0.078829         2          8.0   2.453262         G   \n",
       "\n",
       "                                                runners  success  win_diff  \n",
       "3786  [{'runnerName': 'FAMES THE AIM', 'runnerNumber...        0  0.000000  \n",
       "3787  [{'runnerName': 'FERNANDO EXPRESS', 'runnerNum...        1  0.039350  \n",
       "3788  [{'runnerName': 'ELITE MARJ', 'runnerNumber': ...        1  0.014428  \n",
       "3789  [{'runnerName': 'RED ONES', 'runnerNumber': 8,...        1  0.032058  \n",
       "3790  [{'runnerName': 'NOT AVAILABLE', 'runnerNumber...        1  0.177419  \n",
       "3791  [{'runnerName': 'CRONIN', 'runnerNumber': 1, '...        0  0.000000  \n",
       "3792  [{'runnerName': 'MIJA SYDNEY', 'runnerNumber':...        0  0.000000  \n",
       "3793  [{'runnerName': 'ROSA TEE', 'runnerNumber': 7,...        1  0.093730  \n",
       "3794  [{'runnerName': 'MAURICE MINOR', 'runnerNumber...        1  0.011809  \n",
       "3795  [{'runnerName': 'TRULY DOMINANT', 'runnerNumbe...        1  0.078829  "
      ]
     },
     "execution_count": 40,
     "metadata": {},
     "output_type": "execute_result"
    }
   ],
   "source": [
    "df = pd.DataFrame(book)\n",
    "df.tail(10)"
   ]
  },
  {
   "cell_type": "code",
   "execution_count": 41,
   "metadata": {},
   "outputs": [
    {
     "data": {
      "text/plain": [
       "<matplotlib.axes._subplots.AxesSubplot at 0x118201d30>"
      ]
     },
     "execution_count": 41,
     "metadata": {},
     "output_type": "execute_result"
    },
    {
     "data": {
      "image/png": "[encoded data removed]",
      "text/plain": [
       "<matplotlib.figure.Figure at 0x118c72898>"
      ]
     },
     "metadata": {},
     "output_type": "display_data"
    }
   ],
   "source": [
    "# ROI\n",
    "roi = df.profit.cumsum() / df.bet_chunk.cumsum()\n",
    "roi_title = '{:.1f}% ROI'.format(roi.iloc[-1] * 100)\n",
    "roi.rolling(10).mean().plot(title=roi_title, xlim=(100), ylim=(-1, 1))"
   ]
  },
  {
   "cell_type": "code",
   "execution_count": 42,
   "metadata": {},
   "outputs": [
    {
     "data": {
      "text/plain": [
       "<matplotlib.axes._subplots.AxesSubplot at 0x1185ad2e8>"
      ]
     },
     "execution_count": 42,
     "metadata": {},
     "output_type": "execute_result"
    },
    {
     "data": {
      "image/png": "[encoded data removed]",
      "text/plain": [
       "<matplotlib.figure.Figure at 0x1185cdc18>"
      ]
     },
     "metadata": {},
     "output_type": "display_data"
    }
   ],
   "source": [
    "df['ones'] = np.ones(len(df))\n",
    "df['win_rate'] = df.success.cumsum() / df.ones.cumsum()\n",
    "win_title = '{:.0f}% win rate'.format(df.win_rate.iloc[-1] * 100)\n",
    "df.win_rate.plot(title=win_title, xlim=(100), ylim=(0, 1))"
   ]
  },
  {
   "cell_type": "code",
   "execution_count": 43,
   "metadata": {},
   "outputs": [
    {
     "data": {
      "text/plain": [
       "<matplotlib.axes._subplots.AxesSubplot at 0x1197c53c8>"
      ]
     },
     "execution_count": 43,
     "metadata": {},
     "output_type": "execute_result"
    },
    {
     "data": {
      "image/png": "[encoded data removed]",
      "text/plain": [
       "<matplotlib.figure.Figure at 0x1186a2390>"
      ]
     },
     "metadata": {},
     "output_type": "display_data"
    },
    {
     "data": {
      "image/png": "[encoded data removed]",
      "text/plain": [
       "<matplotlib.figure.Figure at 0x118645d30>"
      ]
     },
     "metadata": {},
     "output_type": "display_data"
    },
    {
     "data": {
      "image/png": "[encoded data removed]",
      "text/plain": [
       "<matplotlib.figure.Figure at 0x1197e7c50>"
      ]
     },
     "metadata": {},
     "output_type": "display_data"
    }
   ],
   "source": [
    "# profit per num bets \n",
    "df.num_bets.hist()\n",
    "groups = df.groupby('num_bets').mean()\n",
    "groups.plot(kind='bar', y='success', title='Win rate per #bets')\n",
    "groups.plot(kind='bar', y='profit', title='Profit per #bets')"
   ]
  },
  {
   "cell_type": "code",
   "execution_count": 44,
   "metadata": {},
   "outputs": [
    {
     "data": {
      "text/plain": [
       "<matplotlib.axes._subplots.AxesSubplot at 0x119722c18>"
      ]
     },
     "execution_count": 44,
     "metadata": {},
     "output_type": "execute_result"
    },
    {
     "data": {
      "image/png": "[encoded data removed]",
      "text/plain": [
       "<matplotlib.figure.Figure at 0x1186717b8>"
      ]
     },
     "metadata": {},
     "output_type": "display_data"
    },
    {
     "data": {
      "image/png": "[encoded data removed]",
      "text/plain": [
       "<matplotlib.figure.Figure at 0x11979d2e8>"
      ]
     },
     "metadata": {},
     "output_type": "display_data"
    },
    {
     "data": {
      "image/png": "[encoded data removed]",
      "text/plain": [
       "<matplotlib.figure.Figure at 0x119755e10>"
      ]
     },
     "metadata": {},
     "output_type": "display_data"
    }
   ],
   "source": [
    "# profit per num runners\n",
    "df.num_runners.hist()\n",
    "groups = df.groupby('num_runners').mean()\n",
    "groups.plot(kind='bar', y='success', title='Win rate per #runners')\n",
    "groups.plot(kind='bar', y='profit', title='Profit per #runners')"
   ]
  },
  {
   "cell_type": "code",
   "execution_count": 45,
   "metadata": {},
   "outputs": [
    {
     "data": {
      "text/plain": [
       "<matplotlib.axes._subplots.AxesSubplot at 0x1198cdcf8>"
      ]
     },
     "execution_count": 45,
     "metadata": {},
     "output_type": "execute_result"
    },
    {
     "data": {
      "image/png": "[encoded data removed]",
      "text/plain": [
       "<matplotlib.figure.Figure at 0x118a74358>"
      ]
     },
     "metadata": {},
     "output_type": "display_data"
    }
   ],
   "source": [
    "# max diff\n",
    "df.win_diff.plot(kind='hist', xlim=(0, 0.1), bins=200, alpha=0.6)\n",
    "df.max_diff.plot(kind='hist', xlim=(0, 0.1), bins=200, alpha=0.2)"
   ]
  },
  {
   "cell_type": "code",
   "execution_count": 46,
   "metadata": {},
   "outputs": [
    {
     "data": {
      "text/plain": [
       "<matplotlib.axes._subplots.AxesSubplot at 0x119b8af28>"
      ]
     },
     "execution_count": 46,
     "metadata": {},
     "output_type": "execute_result"
    },
    {
     "data": {
      "image/png": "[encoded data removed]",
      "text/plain": [
       "<matplotlib.figure.Figure at 0x1185e1400>"
      ]
     },
     "metadata": {},
     "output_type": "display_data"
    }
   ],
   "source": [
    "df.profit.rolling(100).sum().plot(alpha=0.5)\n",
    "df.profit.cumsum().plot(alpha=0.8)"
   ]
  },
  {
   "cell_type": "code",
   "execution_count": 47,
   "metadata": {},
   "outputs": [
    {
     "data": {
      "text/plain": [
       "<matplotlib.axes._subplots.AxesSubplot at 0x11a457d68>"
      ]
     },
     "execution_count": 47,
     "metadata": {},
     "output_type": "execute_result"
    },
    {
     "data": {
      "image/png": "[encoded data removed]",
      "text/plain": [
       "<matplotlib.figure.Figure at 0x1197aaf98>"
      ]
     },
     "metadata": {},
     "output_type": "display_data"
    },
    {
     "data": {
      "image/png": "[encoded data removed]",
      "text/plain": [
       "<matplotlib.figure.Figure at 0x11a3c2400>"
      ]
     },
     "metadata": {},
     "output_type": "display_data"
    }
   ],
   "source": [
    "# bets/runners\n",
    "df['bets_vs_runners'] = df.num_bets / df.num_runners\n",
    "df['bets_vs_runners'].hist(bins=10)\n",
    "groups = df.groupby(df['bets_vs_runners'].apply(lambda x: round(x, 3))).sum()\n",
    "groups.plot(kind='line', y='profit', title='mean profit/bets_per_runners')"
   ]
  },
  {
   "cell_type": "code",
   "execution_count": null,
   "metadata": {
    "collapsed": true
   },
   "outputs": [],
   "source": []
  }
 ],
 "metadata": {
  "kernelspec": {
   "display_name": "Python 3",
   "language": "python",
   "name": "python3"
  },
  "language_info": {
   "codemirror_mode": {
    "name": "ipython",
    "version": 3
   },
   "file_extension": ".py",
   "mimetype": "text/x-python",
   "name": "python",
   "nbconvert_exporter": "python",
   "pygments_lexer": "ipython3",
   "version": "3.6.1"
  }
 },
 "nbformat": 4,
 "nbformat_minor": 2
}
