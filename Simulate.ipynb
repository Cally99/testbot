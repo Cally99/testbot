{
 "cells": [
  {
   "cell_type": "code",
   "execution_count": null,
   "metadata": {},
   "outputs": [],
   "source": [
    "def bet_positive_dutch(runners, bet_chunk):\n",
    "    \"\"\"dutch betting on probability\"\"\"\n",
    "\n",
    "    # drop scratched\n",
    "    runners = [r for r in runners if r['odds_win']]\n",
    "    num_runners = len(runners)    \n",
    "    if not num_runners:\n",
    "        return [], 0\n",
    "\n",
    "    # sort runners from favourite to underdog\n",
    "    runners.sort(key=itemgetter('probability'), reverse=True)\n",
    "\n",
    "    # start betting on all and cut off worse runner till positive outcome\n",
    "    for num_bets in range(num_runners, 0, -1):\n",
    "\n",
    "        # reset bets for all\n",
    "        for runner in runners:\n",
    "            runner['bet'] = 0\n",
    "\n",
    "        # recreate smaller pool\n",
    "        pool = runners[:num_bets]\n",
    "        # print('pool is {} from {} bets'.format(len(pool), num_bets))\n",
    "\n",
    "        # all odds\n",
    "        total = sum([r['probability'] for r in pool])\n",
    "        # print('total probability = {}'.format(total))\n",
    "\n",
    "        # dutch for all in pool\n",
    "        profits = []\n",
    "        for runner in pool:\n",
    "            runner['bet'] = runner['probability'] / total * bet_chunk\n",
    "            profits.append(runner['bet'] * runner['odds_win'] - bet_chunk)\n",
    "\n",
    "        # exit when profitable\n",
    "        # need to check all as we scale to probs and not odds\n",
    "        if all(p > 0 for p in profits):\n",
    "            break\n",
    "    else:\n",
    "        print('no profit determined')\n",
    "        return [], 0\n",
    "    \n",
    "    # ignore anyone's game runs\n",
    "    # 100%   -1% (2541)\n",
    "    # < 70%  -1% (2540)\n",
    "    # < 60%  -1% (2523)\n",
    "    # < 50%  -1% (2342)\n",
    "    # < 45%  -2% (2283)\n",
    "    # < 40%  6%  (658)\n",
    "    # < 35%  5%  (507)\n",
    "    # < 30%  5%  (324)\n",
    "    # < 25%  15% (175)\n",
    "    # < 20%  15% (131)\n",
    "    # < 15%  only 78 games\n",
    "    # < 10%  -\n",
    "    # print('num bets per runners {:.2f}'.format(num_bets / num_runners))\n",
    "#     if num_bets / num_runners >= 0.45:\n",
    "        # print('num bets {} num runners {}'.format(num_bets, num_runners))\n",
    "#         return [], 0\n",
    "    \n",
    "    return pool, num_bets\n",
    "\n",
    "\n",
    "dfo = dfo.sample(frac=1).reset_index(drop=True)\n",
    "print('Dataframe shuffled!')\n",
    "\n",
    "book = process_strategy(dfo, bet_positive_dutch)"
   ]
  },
  {
   "cell_type": "code",
   "execution_count": 8,
   "metadata": {},
   "outputs": [
    {
     "name": "stdout",
     "output_type": "stream",
     "text": [
      "Dataframe shuffled!\n"
     ]
    }
   ],
   "source": [
    "def bet_positive_only(runners, bet_chunk):\n",
    "    \"\"\"if prob > odds, bet\"\"\"\n",
    "    # 2540  -4%\n",
    "    # 3019  -6%\n",
    "    \n",
    "    # total (only of runners we are betting on)\n",
    "    all_probs = [r['probability'] for r in runners if bettable(r)]\n",
    "    total_probs = sum(all_probs)\n",
    "    \n",
    "    for runner in runners:\n",
    "#         runner['bet'] = runner['odds_scale'] / total_scaled * bet_chunk if bettable(runner) else 0\n",
    "        runner['bet'] = runner['probability'] / total_probs * bet_chunk if bettable(runner) else 0\n",
    "\n",
    "    num_bets = sum(r['bet'] > 0 for r in runners)\n",
    "    return runners, num_bets\n",
    "\n",
    "\n",
    "dfo = dfo.sample(frac=1).reset_index(drop=True)\n",
    "print('Dataframe shuffled!')\n",
    "\n",
    "book = process_strategy(dfo, bet_positive_only)"
   ]
  },
  {
   "cell_type": "code",
   "execution_count": 1,
   "metadata": {
    "collapsed": true
   },
   "outputs": [],
   "source": [
    "from sqlalchemy import create_engine\n",
    "from operator import itemgetter\n",
    "import json\n",
    "\n",
    "import pandas as pd\n",
    "import numpy as np\n",
    "#import seaborn as sns\n",
    "import matplotlib.pyplot as plt\n",
    "%matplotlib inline"
   ]
  },
  {
   "cell_type": "code",
   "execution_count": 2,
   "metadata": {},
   "outputs": [
    {
     "name": "stdout",
     "output_type": "stream",
     "text": [
      "9168 races loaded!\n",
      "3021 horse races!\n"
     ]
    }
   ],
   "source": [
    "engine = create_engine('sqlite:///tab.db')\n",
    "conn = engine.connect()\n",
    "\n",
    "dfo = pd.read_sql_table('race', conn)\n",
    "print('{} races loaded!'.format(len(dfo)))\n",
    "dfo = dfo.loc[dfo['race_type'].isin(['R'])]\n",
    "print('{} horse races!'.format(len(dfo)))"
   ]
  },
  {
   "cell_type": "code",
   "execution_count": 3,
   "metadata": {},
   "outputs": [
    {
     "data": {
      "text/html": [
       "<div>\n",
       "<style>\n",
       "    .dataframe thead tr:only-child th {\n",
       "        text-align: right;\n",
       "    }\n",
       "\n",
       "    .dataframe thead th {\n",
       "        text-align: left;\n",
       "    }\n",
       "\n",
       "    .dataframe tbody tr th {\n",
       "        vertical-align: top;\n",
       "    }\n",
       "</style>\n",
       "<table border=\"1\" class=\"dataframe\">\n",
       "  <thead>\n",
       "    <tr style=\"text-align: right;\">\n",
       "      <th></th>\n",
       "      <th>id</th>\n",
       "      <th>race_number</th>\n",
       "      <th>race_distance</th>\n",
       "      <th>num_runners</th>\n",
       "    </tr>\n",
       "  </thead>\n",
       "  <tbody>\n",
       "    <tr>\n",
       "      <th>count</th>\n",
       "      <td>3021.000000</td>\n",
       "      <td>3021.000000</td>\n",
       "      <td>3021.000000</td>\n",
       "      <td>3021.00000</td>\n",
       "    </tr>\n",
       "    <tr>\n",
       "      <th>mean</th>\n",
       "      <td>5262.337637</td>\n",
       "      <td>4.660377</td>\n",
       "      <td>1671.842767</td>\n",
       "      <td>9.58954</td>\n",
       "    </tr>\n",
       "    <tr>\n",
       "      <th>std</th>\n",
       "      <td>2505.808731</td>\n",
       "      <td>2.515617</td>\n",
       "      <td>764.832350</td>\n",
       "      <td>2.89044</td>\n",
       "    </tr>\n",
       "    <tr>\n",
       "      <th>min</th>\n",
       "      <td>1610.000000</td>\n",
       "      <td>1.000000</td>\n",
       "      <td>402.000000</td>\n",
       "      <td>3.00000</td>\n",
       "    </tr>\n",
       "    <tr>\n",
       "      <th>25%</th>\n",
       "      <td>2878.000000</td>\n",
       "      <td>3.000000</td>\n",
       "      <td>1200.000000</td>\n",
       "      <td>7.00000</td>\n",
       "    </tr>\n",
       "    <tr>\n",
       "      <th>50%</th>\n",
       "      <td>5148.000000</td>\n",
       "      <td>5.000000</td>\n",
       "      <td>1400.000000</td>\n",
       "      <td>9.00000</td>\n",
       "    </tr>\n",
       "    <tr>\n",
       "      <th>75%</th>\n",
       "      <td>7383.000000</td>\n",
       "      <td>7.000000</td>\n",
       "      <td>1800.000000</td>\n",
       "      <td>12.00000</td>\n",
       "    </tr>\n",
       "    <tr>\n",
       "      <th>max</th>\n",
       "      <td>9718.000000</td>\n",
       "      <td>12.000000</td>\n",
       "      <td>6400.000000</td>\n",
       "      <td>22.00000</td>\n",
       "    </tr>\n",
       "  </tbody>\n",
       "</table>\n",
       "</div>"
      ],
      "text/plain": [
       "                id  race_number  race_distance  num_runners\n",
       "count  3021.000000  3021.000000    3021.000000   3021.00000\n",
       "mean   5262.337637     4.660377    1671.842767      9.58954\n",
       "std    2505.808731     2.515617     764.832350      2.89044\n",
       "min    1610.000000     1.000000     402.000000      3.00000\n",
       "25%    2878.000000     3.000000    1200.000000      7.00000\n",
       "50%    5148.000000     5.000000    1400.000000      9.00000\n",
       "75%    7383.000000     7.000000    1800.000000     12.00000\n",
       "max    9718.000000    12.000000    6400.000000     22.00000"
      ]
     },
     "execution_count": 3,
     "metadata": {},
     "output_type": "execute_result"
    }
   ],
   "source": [
    "dfo['results'] = dfo['results_data'].map(json.loads)\n",
    "dfo['runners'] = dfo['runners_data'].map(json.loads)\n",
    "dfo.describe()"
   ]
  },
  {
   "cell_type": "code",
   "execution_count": 4,
   "metadata": {
    "collapsed": true
   },
   "outputs": [],
   "source": [
    "# bet size\n",
    "balance = 1000\n",
    "bet_chunk = balance * 0.05"
   ]
  },
  {
   "cell_type": "code",
   "execution_count": 5,
   "metadata": {
    "collapsed": true
   },
   "outputs": [],
   "source": [
    "def bettable(r):\n",
    "    return r['probability'] > r['odds_scale'] and r['odds_win'] > 0"
   ]
  },
  {
   "cell_type": "code",
   "execution_count": 6,
   "metadata": {
    "collapsed": true
   },
   "outputs": [],
   "source": [
    "def process_strategy(df, strategy):\n",
    "    \"\"\"run strategy, must pass runners returned back into results (it might be modified)\"\"\"\n",
    "    book = []\n",
    "    for _, race in df.iterrows():\n",
    "#         print(race['num_runners'])\n",
    "        runners = race['runners']\n",
    "        runners, num_bets = strategy(runners, bet_chunk)\n",
    "        if num_bets:\n",
    "            bet_results(book, runners, race['num_runners'], bet_chunk, num_bets, race['race_type'])\n",
    "    return book"
   ]
  },
  {
   "cell_type": "code",
   "execution_count": 7,
   "metadata": {
    "collapsed": true
   },
   "outputs": [],
   "source": [
    "def bet_results(book, runners, num_runners, bet_chunk, num_bets, race_type):\n",
    "    \"\"\"get results from bets\"\"\"\n",
    "    win_diff = 0\n",
    "    max_diff = 0\n",
    "    outcome = {\n",
    "        'success': 0,\n",
    "        'profit': -bet_chunk,\n",
    "        'num_bets': num_bets,\n",
    "        'num_runners': num_runners,\n",
    "    }\n",
    "    for i, runner in enumerate(runners):\n",
    "        diff = abs(runner['odds_scale'] - runner['probability'])\n",
    "        max_diff = max(max_diff, diff)\n",
    "        if int(runner['finishingPosition']) == 1:\n",
    "            win_diff = diff\n",
    "            if runner['bet'] > 0:\n",
    "                # odds = runner['parimutuel']['returnWin'] if runner['parimutuel']['returnWin'] else runner['odds_win']\n",
    "                odds = runner['odds_win']\n",
    "                profit = runner['bet'] * odds - bet_chunk\n",
    "                outcome = {\n",
    "                    'success': 1,\n",
    "                    'profit': profit,\n",
    "                    'num_bets': num_bets,\n",
    "                    'num_runners': num_runners,\n",
    "                }\n",
    "            break\n",
    "\n",
    "    outcome['max_diff'] = max_diff\n",
    "    outcome['win_diff'] = win_diff\n",
    "    outcome['bet_chunk'] = bet_chunk\n",
    "    outcome['race_type'] = race_type\n",
    "    outcome['runners'] = runners\n",
    "    book.append(outcome)"
   ]
  },
  {
   "cell_type": "code",
   "execution_count": 48,
   "metadata": {},
   "outputs": [
    {
     "name": "stdout",
     "output_type": "stream",
     "text": [
      "Dataframe shuffled!\n"
     ]
    }
   ],
   "source": [
    "def bet_positive_max(runners, bet_chunk):\n",
    "    \"\"\"bet max given prob>scale\"\"\"\n",
    "\n",
    "    num_runners = sum(r['odds_win'] > 0 for r in runners)\n",
    "    max_diff = max(r['probability'] - r['odds_scale'] for r in runners)\n",
    "\n",
    "    for runner in runners:\n",
    "        runner['bet'] = 0\n",
    "        if runner['probability'] - runner['odds_scale'] == max_diff:\n",
    "            runner['bet'] = bet_chunk\n",
    "            \n",
    "    num_bets = sum(r['bet'] > 0 for r in runners)\n",
    "    \n",
    "    if num_bets > 2 or num_bets / num_runners < 0.125:\n",
    "        return [], 0\n",
    "        \n",
    "    return runners, num_bets\n",
    "\n",
    "\n",
    "dfo = dfo.sample(frac=1).reset_index(drop=True)\n",
    "print('Dataframe shuffled!')\n",
    "\n",
    "book = process_strategy(dfo, bet_positive_max)"
   ]
  },
  {
   "cell_type": "code",
   "execution_count": 49,
   "metadata": {},
   "outputs": [
    {
     "data": {
      "text/html": [
       "<div>\n",
       "<style>\n",
       "    .dataframe thead tr:only-child th {\n",
       "        text-align: right;\n",
       "    }\n",
       "\n",
       "    .dataframe thead th {\n",
       "        text-align: left;\n",
       "    }\n",
       "\n",
       "    .dataframe tbody tr th {\n",
       "        vertical-align: top;\n",
       "    }\n",
       "</style>\n",
       "<table border=\"1\" class=\"dataframe\">\n",
       "  <thead>\n",
       "    <tr style=\"text-align: right;\">\n",
       "      <th></th>\n",
       "      <th>bet_chunk</th>\n",
       "      <th>max_diff</th>\n",
       "      <th>num_bets</th>\n",
       "      <th>num_runners</th>\n",
       "      <th>profit</th>\n",
       "      <th>race_type</th>\n",
       "      <th>runners</th>\n",
       "      <th>success</th>\n",
       "      <th>win_diff</th>\n",
       "    </tr>\n",
       "  </thead>\n",
       "  <tbody>\n",
       "    <tr>\n",
       "      <th>1164</th>\n",
       "      <td>50.0</td>\n",
       "      <td>0.031045</td>\n",
       "      <td>1</td>\n",
       "      <td>5.0</td>\n",
       "      <td>-50.0</td>\n",
       "      <td>R</td>\n",
       "      <td>[{'runnerName': 'MIDNIGHT WALK', 'runnerNumber...</td>\n",
       "      <td>0</td>\n",
       "      <td>0.031045</td>\n",
       "    </tr>\n",
       "    <tr>\n",
       "      <th>1165</th>\n",
       "      <td>50.0</td>\n",
       "      <td>0.145203</td>\n",
       "      <td>1</td>\n",
       "      <td>5.0</td>\n",
       "      <td>57.5</td>\n",
       "      <td>R</td>\n",
       "      <td>[{'runnerName': 'MIZEN MASTER', 'runnerNumber'...</td>\n",
       "      <td>1</td>\n",
       "      <td>0.145203</td>\n",
       "    </tr>\n",
       "    <tr>\n",
       "      <th>1166</th>\n",
       "      <td>50.0</td>\n",
       "      <td>0.032614</td>\n",
       "      <td>1</td>\n",
       "      <td>8.0</td>\n",
       "      <td>145.0</td>\n",
       "      <td>R</td>\n",
       "      <td>[{'runnerName': 'BALL LIGHTNING', 'runnerNumbe...</td>\n",
       "      <td>1</td>\n",
       "      <td>0.032614</td>\n",
       "    </tr>\n",
       "    <tr>\n",
       "      <th>1167</th>\n",
       "      <td>50.0</td>\n",
       "      <td>0.045955</td>\n",
       "      <td>1</td>\n",
       "      <td>5.0</td>\n",
       "      <td>50.0</td>\n",
       "      <td>R</td>\n",
       "      <td>[{'runnerName': 'PONDERING', 'runnerNumber': 6...</td>\n",
       "      <td>1</td>\n",
       "      <td>0.045955</td>\n",
       "    </tr>\n",
       "    <tr>\n",
       "      <th>1168</th>\n",
       "      <td>50.0</td>\n",
       "      <td>0.038681</td>\n",
       "      <td>1</td>\n",
       "      <td>7.0</td>\n",
       "      <td>-50.0</td>\n",
       "      <td>R</td>\n",
       "      <td>[{'runnerName': 'ADIR', 'runnerNumber': 1, 'fi...</td>\n",
       "      <td>0</td>\n",
       "      <td>0.000906</td>\n",
       "    </tr>\n",
       "    <tr>\n",
       "      <th>1169</th>\n",
       "      <td>50.0</td>\n",
       "      <td>0.035464</td>\n",
       "      <td>1</td>\n",
       "      <td>7.0</td>\n",
       "      <td>-50.0</td>\n",
       "      <td>R</td>\n",
       "      <td>[{'runnerName': 'PIONEERTOWN', 'runnerNumber':...</td>\n",
       "      <td>0</td>\n",
       "      <td>0.035464</td>\n",
       "    </tr>\n",
       "    <tr>\n",
       "      <th>1170</th>\n",
       "      <td>50.0</td>\n",
       "      <td>0.062757</td>\n",
       "      <td>1</td>\n",
       "      <td>6.0</td>\n",
       "      <td>-50.0</td>\n",
       "      <td>R</td>\n",
       "      <td>[{'runnerName': 'QUINTIN', 'runnerNumber': 6, ...</td>\n",
       "      <td>0</td>\n",
       "      <td>0.022457</td>\n",
       "    </tr>\n",
       "    <tr>\n",
       "      <th>1171</th>\n",
       "      <td>50.0</td>\n",
       "      <td>0.131567</td>\n",
       "      <td>1</td>\n",
       "      <td>4.0</td>\n",
       "      <td>-50.0</td>\n",
       "      <td>R</td>\n",
       "      <td>[{'runnerName': 'CHARLIE RASCAL', 'runnerNumbe...</td>\n",
       "      <td>0</td>\n",
       "      <td>0.023474</td>\n",
       "    </tr>\n",
       "    <tr>\n",
       "      <th>1172</th>\n",
       "      <td>50.0</td>\n",
       "      <td>0.254060</td>\n",
       "      <td>1</td>\n",
       "      <td>7.0</td>\n",
       "      <td>-50.0</td>\n",
       "      <td>R</td>\n",
       "      <td>[{'runnerName': 'UNYIELDING', 'runnerNumber': ...</td>\n",
       "      <td>0</td>\n",
       "      <td>0.012927</td>\n",
       "    </tr>\n",
       "    <tr>\n",
       "      <th>1173</th>\n",
       "      <td>50.0</td>\n",
       "      <td>0.076693</td>\n",
       "      <td>1</td>\n",
       "      <td>7.0</td>\n",
       "      <td>-50.0</td>\n",
       "      <td>R</td>\n",
       "      <td>[{'runnerName': 'RUTHERFORD', 'runnerNumber': ...</td>\n",
       "      <td>0</td>\n",
       "      <td>0.031339</td>\n",
       "    </tr>\n",
       "  </tbody>\n",
       "</table>\n",
       "</div>"
      ],
      "text/plain": [
       "      bet_chunk  max_diff  num_bets  num_runners  profit race_type  \\\n",
       "1164       50.0  0.031045         1          5.0   -50.0         R   \n",
       "1165       50.0  0.145203         1          5.0    57.5         R   \n",
       "1166       50.0  0.032614         1          8.0   145.0         R   \n",
       "1167       50.0  0.045955         1          5.0    50.0         R   \n",
       "1168       50.0  0.038681         1          7.0   -50.0         R   \n",
       "1169       50.0  0.035464         1          7.0   -50.0         R   \n",
       "1170       50.0  0.062757         1          6.0   -50.0         R   \n",
       "1171       50.0  0.131567         1          4.0   -50.0         R   \n",
       "1172       50.0  0.254060         1          7.0   -50.0         R   \n",
       "1173       50.0  0.076693         1          7.0   -50.0         R   \n",
       "\n",
       "                                                runners  success  win_diff  \n",
       "1164  [{'runnerName': 'MIDNIGHT WALK', 'runnerNumber...        0  0.031045  \n",
       "1165  [{'runnerName': 'MIZEN MASTER', 'runnerNumber'...        1  0.145203  \n",
       "1166  [{'runnerName': 'BALL LIGHTNING', 'runnerNumbe...        1  0.032614  \n",
       "1167  [{'runnerName': 'PONDERING', 'runnerNumber': 6...        1  0.045955  \n",
       "1168  [{'runnerName': 'ADIR', 'runnerNumber': 1, 'fi...        0  0.000906  \n",
       "1169  [{'runnerName': 'PIONEERTOWN', 'runnerNumber':...        0  0.035464  \n",
       "1170  [{'runnerName': 'QUINTIN', 'runnerNumber': 6, ...        0  0.022457  \n",
       "1171  [{'runnerName': 'CHARLIE RASCAL', 'runnerNumbe...        0  0.023474  \n",
       "1172  [{'runnerName': 'UNYIELDING', 'runnerNumber': ...        0  0.012927  \n",
       "1173  [{'runnerName': 'RUTHERFORD', 'runnerNumber': ...        0  0.031339  "
      ]
     },
     "execution_count": 49,
     "metadata": {},
     "output_type": "execute_result"
    }
   ],
   "source": [
    "df = pd.DataFrame(book)\n",
    "df.tail(10)"
   ]
  },
  {
   "cell_type": "code",
   "execution_count": 59,
   "metadata": {},
   "outputs": [
    {
     "data": {
      "text/plain": [
       "<matplotlib.axes._subplots.AxesSubplot at 0x10da04b70>"
      ]
     },
     "execution_count": 59,
     "metadata": {},
     "output_type": "execute_result"
    },
    {
     "data": {
      "image/png": "[encoded data removed]",
      "text/plain": [
       "<matplotlib.figure.Figure at 0x10dbd77f0>"
      ]
     },
     "metadata": {},
     "output_type": "display_data"
    }
   ],
   "source": [
    "# ROI\n",
    "roi = df.profit.cumsum() / df.bet_chunk.cumsum()\n",
    "roi_title = '{:.0f}% ROI'.format(roi.iloc[-1] * 100)\n",
    "roi.rolling(10).mean().plot(title=roi_title, xlim=(100), ylim=(0))"
   ]
  },
  {
   "cell_type": "code",
   "execution_count": 60,
   "metadata": {},
   "outputs": [
    {
     "data": {
      "text/plain": [
       "<matplotlib.axes._subplots.AxesSubplot at 0x10dd254a8>"
      ]
     },
     "execution_count": 60,
     "metadata": {},
     "output_type": "execute_result"
    },
    {
     "data": {
      "image/png": "[encoded data removed]",
      "text/plain": [
       "<matplotlib.figure.Figure at 0x10d86ab00>"
      ]
     },
     "metadata": {},
     "output_type": "display_data"
    }
   ],
   "source": [
    "df.success.cumsum().plot()"
   ]
  },
  {
   "cell_type": "code",
   "execution_count": 51,
   "metadata": {},
   "outputs": [
    {
     "data": {
      "text/plain": [
       "<matplotlib.axes._subplots.AxesSubplot at 0x10cd52240>"
      ]
     },
     "execution_count": 51,
     "metadata": {},
     "output_type": "execute_result"
    },
    {
     "data": {
      "image/png": "[encoded data removed]",
      "text/plain": [
       "<matplotlib.figure.Figure at 0x10caf5d68>"
      ]
     },
     "metadata": {},
     "output_type": "display_data"
    }
   ],
   "source": [
    "# profit per num bets \n",
    "groups = df.groupby('num_bets').mean()\n",
    "groups.plot(kind='bar', y='success', title='mean success/#bets')"
   ]
  },
  {
   "cell_type": "code",
   "execution_count": 56,
   "metadata": {},
   "outputs": [
    {
     "data": {
      "text/plain": [
       "<matplotlib.axes._subplots.AxesSubplot at 0x10d992160>"
      ]
     },
     "execution_count": 56,
     "metadata": {},
     "output_type": "execute_result"
    },
    {
     "data": {
      "image/png": "[encoded data removed]",
      "text/plain": [
       "<matplotlib.figure.Figure at 0x10d86a7f0>"
      ]
     },
     "metadata": {},
     "output_type": "display_data"
    }
   ],
   "source": [
    "# profit per num runners\n",
    "groups = df.groupby('num_runners').sum()\n",
    "groups.plot(kind='bar', y='success', title='mean success/#runners')"
   ]
  },
  {
   "cell_type": "code",
   "execution_count": 53,
   "metadata": {},
   "outputs": [
    {
     "data": {
      "text/plain": [
       "<matplotlib.axes._subplots.AxesSubplot at 0x10cea6908>"
      ]
     },
     "execution_count": 53,
     "metadata": {},
     "output_type": "execute_result"
    },
    {
     "data": {
      "image/png": "[encoded data removed]",
      "text/plain": [
       "<matplotlib.figure.Figure at 0x10caa9198>"
      ]
     },
     "metadata": {},
     "output_type": "display_data"
    }
   ],
   "source": [
    "# max diff\n",
    "df.win_diff.plot(kind='hist', xlim=(0, 0.1), bins=200, alpha=0.6)\n",
    "df.max_diff.plot(kind='hist', xlim=(0, 0.1), bins=200, alpha=0.2)"
   ]
  },
  {
   "cell_type": "code",
   "execution_count": 54,
   "metadata": {},
   "outputs": [
    {
     "data": {
      "text/plain": [
       "<matplotlib.axes._subplots.AxesSubplot at 0x10d0053c8>"
      ]
     },
     "execution_count": 54,
     "metadata": {},
     "output_type": "execute_result"
    },
    {
     "data": {
      "image/png": "[encoded data removed]",
      "text/plain": [
       "<matplotlib.figure.Figure at 0x10ce6b780>"
      ]
     },
     "metadata": {},
     "output_type": "display_data"
    }
   ],
   "source": [
    "df.profit.rolling(100).sum().plot()\n",
    "df.profit.cumsum().plot()"
   ]
  },
  {
   "cell_type": "code",
   "execution_count": 55,
   "metadata": {},
   "outputs": [
    {
     "data": {
      "text/plain": [
       "<matplotlib.axes._subplots.AxesSubplot at 0x10d93b550>"
      ]
     },
     "execution_count": 55,
     "metadata": {},
     "output_type": "execute_result"
    },
    {
     "data": {
      "image/png": "[encoded data removed]",
      "text/plain": [
       "<matplotlib.figure.Figure at 0x10d8622b0>"
      ]
     },
     "metadata": {},
     "output_type": "display_data"
    },
    {
     "data": {
      "image/png": "[encoded data removed]",
      "text/plain": [
       "<matplotlib.figure.Figure at 0x10d908780>"
      ]
     },
     "metadata": {},
     "output_type": "display_data"
    }
   ],
   "source": [
    "# bets/runners\n",
    "df['bets_vs_runners'] = df.num_bets / df.num_runners\n",
    "df['bets_vs_runners'].hist(bins=10)\n",
    "groups = df.groupby(df['bets_vs_runners'].apply(lambda x: round(x, 2))).sum()\n",
    "groups.plot(kind='line', y='profit', title='mean profit/bets_per_runners')"
   ]
  },
  {
   "cell_type": "code",
   "execution_count": null,
   "metadata": {
    "collapsed": true
   },
   "outputs": [],
   "source": []
  }
 ],
 "metadata": {
  "kernelspec": {
   "display_name": "Python 3",
   "language": "python",
   "name": "python3"
  },
  "language_info": {
   "codemirror_mode": {
    "name": "ipython",
    "version": 3
   },
   "file_extension": ".py",
   "mimetype": "text/x-python",
   "name": "python",
   "nbconvert_exporter": "python",
   "pygments_lexer": "ipython3",
   "version": "3.6.1"
  }
 },
 "nbformat": 4,
 "nbformat_minor": 2
}
