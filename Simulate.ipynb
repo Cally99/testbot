{
 "cells": [
  {
   "cell_type": "code",
   "execution_count": 38,
   "metadata": {
    "collapsed": true
   },
   "outputs": [],
   "source": [
    "from sqlalchemy import create_engine\n",
    "import json\n",
    "\n",
    "import pandas as pd\n",
    "import numpy as np\n",
    "import seaborn as sns\n",
    "import matplotlib.pyplot as plt\n",
    "%matplotlib inline"
   ]
  },
  {
   "cell_type": "code",
   "execution_count": 39,
   "metadata": {},
   "outputs": [
    {
     "name": "stdout",
     "output_type": "stream",
     "text": [
      "7306 races loaded!\n",
      "2426 horse races!\n"
     ]
    }
   ],
   "source": [
    "engine = create_engine('sqlite:///tab.db')\n",
    "conn = engine.connect()\n",
    "conn\n",
    "dfo = pd.read_sql_table('race', conn)\n",
    "print(f'{len(dfo)} races loaded!')\n",
    "dfo = dfo.loc[dfo['race_type'].isin(['R'])]\n",
    "print(f'{len(dfo)} horse races!')"
   ]
  },
  {
   "cell_type": "code",
   "execution_count": 40,
   "metadata": {},
   "outputs": [
    {
     "data": {
      "text/html": [
       "<div>\n",
       "<style>\n",
       "    .dataframe thead tr:only-child th {\n",
       "        text-align: right;\n",
       "    }\n",
       "\n",
       "    .dataframe thead th {\n",
       "        text-align: left;\n",
       "    }\n",
       "\n",
       "    .dataframe tbody tr th {\n",
       "        vertical-align: top;\n",
       "    }\n",
       "</style>\n",
       "<table border=\"1\" class=\"dataframe\">\n",
       "  <thead>\n",
       "    <tr style=\"text-align: right;\">\n",
       "      <th></th>\n",
       "      <th>id</th>\n",
       "      <th>race_number</th>\n",
       "      <th>race_distance</th>\n",
       "      <th>num_runners</th>\n",
       "    </tr>\n",
       "  </thead>\n",
       "  <tbody>\n",
       "    <tr>\n",
       "      <th>count</th>\n",
       "      <td>2426.000000</td>\n",
       "      <td>2426.000000</td>\n",
       "      <td>2426.00000</td>\n",
       "      <td>2426.000000</td>\n",
       "    </tr>\n",
       "    <tr>\n",
       "      <th>mean</th>\n",
       "      <td>4393.744023</td>\n",
       "      <td>4.654575</td>\n",
       "      <td>1658.82028</td>\n",
       "      <td>9.610058</td>\n",
       "    </tr>\n",
       "    <tr>\n",
       "      <th>std</th>\n",
       "      <td>1977.221171</td>\n",
       "      <td>2.498538</td>\n",
       "      <td>758.13690</td>\n",
       "      <td>2.912123</td>\n",
       "    </tr>\n",
       "    <tr>\n",
       "      <th>min</th>\n",
       "      <td>1610.000000</td>\n",
       "      <td>1.000000</td>\n",
       "      <td>790.00000</td>\n",
       "      <td>3.000000</td>\n",
       "    </tr>\n",
       "    <tr>\n",
       "      <th>25%</th>\n",
       "      <td>2446.250000</td>\n",
       "      <td>3.000000</td>\n",
       "      <td>1200.00000</td>\n",
       "      <td>7.000000</td>\n",
       "    </tr>\n",
       "    <tr>\n",
       "      <th>50%</th>\n",
       "      <td>4297.500000</td>\n",
       "      <td>5.000000</td>\n",
       "      <td>1400.00000</td>\n",
       "      <td>9.000000</td>\n",
       "    </tr>\n",
       "    <tr>\n",
       "      <th>75%</th>\n",
       "      <td>6151.750000</td>\n",
       "      <td>7.000000</td>\n",
       "      <td>1800.00000</td>\n",
       "      <td>12.000000</td>\n",
       "    </tr>\n",
       "    <tr>\n",
       "      <th>max</th>\n",
       "      <td>7857.000000</td>\n",
       "      <td>12.000000</td>\n",
       "      <td>6400.00000</td>\n",
       "      <td>22.000000</td>\n",
       "    </tr>\n",
       "  </tbody>\n",
       "</table>\n",
       "</div>"
      ],
      "text/plain": [
       "                id  race_number  race_distance  num_runners\n",
       "count  2426.000000  2426.000000     2426.00000  2426.000000\n",
       "mean   4393.744023     4.654575     1658.82028     9.610058\n",
       "std    1977.221171     2.498538      758.13690     2.912123\n",
       "min    1610.000000     1.000000      790.00000     3.000000\n",
       "25%    2446.250000     3.000000     1200.00000     7.000000\n",
       "50%    4297.500000     5.000000     1400.00000     9.000000\n",
       "75%    6151.750000     7.000000     1800.00000    12.000000\n",
       "max    7857.000000    12.000000     6400.00000    22.000000"
      ]
     },
     "execution_count": 40,
     "metadata": {},
     "output_type": "execute_result"
    }
   ],
   "source": [
    "dfo['results'] = dfo['results_data'].map(json.loads)\n",
    "dfo['runners'] = dfo['runners_data'].map(json.loads)\n",
    "dfo.describe()"
   ]
  },
  {
   "cell_type": "code",
   "execution_count": 41,
   "metadata": {
    "collapsed": true
   },
   "outputs": [],
   "source": [
    "# bet size\n",
    "balance = 1000\n",
    "bet_chunk = balance * 0.05"
   ]
  },
  {
   "cell_type": "code",
   "execution_count": 42,
   "metadata": {
    "collapsed": true
   },
   "outputs": [],
   "source": [
    "def process_strategy(df, strategy):\n",
    "    \"\"\"run strategy\"\"\"\n",
    "\n",
    "    book = []\n",
    "    for _, race in dfo.iterrows():\n",
    "#         print(race['num_runners'])\n",
    "\n",
    "        runners = race['runners']\n",
    "\n",
    "        runners, num_bets = strategy(runners, bet_chunk)\n",
    "#         except KeyError:\n",
    "#             continue\n",
    "\n",
    "        bet_results(book, runners, race['num_runners'], bet_chunk, num_bets, race['race_type'])\n",
    "\n",
    "    return book"
   ]
  },
  {
   "cell_type": "code",
   "execution_count": 43,
   "metadata": {
    "collapsed": true
   },
   "outputs": [],
   "source": [
    "def bet_results(book, runners, num_runners, bet_chunk, num_bets, race_type):\n",
    "    \"\"\"get results from bets\"\"\"\n",
    "    num_runners = num_runners\n",
    "    win_diff = 0\n",
    "    max_diff = 0\n",
    "    outcome = {\n",
    "        'success': 0,\n",
    "        'profit': -bet_chunk,\n",
    "        'num_bets': num_bets,\n",
    "        'num_runners': num_runners,\n",
    "    }\n",
    "    for i, runner in enumerate(runners):\n",
    "        diff = abs(runner['odds_scale'] - runner['probability'])\n",
    "        max_diff = max(max_diff, diff)\n",
    "        if int(runner['finishingPosition']) == 1:\n",
    "            win_diff = diff\n",
    "            if runner['bet'] > 0:\n",
    "                profit = runner['bet'] * runner['odds_win'] - bet_chunk\n",
    "                outcome = {\n",
    "                    'success': 1,\n",
    "                    'profit': profit,\n",
    "                    'num_bets': num_bets,\n",
    "                    'num_runners': num_runners,\n",
    "                }\n",
    "            break\n",
    "\n",
    "    outcome['max_diff'] = max_diff\n",
    "    outcome['win_diff'] = win_diff\n",
    "    outcome['bet_chunk'] = bet_chunk\n",
    "    outcome['race_type'] = race_type\n",
    "    outcome['runners'] = runners\n",
    "    book.append(outcome)"
   ]
  },
  {
   "cell_type": "code",
   "execution_count": 37,
   "metadata": {},
   "outputs": [
    {
     "name": "stdout",
     "output_type": "stream",
     "text": [
      "Dataframe shuffled!\n"
     ]
    }
   ],
   "source": [
    "def bet_positive_odds(runners, bet_chunk):\n",
    "    \"\"\"if prob > odds, bet\"\"\"\n",
    "    \n",
    "    def bettable(r):\n",
    "        return (r['probability'] > r['odds_scale'] and r['odds_win'] > 0)\n",
    "\n",
    "    # total (only of runners we are betting on)\n",
    "    all_odds_scaled = [r['odds_scale'] for r in runners if bettable(r)]\n",
    "    num_bets = len(all_odds_scaled)\n",
    "    total = sum(all_odds_scaled)\n",
    "    \n",
    "    for runner in runners:\n",
    "        runner['bet'] = runner['odds_scale'] / total * bet_chunk if bettable(runner) else 0\n",
    "\n",
    "    return runners, num_bets\n",
    "\n",
    "\n",
    "dfo = dfo.sample(frac=1).reset_index(drop=True)\n",
    "print('Dataframe shuffled!')\n",
    "\n",
    "book = process_strategy(dfo, bet_positive_odds)"
   ]
  },
  {
   "cell_type": "code",
   "execution_count": 10,
   "metadata": {},
   "outputs": [
    {
     "data": {
      "text/html": [
       "<div>\n",
       "<style>\n",
       "    .dataframe thead tr:only-child th {\n",
       "        text-align: right;\n",
       "    }\n",
       "\n",
       "    .dataframe thead th {\n",
       "        text-align: left;\n",
       "    }\n",
       "\n",
       "    .dataframe tbody tr th {\n",
       "        vertical-align: top;\n",
       "    }\n",
       "</style>\n",
       "<table border=\"1\" class=\"dataframe\">\n",
       "  <thead>\n",
       "    <tr style=\"text-align: right;\">\n",
       "      <th></th>\n",
       "      <th>bet_chunk</th>\n",
       "      <th>max_diff</th>\n",
       "      <th>num_bets</th>\n",
       "      <th>num_runners</th>\n",
       "      <th>profit</th>\n",
       "      <th>race_type</th>\n",
       "      <th>runners</th>\n",
       "      <th>success</th>\n",
       "      <th>win_diff</th>\n",
       "    </tr>\n",
       "  </thead>\n",
       "  <tbody>\n",
       "    <tr>\n",
       "      <th>2416</th>\n",
       "      <td>50.0</td>\n",
       "      <td>0.000172</td>\n",
       "      <td>7</td>\n",
       "      <td>10.0</td>\n",
       "      <td>-50.000000</td>\n",
       "      <td>R</td>\n",
       "      <td>[{'runnerName': 'BLUE PETAL', 'runnerNumber': ...</td>\n",
       "      <td>0</td>\n",
       "      <td>0.000172</td>\n",
       "    </tr>\n",
       "    <tr>\n",
       "      <th>2417</th>\n",
       "      <td>50.0</td>\n",
       "      <td>0.042148</td>\n",
       "      <td>8</td>\n",
       "      <td>9.0</td>\n",
       "      <td>0.195450</td>\n",
       "      <td>R</td>\n",
       "      <td>[{'runnerName': 'NIKKAS 'N' A TWIST', 'runnerN...</td>\n",
       "      <td>1</td>\n",
       "      <td>0.010885</td>\n",
       "    </tr>\n",
       "    <tr>\n",
       "      <th>2418</th>\n",
       "      <td>50.0</td>\n",
       "      <td>0.044322</td>\n",
       "      <td>11</td>\n",
       "      <td>13.0</td>\n",
       "      <td>-50.000000</td>\n",
       "      <td>R</td>\n",
       "      <td>[{'runnerName': 'NEWTOWN', 'runnerNumber': 16,...</td>\n",
       "      <td>0</td>\n",
       "      <td>0.017798</td>\n",
       "    </tr>\n",
       "    <tr>\n",
       "      <th>2419</th>\n",
       "      <td>50.0</td>\n",
       "      <td>0.006743</td>\n",
       "      <td>4</td>\n",
       "      <td>11.0</td>\n",
       "      <td>-50.000000</td>\n",
       "      <td>R</td>\n",
       "      <td>[{'runnerName': 'WALDPFAD', 'runnerNumber': 11...</td>\n",
       "      <td>0</td>\n",
       "      <td>0.006743</td>\n",
       "    </tr>\n",
       "    <tr>\n",
       "      <th>2420</th>\n",
       "      <td>50.0</td>\n",
       "      <td>0.087354</td>\n",
       "      <td>7</td>\n",
       "      <td>8.0</td>\n",
       "      <td>-5.816352</td>\n",
       "      <td>R</td>\n",
       "      <td>[{'runnerName': 'BORN TO FIGHT', 'runnerNumber...</td>\n",
       "      <td>1</td>\n",
       "      <td>0.073436</td>\n",
       "    </tr>\n",
       "    <tr>\n",
       "      <th>2421</th>\n",
       "      <td>50.0</td>\n",
       "      <td>0.006495</td>\n",
       "      <td>5</td>\n",
       "      <td>12.0</td>\n",
       "      <td>56.413151</td>\n",
       "      <td>R</td>\n",
       "      <td>[{'runnerName': 'MORE THAN ALRIGHT', 'runnerNu...</td>\n",
       "      <td>1</td>\n",
       "      <td>0.000821</td>\n",
       "    </tr>\n",
       "    <tr>\n",
       "      <th>2422</th>\n",
       "      <td>50.0</td>\n",
       "      <td>0.040139</td>\n",
       "      <td>2</td>\n",
       "      <td>7.0</td>\n",
       "      <td>21.979866</td>\n",
       "      <td>R</td>\n",
       "      <td>[{'runnerName': 'SNOOKERED', 'runnerNumber': 5...</td>\n",
       "      <td>1</td>\n",
       "      <td>0.040139</td>\n",
       "    </tr>\n",
       "    <tr>\n",
       "      <th>2423</th>\n",
       "      <td>50.0</td>\n",
       "      <td>0.065827</td>\n",
       "      <td>1</td>\n",
       "      <td>8.0</td>\n",
       "      <td>47.500000</td>\n",
       "      <td>R</td>\n",
       "      <td>[{'runnerName': 'BALL GIRL', 'runnerNumber': 4...</td>\n",
       "      <td>1</td>\n",
       "      <td>0.065827</td>\n",
       "    </tr>\n",
       "    <tr>\n",
       "      <th>2424</th>\n",
       "      <td>50.0</td>\n",
       "      <td>0.115388</td>\n",
       "      <td>6</td>\n",
       "      <td>9.0</td>\n",
       "      <td>0.284643</td>\n",
       "      <td>R</td>\n",
       "      <td>[{'runnerName': 'MY GIRL HAYLEY', 'runnerNumbe...</td>\n",
       "      <td>1</td>\n",
       "      <td>0.032661</td>\n",
       "    </tr>\n",
       "    <tr>\n",
       "      <th>2425</th>\n",
       "      <td>50.0</td>\n",
       "      <td>0.094267</td>\n",
       "      <td>11</td>\n",
       "      <td>11.0</td>\n",
       "      <td>-8.809281</td>\n",
       "      <td>R</td>\n",
       "      <td>[{'runnerName': 'RED STRIPES', 'runnerNumber':...</td>\n",
       "      <td>1</td>\n",
       "      <td>0.004900</td>\n",
       "    </tr>\n",
       "  </tbody>\n",
       "</table>\n",
       "</div>"
      ],
      "text/plain": [
       "      bet_chunk  max_diff  num_bets  num_runners     profit race_type  \\\n",
       "2416       50.0  0.000172         7         10.0 -50.000000         R   \n",
       "2417       50.0  0.042148         8          9.0   0.195450         R   \n",
       "2418       50.0  0.044322        11         13.0 -50.000000         R   \n",
       "2419       50.0  0.006743         4         11.0 -50.000000         R   \n",
       "2420       50.0  0.087354         7          8.0  -5.816352         R   \n",
       "2421       50.0  0.006495         5         12.0  56.413151         R   \n",
       "2422       50.0  0.040139         2          7.0  21.979866         R   \n",
       "2423       50.0  0.065827         1          8.0  47.500000         R   \n",
       "2424       50.0  0.115388         6          9.0   0.284643         R   \n",
       "2425       50.0  0.094267        11         11.0  -8.809281         R   \n",
       "\n",
       "                                                runners  success  win_diff  \n",
       "2416  [{'runnerName': 'BLUE PETAL', 'runnerNumber': ...        0  0.000172  \n",
       "2417  [{'runnerName': 'NIKKAS 'N' A TWIST', 'runnerN...        1  0.010885  \n",
       "2418  [{'runnerName': 'NEWTOWN', 'runnerNumber': 16,...        0  0.017798  \n",
       "2419  [{'runnerName': 'WALDPFAD', 'runnerNumber': 11...        0  0.006743  \n",
       "2420  [{'runnerName': 'BORN TO FIGHT', 'runnerNumber...        1  0.073436  \n",
       "2421  [{'runnerName': 'MORE THAN ALRIGHT', 'runnerNu...        1  0.000821  \n",
       "2422  [{'runnerName': 'SNOOKERED', 'runnerNumber': 5...        1  0.040139  \n",
       "2423  [{'runnerName': 'BALL GIRL', 'runnerNumber': 4...        1  0.065827  \n",
       "2424  [{'runnerName': 'MY GIRL HAYLEY', 'runnerNumbe...        1  0.032661  \n",
       "2425  [{'runnerName': 'RED STRIPES', 'runnerNumber':...        1  0.004900  "
      ]
     },
     "execution_count": 10,
     "metadata": {},
     "output_type": "execute_result"
    }
   ],
   "source": [
    "df = pd.DataFrame(book)\n",
    "df.tail(10)"
   ]
  },
  {
   "cell_type": "code",
   "execution_count": 31,
   "metadata": {},
   "outputs": [
    {
     "data": {
      "text/plain": [
       "<matplotlib.axes._subplots.AxesSubplot at 0x11a244a58>"
      ]
     },
     "execution_count": 31,
     "metadata": {},
     "output_type": "execute_result"
    },
    {
     "data": {
      "image/png": "[encoded data removed]",
      "text/plain": [
       "<matplotlib.figure.Figure at 0x11a2506a0>"
      ]
     },
     "metadata": {},
     "output_type": "display_data"
    }
   ],
   "source": [
    "# ROI\n",
    "roi = df.profit.cumsum() / df.bet_chunk.cumsum()\n",
    "roi_title = '{:.0f}% ROI'.format(roi.iloc[-1] * 100)\n",
    "roi.rolling(500).mean().plot(title=roi_title)"
   ]
  },
  {
   "cell_type": "code",
   "execution_count": 16,
   "metadata": {},
   "outputs": [
    {
     "data": {
      "text/plain": [
       "<matplotlib.axes._subplots.AxesSubplot at 0x118a7c4e0>"
      ]
     },
     "execution_count": 16,
     "metadata": {},
     "output_type": "execute_result"
    },
    {
     "data": {
      "image/png": "[encoded data removed]",
      "text/plain": [
       "<matplotlib.figure.Figure at 0x118b72208>"
      ]
     },
     "metadata": {},
     "output_type": "display_data"
    }
   ],
   "source": [
    "# profit per num bets \n",
    "groups = df.groupby('num_bets').mean()\n",
    "groups.plot(kind='bar', y='success', title='mean success/#bets')"
   ]
  },
  {
   "cell_type": "code",
   "execution_count": 17,
   "metadata": {},
   "outputs": [
    {
     "data": {
      "text/plain": [
       "<matplotlib.axes._subplots.AxesSubplot at 0x118c92cc0>"
      ]
     },
     "execution_count": 17,
     "metadata": {},
     "output_type": "execute_result"
    },
    {
     "data": {
      "image/png": "[encoded data removed]",
      "text/plain": [
       "<matplotlib.figure.Figure at 0x118ca1cc0>"
      ]
     },
     "metadata": {},
     "output_type": "display_data"
    }
   ],
   "source": [
    "# profit per num runners\n",
    "groups = df.groupby('num_runners').mean()\n",
    "groups.plot(kind='bar', y='success', title='mean success/#runners')"
   ]
  },
  {
   "cell_type": "code",
   "execution_count": 26,
   "metadata": {},
   "outputs": [
    {
     "data": {
      "text/plain": [
       "<matplotlib.axes._subplots.AxesSubplot at 0x119c2e940>"
      ]
     },
     "execution_count": 26,
     "metadata": {},
     "output_type": "execute_result"
    },
    {
     "data": {
      "image/png": "[encoded data removed]",
      "text/plain": [
       "<matplotlib.figure.Figure at 0x119c28e10>"
      ]
     },
     "metadata": {},
     "output_type": "display_data"
    }
   ],
   "source": [
    "# max diff\n",
    "df.max_diff.hist(bins=40, alpha=.4)\n",
    "df.win_diff.hist(bins=40, alpha=.2)"
   ]
  },
  {
   "cell_type": "code",
   "execution_count": 34,
   "metadata": {},
   "outputs": [
    {
     "data": {
      "text/plain": [
       "<matplotlib.axes._subplots.AxesSubplot at 0x11a261080>"
      ]
     },
     "execution_count": 34,
     "metadata": {},
     "output_type": "execute_result"
    },
    {
     "data": {
      "image/png": "[encoded data removed]",
      "text/plain": [
       "<matplotlib.figure.Figure at 0x11954c710>"
      ]
     },
     "metadata": {},
     "output_type": "display_data"
    }
   ],
   "source": [
    "df.profit.rolling(100).sum().plot()"
   ]
  },
  {
   "cell_type": "code",
   "execution_count": null,
   "metadata": {
    "collapsed": true
   },
   "outputs": [],
   "source": []
  }
 ],
 "metadata": {
  "kernelspec": {
   "display_name": "Python 3",
   "language": "python",
   "name": "python3"
  },
  "language_info": {
   "codemirror_mode": {
    "name": "ipython",
    "version": 3
   },
   "file_extension": ".py",
   "mimetype": "text/x-python",
   "name": "python",
   "nbconvert_exporter": "python",
   "pygments_lexer": "ipython3",
   "version": "3.6.1"
  }
 },
 "nbformat": 4,
 "nbformat_minor": 2
}
