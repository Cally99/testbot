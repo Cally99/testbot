{
 "cells": [
  {
   "cell_type": "code",
   "execution_count": 1,
   "metadata": {},
   "outputs": [],
   "source": [
    "from sqlalchemy import create_engine\n",
    "import json\n",
    "\n",
    "import pandas as pd\n",
    "import numpy as np\n",
    "#import seaborn as sns\n",
    "import matplotlib.pyplot as plt\n",
    "%matplotlib inline"
   ]
  },
  {
   "cell_type": "code",
   "execution_count": 2,
   "metadata": {},
   "outputs": [
    {
     "name": "stdout",
     "output_type": "stream",
     "text": [
      "7306 races loaded!\n",
      "2426 horse races!\n"
     ]
    }
   ],
   "source": [
    "engine = create_engine('sqlite:///tab.db')\n",
    "conn = engine.connect()\n",
    "conn\n",
    "dfo = pd.read_sql_table('race', conn)\n",
    "print('{} races loaded!'.format(len(dfo)))\n",
    "dfo = dfo.loc[dfo['race_type'].isin(['R'])]\n",
    "print('{} horse races!'.format(len(dfo)))"
   ]
  },
  {
   "cell_type": "code",
   "execution_count": 3,
   "metadata": {},
   "outputs": [
    {
     "data": {
      "text/html": [
       "<div>\n",
       "<style>\n",
       "    .dataframe thead tr:only-child th {\n",
       "        text-align: right;\n",
       "    }\n",
       "\n",
       "    .dataframe thead th {\n",
       "        text-align: left;\n",
       "    }\n",
       "\n",
       "    .dataframe tbody tr th {\n",
       "        vertical-align: top;\n",
       "    }\n",
       "</style>\n",
       "<table border=\"1\" class=\"dataframe\">\n",
       "  <thead>\n",
       "    <tr style=\"text-align: right;\">\n",
       "      <th></th>\n",
       "      <th>id</th>\n",
       "      <th>race_number</th>\n",
       "      <th>race_distance</th>\n",
       "      <th>num_runners</th>\n",
       "    </tr>\n",
       "  </thead>\n",
       "  <tbody>\n",
       "    <tr>\n",
       "      <th>count</th>\n",
       "      <td>2426.000000</td>\n",
       "      <td>2426.000000</td>\n",
       "      <td>2426.00000</td>\n",
       "      <td>2426.000000</td>\n",
       "    </tr>\n",
       "    <tr>\n",
       "      <th>mean</th>\n",
       "      <td>4393.744023</td>\n",
       "      <td>4.654575</td>\n",
       "      <td>1658.82028</td>\n",
       "      <td>9.610058</td>\n",
       "    </tr>\n",
       "    <tr>\n",
       "      <th>std</th>\n",
       "      <td>1977.221171</td>\n",
       "      <td>2.498538</td>\n",
       "      <td>758.13690</td>\n",
       "      <td>2.912123</td>\n",
       "    </tr>\n",
       "    <tr>\n",
       "      <th>min</th>\n",
       "      <td>1610.000000</td>\n",
       "      <td>1.000000</td>\n",
       "      <td>790.00000</td>\n",
       "      <td>3.000000</td>\n",
       "    </tr>\n",
       "    <tr>\n",
       "      <th>25%</th>\n",
       "      <td>2446.250000</td>\n",
       "      <td>3.000000</td>\n",
       "      <td>1200.00000</td>\n",
       "      <td>7.000000</td>\n",
       "    </tr>\n",
       "    <tr>\n",
       "      <th>50%</th>\n",
       "      <td>4297.500000</td>\n",
       "      <td>5.000000</td>\n",
       "      <td>1400.00000</td>\n",
       "      <td>9.000000</td>\n",
       "    </tr>\n",
       "    <tr>\n",
       "      <th>75%</th>\n",
       "      <td>6151.750000</td>\n",
       "      <td>7.000000</td>\n",
       "      <td>1800.00000</td>\n",
       "      <td>12.000000</td>\n",
       "    </tr>\n",
       "    <tr>\n",
       "      <th>max</th>\n",
       "      <td>7857.000000</td>\n",
       "      <td>12.000000</td>\n",
       "      <td>6400.00000</td>\n",
       "      <td>22.000000</td>\n",
       "    </tr>\n",
       "  </tbody>\n",
       "</table>\n",
       "</div>"
      ],
      "text/plain": [
       "                id  race_number  race_distance  num_runners\n",
       "count  2426.000000  2426.000000     2426.00000  2426.000000\n",
       "mean   4393.744023     4.654575     1658.82028     9.610058\n",
       "std    1977.221171     2.498538      758.13690     2.912123\n",
       "min    1610.000000     1.000000      790.00000     3.000000\n",
       "25%    2446.250000     3.000000     1200.00000     7.000000\n",
       "50%    4297.500000     5.000000     1400.00000     9.000000\n",
       "75%    6151.750000     7.000000     1800.00000    12.000000\n",
       "max    7857.000000    12.000000     6400.00000    22.000000"
      ]
     },
     "execution_count": 3,
     "metadata": {},
     "output_type": "execute_result"
    }
   ],
   "source": [
    "dfo['results'] = dfo['results_data'].map(json.loads)\n",
    "dfo['runners'] = dfo['runners_data'].map(json.loads)\n",
    "dfo.describe()"
   ]
  },
  {
   "cell_type": "code",
   "execution_count": 4,
   "metadata": {},
   "outputs": [],
   "source": [
    "# bet size\n",
    "balance = 1000\n",
    "bet_chunk = balance * 0.05"
   ]
  },
  {
   "cell_type": "code",
   "execution_count": 23,
   "metadata": {},
   "outputs": [],
   "source": [
    "def process_strategy(df, strategy):\n",
    "    \"\"\"run strategy, must pass runners returned back into results (it might be modified)\"\"\"\n",
    "\n",
    "    book = []\n",
    "    for _, race in dfo.iterrows():\n",
    "#         print(race['num_runners'])\n",
    "\n",
    "        runners = race['runners']\n",
    "\n",
    "        runners, num_bets = strategy(runners, bet_chunk)\n",
    "#         except KeyError:\n",
    "#             continue\n",
    "\n",
    "        bet_results(book, runners, race['num_runners'], bet_chunk, num_bets, race['race_type'])\n",
    "\n",
    "    return book"
   ]
  },
  {
   "cell_type": "code",
   "execution_count": 6,
   "metadata": {},
   "outputs": [],
   "source": [
    "def bet_results(book, runners, num_runners, bet_chunk, num_bets, race_type):\n",
    "    \"\"\"get results from bets\"\"\"\n",
    "    num_runners = num_runners\n",
    "    win_diff = 0\n",
    "    max_diff = 0\n",
    "    outcome = {\n",
    "        'success': 0,\n",
    "        'profit': -bet_chunk,\n",
    "        'num_bets': num_bets,\n",
    "        'num_runners': num_runners,\n",
    "    }\n",
    "    for i, runner in enumerate(runners):\n",
    "        diff = abs(runner['odds_scale'] - runner['probability'])\n",
    "        max_diff = max(max_diff, diff)\n",
    "        if int(runner['finishingPosition']) == 1:\n",
    "            win_diff = diff\n",
    "            if runner['bet'] > 0:\n",
    "                odds = runner['parimutuel']['returnWin'] if runner['parimutuel']['returnWin'] else runner['odds_win']\n",
    "                profit = runner['bet'] * odds - bet_chunk\n",
    "                outcome = {\n",
    "                    'success': 1,\n",
    "                    'profit': profit,\n",
    "                    'num_bets': num_bets,\n",
    "                    'num_runners': num_runners,\n",
    "                }\n",
    "            break\n",
    "\n",
    "    outcome['max_diff'] = max_diff\n",
    "    outcome['win_diff'] = win_diff\n",
    "    outcome['bet_chunk'] = bet_chunk\n",
    "    outcome['race_type'] = race_type\n",
    "    outcome['runners'] = runners\n",
    "    book.append(outcome)"
   ]
  },
  {
   "cell_type": "code",
   "execution_count": 21,
   "metadata": {},
   "outputs": [],
   "source": [
    "def bettable(r):\n",
    "    return (r['probability'] > r['odds_scale'] and r['odds_win'] > 0)"
   ]
  },
  {
   "cell_type": "code",
   "execution_count": 22,
   "metadata": {},
   "outputs": [
    {
     "name": "stdout",
     "output_type": "stream",
     "text": [
      "Dataframe shuffled!\n"
     ]
    }
   ],
   "source": [
    "def bet_positive_only(runners, bet_chunk):\n",
    "    \"\"\"if prob > odds, bet\"\"\"\n",
    "    \n",
    "    # total (only of runners we are betting on)\n",
    "    all_odds_scaled = [r['odds_scale'] for r in runners if bettable(r)]\n",
    "    all_probs = [r['probability'] for r in runners if bettable(r)]\n",
    "    total_scaled = sum(all_odds_scaled)\n",
    "    total_probs = sum(all_probs)\n",
    "\n",
    "    num_bets = len(all_odds_scaled)\n",
    "    \n",
    "    for runner in runners:\n",
    "#         runner['bet'] = runner['odds_scale'] / total_scaled * bet_chunk if bettable(runner) else 0\n",
    "        runner['bet'] = runner['probability'] / total_probs * bet_chunk if bettable(runner) else 0\n",
    "\n",
    "    return runners, num_bets\n",
    "\n",
    "\n",
    "dfo = dfo.sample(frac=1).reset_index(drop=True)\n",
    "print('Dataframe shuffled!')\n",
    "\n",
    "book = process_strategy(dfo, bet_positive_only)"
   ]
  },
  {
   "cell_type": "code",
   "execution_count": null,
   "metadata": {},
   "outputs": [],
   "source": [
    "def bet_positive_dutch(runners, bet_chunk):\n",
    "    \"\"\"dutch betting on probability\"\"\"\n",
    "\n",
    "    # drop scratched\n",
    "    runners = [r for r in runners if bettable(r)]\n",
    "\n",
    "    # sort runners from favourite to underdog\n",
    "    runners.sort(key=itemgetter('probability'), reverse=True)\n",
    "\n",
    "    # start betting on all and cut off worse runner till positive outcome\n",
    "    for num_bets in range(len(runners), 0, -1):\n",
    "\n",
    "        # reset bets for all\n",
    "        for runner in runners:\n",
    "            runner['bet'] = 0\n",
    "\n",
    "        pool = runners[:num_bets]\n",
    "\n",
    "        # all odds\n",
    "        total = sum([r['probability'] for r in pool])\n",
    "\n",
    "        # dutch for all in pool\n",
    "        for runner in pool:\n",
    "            runner['bet'] = runner['probability'] / total * bet_chunk\n",
    "            odds = runner['parimutuel']['returnWin'] if runner['parimutuel']['returnWin'] else runner['odds_win']\n",
    "            profit = runner['bet'] * odds - bet_chunk\n",
    "\n",
    "        # exit when profitable\n",
    "        pp = profit / bet_chunk\n",
    "        if profit > 0:\n",
    "            logger.info('profitable!')\n",
    "            break\n",
    "        else:\n",
    "            logger.info('nope, try again!')\n",
    "\n",
    "    return pool, num_bets"
   ]
  },
  {
   "cell_type": "code",
   "execution_count": 8,
   "metadata": {},
   "outputs": [
    {
     "data": {
      "text/html": [
       "<div>\n",
       "<style>\n",
       "    .dataframe thead tr:only-child th {\n",
       "        text-align: right;\n",
       "    }\n",
       "\n",
       "    .dataframe thead th {\n",
       "        text-align: left;\n",
       "    }\n",
       "\n",
       "    .dataframe tbody tr th {\n",
       "        vertical-align: top;\n",
       "    }\n",
       "</style>\n",
       "<table border=\"1\" class=\"dataframe\">\n",
       "  <thead>\n",
       "    <tr style=\"text-align: right;\">\n",
       "      <th></th>\n",
       "      <th>bet_chunk</th>\n",
       "      <th>max_diff</th>\n",
       "      <th>num_bets</th>\n",
       "      <th>num_runners</th>\n",
       "      <th>profit</th>\n",
       "      <th>race_type</th>\n",
       "      <th>runners</th>\n",
       "      <th>success</th>\n",
       "      <th>win_diff</th>\n",
       "    </tr>\n",
       "  </thead>\n",
       "  <tbody>\n",
       "    <tr>\n",
       "      <th>2416</th>\n",
       "      <td>50.0</td>\n",
       "      <td>0.030098</td>\n",
       "      <td>2</td>\n",
       "      <td>4.0</td>\n",
       "      <td>-4.441035</td>\n",
       "      <td>R</td>\n",
       "      <td>[{'riderDriverName': 'R JOHNSON', 'claimAmount...</td>\n",
       "      <td>1</td>\n",
       "      <td>0.030098</td>\n",
       "    </tr>\n",
       "    <tr>\n",
       "      <th>2417</th>\n",
       "      <td>50.0</td>\n",
       "      <td>0.090210</td>\n",
       "      <td>12</td>\n",
       "      <td>12.0</td>\n",
       "      <td>-23.347349</td>\n",
       "      <td>R</td>\n",
       "      <td>[{'riderDriverName': 'JAKE NOONAN', 'claimAmou...</td>\n",
       "      <td>1</td>\n",
       "      <td>0.035521</td>\n",
       "    </tr>\n",
       "    <tr>\n",
       "      <th>2418</th>\n",
       "      <td>50.0</td>\n",
       "      <td>0.006710</td>\n",
       "      <td>3</td>\n",
       "      <td>9.0</td>\n",
       "      <td>-50.000000</td>\n",
       "      <td>R</td>\n",
       "      <td>[{'riderDriverName': 'G MOSSE', 'claimAmount':...</td>\n",
       "      <td>0</td>\n",
       "      <td>0.003757</td>\n",
       "    </tr>\n",
       "    <tr>\n",
       "      <th>2419</th>\n",
       "      <td>50.0</td>\n",
       "      <td>0.040655</td>\n",
       "      <td>3</td>\n",
       "      <td>6.0</td>\n",
       "      <td>14.279512</td>\n",
       "      <td>R</td>\n",
       "      <td>[{'riderDriverName': 'ANNA PILROTH', 'claimAmo...</td>\n",
       "      <td>1</td>\n",
       "      <td>0.040655</td>\n",
       "    </tr>\n",
       "    <tr>\n",
       "      <th>2420</th>\n",
       "      <td>50.0</td>\n",
       "      <td>0.024761</td>\n",
       "      <td>4</td>\n",
       "      <td>8.0</td>\n",
       "      <td>16.411186</td>\n",
       "      <td>R</td>\n",
       "      <td>[{'riderDriverName': 'ASHLEY BUTLER', 'claimAm...</td>\n",
       "      <td>1</td>\n",
       "      <td>0.010400</td>\n",
       "    </tr>\n",
       "    <tr>\n",
       "      <th>2421</th>\n",
       "      <td>50.0</td>\n",
       "      <td>0.011036</td>\n",
       "      <td>1</td>\n",
       "      <td>7.0</td>\n",
       "      <td>-50.000000</td>\n",
       "      <td>R</td>\n",
       "      <td>[{'riderDriverName': 'HUGO HERRERA', 'claimAmo...</td>\n",
       "      <td>0</td>\n",
       "      <td>0.011036</td>\n",
       "    </tr>\n",
       "    <tr>\n",
       "      <th>2422</th>\n",
       "      <td>50.0</td>\n",
       "      <td>0.015764</td>\n",
       "      <td>3</td>\n",
       "      <td>9.0</td>\n",
       "      <td>25.986633</td>\n",
       "      <td>R</td>\n",
       "      <td>[{'riderDriverName': 'C MURRAY', 'claimAmount'...</td>\n",
       "      <td>1</td>\n",
       "      <td>0.015764</td>\n",
       "    </tr>\n",
       "    <tr>\n",
       "      <th>2423</th>\n",
       "      <td>50.0</td>\n",
       "      <td>0.010979</td>\n",
       "      <td>3</td>\n",
       "      <td>9.0</td>\n",
       "      <td>42.961653</td>\n",
       "      <td>R</td>\n",
       "      <td>[{'riderDriverName': 'A FOUASSIER', 'claimAmou...</td>\n",
       "      <td>1</td>\n",
       "      <td>0.003991</td>\n",
       "    </tr>\n",
       "    <tr>\n",
       "      <th>2424</th>\n",
       "      <td>50.0</td>\n",
       "      <td>0.085768</td>\n",
       "      <td>14</td>\n",
       "      <td>14.0</td>\n",
       "      <td>3.281479</td>\n",
       "      <td>R</td>\n",
       "      <td>[{'riderDriverName': 'MICHAEL DEE', 'claimAmou...</td>\n",
       "      <td>1</td>\n",
       "      <td>0.085768</td>\n",
       "    </tr>\n",
       "    <tr>\n",
       "      <th>2425</th>\n",
       "      <td>50.0</td>\n",
       "      <td>0.029306</td>\n",
       "      <td>11</td>\n",
       "      <td>11.0</td>\n",
       "      <td>-19.153643</td>\n",
       "      <td>R</td>\n",
       "      <td>[{'riderDriverName': 'K M DONOGHUE', 'claimAmo...</td>\n",
       "      <td>1</td>\n",
       "      <td>0.006328</td>\n",
       "    </tr>\n",
       "  </tbody>\n",
       "</table>\n",
       "</div>"
      ],
      "text/plain": [
       "      bet_chunk  max_diff  num_bets  num_runners     profit race_type  \\\n",
       "2416       50.0  0.030098         2          4.0  -4.441035         R   \n",
       "2417       50.0  0.090210        12         12.0 -23.347349         R   \n",
       "2418       50.0  0.006710         3          9.0 -50.000000         R   \n",
       "2419       50.0  0.040655         3          6.0  14.279512         R   \n",
       "2420       50.0  0.024761         4          8.0  16.411186         R   \n",
       "2421       50.0  0.011036         1          7.0 -50.000000         R   \n",
       "2422       50.0  0.015764         3          9.0  25.986633         R   \n",
       "2423       50.0  0.010979         3          9.0  42.961653         R   \n",
       "2424       50.0  0.085768        14         14.0   3.281479         R   \n",
       "2425       50.0  0.029306        11         11.0 -19.153643         R   \n",
       "\n",
       "                                                runners  success  win_diff  \n",
       "2416  [{'riderDriverName': 'R JOHNSON', 'claimAmount...        1  0.030098  \n",
       "2417  [{'riderDriverName': 'JAKE NOONAN', 'claimAmou...        1  0.035521  \n",
       "2418  [{'riderDriverName': 'G MOSSE', 'claimAmount':...        0  0.003757  \n",
       "2419  [{'riderDriverName': 'ANNA PILROTH', 'claimAmo...        1  0.040655  \n",
       "2420  [{'riderDriverName': 'ASHLEY BUTLER', 'claimAm...        1  0.010400  \n",
       "2421  [{'riderDriverName': 'HUGO HERRERA', 'claimAmo...        0  0.011036  \n",
       "2422  [{'riderDriverName': 'C MURRAY', 'claimAmount'...        1  0.015764  \n",
       "2423  [{'riderDriverName': 'A FOUASSIER', 'claimAmou...        1  0.003991  \n",
       "2424  [{'riderDriverName': 'MICHAEL DEE', 'claimAmou...        1  0.085768  \n",
       "2425  [{'riderDriverName': 'K M DONOGHUE', 'claimAmo...        1  0.006328  "
      ]
     },
     "execution_count": 8,
     "metadata": {},
     "output_type": "execute_result"
    }
   ],
   "source": [
    "df = pd.DataFrame(book)\n",
    "df.tail(10)"
   ]
  },
  {
   "cell_type": "code",
   "execution_count": 9,
   "metadata": {},
   "outputs": [
    {
     "data": {
      "text/plain": [
       "<matplotlib.axes._subplots.AxesSubplot at 0x7f00229ceef0>"
      ]
     },
     "execution_count": 9,
     "metadata": {},
     "output_type": "execute_result"
    },
    {
     "data": {
      "image/png": "[encoded data removed]",
      "text/plain": [
       "<matplotlib.figure.Figure at 0x7f0020f98e80>"
      ]
     },
     "metadata": {},
     "output_type": "display_data"
    }
   ],
   "source": [
    "# ROI\n",
    "roi = df.profit.cumsum() / df.bet_chunk.cumsum()\n",
    "roi_title = '{:.0f}% ROI'.format(roi.iloc[-1] * 100)\n",
    "roi.rolling(100).mean().plot(title=roi_title)"
   ]
  },
  {
   "cell_type": "code",
   "execution_count": 10,
   "metadata": {},
   "outputs": [
    {
     "data": {
      "text/plain": [
       "<matplotlib.axes._subplots.AxesSubplot at 0x7f0020f30c88>"
      ]
     },
     "execution_count": 10,
     "metadata": {},
     "output_type": "execute_result"
    },
    {
     "data": {
      "image/png": "[encoded data removed]",
      "text/plain": [
       "<matplotlib.figure.Figure at 0x7f0020f71cc0>"
      ]
     },
     "metadata": {},
     "output_type": "display_data"
    }
   ],
   "source": [
    "# profit per num bets \n",
    "groups = df.groupby('num_bets').mean()\n",
    "groups.plot(kind='bar', y='success', title='mean success/#bets')"
   ]
  },
  {
   "cell_type": "code",
   "execution_count": 11,
   "metadata": {},
   "outputs": [
    {
     "data": {
      "text/plain": [
       "<matplotlib.axes._subplots.AxesSubplot at 0x7f001edd95f8>"
      ]
     },
     "execution_count": 11,
     "metadata": {},
     "output_type": "execute_result"
    },
    {
     "data": {
      "image/png": "[encoded data removed]",
      "text/plain": [
       "<matplotlib.figure.Figure at 0x7f001ed9f9e8>"
      ]
     },
     "metadata": {},
     "output_type": "display_data"
    }
   ],
   "source": [
    "# profit per num runners\n",
    "groups = df.groupby('num_runners').mean()\n",
    "groups.plot(kind='bar', y='success', title='mean success/#runners')"
   ]
  },
  {
   "cell_type": "code",
   "execution_count": 12,
   "metadata": {},
   "outputs": [
    {
     "data": {
      "text/plain": [
       "<matplotlib.axes._subplots.AxesSubplot at 0x7f001ecb79e8>"
      ]
     },
     "execution_count": 12,
     "metadata": {},
     "output_type": "execute_result"
    },
    {
     "data": {
      "image/png": "[encoded data removed]",
      "text/plain": [
       "<matplotlib.figure.Figure at 0x7f001ed44978>"
      ]
     },
     "metadata": {},
     "output_type": "display_data"
    }
   ],
   "source": [
    "# max diff\n",
    "df.max_diff.hist(bins=40, alpha=.4)\n",
    "df.win_diff.hist(bins=40, alpha=.2)"
   ]
  },
  {
   "cell_type": "code",
   "execution_count": 13,
   "metadata": {},
   "outputs": [
    {
     "data": {
      "text/plain": [
       "<matplotlib.axes._subplots.AxesSubplot at 0x7f001eae6f98>"
      ]
     },
     "execution_count": 13,
     "metadata": {},
     "output_type": "execute_result"
    },
    {
     "data": {
      "image/png": "[encoded data removed]",
      "text/plain": [
       "<matplotlib.figure.Figure at 0x7f001eda41d0>"
      ]
     },
     "metadata": {},
     "output_type": "display_data"
    }
   ],
   "source": [
    "df.profit.rolling(100).sum().plot()"
   ]
  },
  {
   "cell_type": "code",
   "execution_count": 19,
   "metadata": {},
   "outputs": [
    {
     "data": {
      "text/plain": [
       "<matplotlib.axes._subplots.AxesSubplot at 0x7f001ea24518>"
      ]
     },
     "execution_count": 19,
     "metadata": {},
     "output_type": "execute_result"
    },
    {
     "data": {
      "image/png": "[encoded data removed]",
      "text/plain": [
       "<matplotlib.figure.Figure at 0x7f001e662ac8>"
      ]
     },
     "metadata": {},
     "output_type": "display_data"
    },
    {
     "data": {
      "image/png": "[encoded data removed]",
      "text/plain": [
       "<matplotlib.figure.Figure at 0x7f001e769208>"
      ]
     },
     "metadata": {},
     "output_type": "display_data"
    }
   ],
   "source": [
    "# bets/runners\n",
    "df['bets_vs_runners'] = df.num_bets / df.num_runners\n",
    "df['bets_vs_runners'].hist(bins=100)\n",
    "groups = df.groupby(df['bets_vs_runners'].apply(lambda x: round(x, 1))).mean()\n",
    "groups.plot(kind='bar', y='profit', title='mean profit/bets_per_runners')"
   ]
  },
  {
   "cell_type": "code",
   "execution_count": null,
   "metadata": {},
   "outputs": [],
   "source": []
  }
 ],
 "metadata": {
  "kernelspec": {
   "display_name": "Python 3",
   "language": "python",
   "name": "python3"
  },
  "language_info": {
   "codemirror_mode": {
    "name": "ipython",
    "version": 3
   },
   "file_extension": ".py",
   "mimetype": "text/x-python",
   "name": "python",
   "nbconvert_exporter": "python",
   "pygments_lexer": "ipython3",
   "version": "3.4.3"
  }
 },
 "nbformat": 4,
 "nbformat_minor": 2
}
