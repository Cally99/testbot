{
 "cells": [
  {
   "cell_type": "code",
   "execution_count": 16,
   "metadata": {},
   "outputs": [],
   "source": [
    "import json\n",
    "from sqlalchemy import create_engine\n",
    "import pandas as pd\n",
    "\n",
    "import seaborn as sns\n",
    "import matplotlib.pyplot as plt\n",
    "%matplotlib inline"
   ]
  },
  {
   "cell_type": "code",
   "execution_count": 3,
   "metadata": {},
   "outputs": [
    {
     "data": {
      "text/html": [
       "<div>\n",
       "<style>\n",
       "    .dataframe thead tr:only-child th {\n",
       "        text-align: right;\n",
       "    }\n",
       "\n",
       "    .dataframe thead th {\n",
       "        text-align: left;\n",
       "    }\n",
       "\n",
       "    .dataframe tbody tr th {\n",
       "        vertical-align: top;\n",
       "    }\n",
       "</style>\n",
       "<table border=\"1\" class=\"dataframe\">\n",
       "  <thead>\n",
       "    <tr style=\"text-align: right;\">\n",
       "      <th></th>\n",
       "      <th>id</th>\n",
       "      <th>meeting_name</th>\n",
       "      <th>location</th>\n",
       "      <th>venue_mnemonic</th>\n",
       "      <th>race_type</th>\n",
       "      <th>meeting_date</th>\n",
       "      <th>race_number</th>\n",
       "      <th>race_name</th>\n",
       "      <th>race_start_time</th>\n",
       "      <th>race_status</th>\n",
       "      <th>race_distance</th>\n",
       "      <th>results_data</th>\n",
       "      <th>num_runners</th>\n",
       "      <th>runners_data</th>\n",
       "    </tr>\n",
       "  </thead>\n",
       "  <tbody>\n",
       "    <tr>\n",
       "      <th>0</th>\n",
       "      <td>1</td>\n",
       "      <td>RICHMOND</td>\n",
       "      <td>NSW</td>\n",
       "      <td>C</td>\n",
       "      <td>G</td>\n",
       "      <td>2017-09-13</td>\n",
       "      <td>1</td>\n",
       "      <td>LADBROKES INFO HUB MDN HT1</td>\n",
       "      <td>2017-09-13 05:12:00</td>\n",
       "      <td>Paying</td>\n",
       "      <td>400</td>\n",
       "      <td>[[4], [2], [1], [5]]</td>\n",
       "      <td>8</td>\n",
       "      <td>[{\"runnerName\": \"ZALI'S BLUEBOY\", \"runnerNumbe...</td>\n",
       "    </tr>\n",
       "    <tr>\n",
       "      <th>1</th>\n",
       "      <td>2</td>\n",
       "      <td>RICHMOND</td>\n",
       "      <td>NSW</td>\n",
       "      <td>C</td>\n",
       "      <td>G</td>\n",
       "      <td>2017-09-13</td>\n",
       "      <td>2</td>\n",
       "      <td>KEVIN WATERS TOWING MDN HT2</td>\n",
       "      <td>2017-09-13 05:32:00</td>\n",
       "      <td>Paying</td>\n",
       "      <td>400</td>\n",
       "      <td>[[1], [8], [7], [2]]</td>\n",
       "      <td>8</td>\n",
       "      <td>[{\"runnerName\": \"SKETCHY LINDA\", \"runnerNumber...</td>\n",
       "    </tr>\n",
       "    <tr>\n",
       "      <th>2</th>\n",
       "      <td>3</td>\n",
       "      <td>RICHMOND</td>\n",
       "      <td>NSW</td>\n",
       "      <td>C</td>\n",
       "      <td>G</td>\n",
       "      <td>2017-09-13</td>\n",
       "      <td>4</td>\n",
       "      <td>PENRITHELECTRICAL.COM.AU STKS</td>\n",
       "      <td>2017-09-13 06:07:00</td>\n",
       "      <td>Paying</td>\n",
       "      <td>400</td>\n",
       "      <td>[[9], [7], [8], [2]]</td>\n",
       "      <td>8</td>\n",
       "      <td>[{\"runnerName\": \"BROWZA BOB'\", \"runnerNumber\":...</td>\n",
       "    </tr>\n",
       "    <tr>\n",
       "      <th>3</th>\n",
       "      <td>4</td>\n",
       "      <td>RICHMOND</td>\n",
       "      <td>NSW</td>\n",
       "      <td>C</td>\n",
       "      <td>G</td>\n",
       "      <td>2017-09-13</td>\n",
       "      <td>5</td>\n",
       "      <td>RICHMONDGREYHOUNDS.COM.AU STKS</td>\n",
       "      <td>2017-09-13 06:27:00</td>\n",
       "      <td>Paying</td>\n",
       "      <td>618</td>\n",
       "      <td>[[6], [7], [3], [1]]</td>\n",
       "      <td>8</td>\n",
       "      <td>[{\"runnerName\": \"MIAMI DEMON\", \"runnerNumber\":...</td>\n",
       "    </tr>\n",
       "    <tr>\n",
       "      <th>4</th>\n",
       "      <td>5</td>\n",
       "      <td>RICHMOND</td>\n",
       "      <td>NSW</td>\n",
       "      <td>C</td>\n",
       "      <td>G</td>\n",
       "      <td>2017-09-13</td>\n",
       "      <td>6</td>\n",
       "      <td>SWIFT FANCY @ STUD 1-2W STKS</td>\n",
       "      <td>2017-09-13 06:42:00</td>\n",
       "      <td>Paying</td>\n",
       "      <td>535</td>\n",
       "      <td>[[6], [7], [1], [8]]</td>\n",
       "      <td>8</td>\n",
       "      <td>[{\"runnerName\": \"KILLING TIME\", \"runnerNumber\"...</td>\n",
       "    </tr>\n",
       "  </tbody>\n",
       "</table>\n",
       "</div>"
      ],
      "text/plain": [
       "   id meeting_name location venue_mnemonic race_type meeting_date  \\\n",
       "0   1     RICHMOND      NSW              C         G   2017-09-13   \n",
       "1   2     RICHMOND      NSW              C         G   2017-09-13   \n",
       "2   3     RICHMOND      NSW              C         G   2017-09-13   \n",
       "3   4     RICHMOND      NSW              C         G   2017-09-13   \n",
       "4   5     RICHMOND      NSW              C         G   2017-09-13   \n",
       "\n",
       "   race_number                       race_name     race_start_time  \\\n",
       "0            1      LADBROKES INFO HUB MDN HT1 2017-09-13 05:12:00   \n",
       "1            2     KEVIN WATERS TOWING MDN HT2 2017-09-13 05:32:00   \n",
       "2            4   PENRITHELECTRICAL.COM.AU STKS 2017-09-13 06:07:00   \n",
       "3            5  RICHMONDGREYHOUNDS.COM.AU STKS 2017-09-13 06:27:00   \n",
       "4            6    SWIFT FANCY @ STUD 1-2W STKS 2017-09-13 06:42:00   \n",
       "\n",
       "  race_status  race_distance          results_data  num_runners  \\\n",
       "0      Paying            400  [[4], [2], [1], [5]]            8   \n",
       "1      Paying            400  [[1], [8], [7], [2]]            8   \n",
       "2      Paying            400  [[9], [7], [8], [2]]            8   \n",
       "3      Paying            618  [[6], [7], [3], [1]]            8   \n",
       "4      Paying            535  [[6], [7], [1], [8]]            8   \n",
       "\n",
       "                                        runners_data  \n",
       "0  [{\"runnerName\": \"ZALI'S BLUEBOY\", \"runnerNumbe...  \n",
       "1  [{\"runnerName\": \"SKETCHY LINDA\", \"runnerNumber...  \n",
       "2  [{\"runnerName\": \"BROWZA BOB'\", \"runnerNumber\":...  \n",
       "3  [{\"runnerName\": \"MIAMI DEMON\", \"runnerNumber\":...  \n",
       "4  [{\"runnerName\": \"KILLING TIME\", \"runnerNumber\"...  "
      ]
     },
     "execution_count": 3,
     "metadata": {},
     "output_type": "execute_result"
    }
   ],
   "source": [
    "engine = create_engine('sqlite:///tab.db')\n",
    "conn = engine.connect()\n",
    "dfo = pd.read_sql_table('race', conn)\n",
    "dfo.head()"
   ]
  },
  {
   "cell_type": "code",
   "execution_count": 6,
   "metadata": {},
   "outputs": [
    {
     "data": {
      "text/html": [
       "<div>\n",
       "<style>\n",
       "    .dataframe thead tr:only-child th {\n",
       "        text-align: right;\n",
       "    }\n",
       "\n",
       "    .dataframe thead th {\n",
       "        text-align: left;\n",
       "    }\n",
       "\n",
       "    .dataframe tbody tr th {\n",
       "        vertical-align: top;\n",
       "    }\n",
       "</style>\n",
       "<table border=\"1\" class=\"dataframe\">\n",
       "  <thead>\n",
       "    <tr style=\"text-align: right;\">\n",
       "      <th></th>\n",
       "      <th>id</th>\n",
       "      <th>meeting_name</th>\n",
       "      <th>location</th>\n",
       "      <th>venue_mnemonic</th>\n",
       "      <th>race_type</th>\n",
       "      <th>meeting_date</th>\n",
       "      <th>race_number</th>\n",
       "      <th>race_name</th>\n",
       "      <th>race_start_time</th>\n",
       "      <th>race_status</th>\n",
       "      <th>race_distance</th>\n",
       "      <th>results_data</th>\n",
       "      <th>num_runners</th>\n",
       "      <th>runners_data</th>\n",
       "      <th>results</th>\n",
       "      <th>runners</th>\n",
       "    </tr>\n",
       "  </thead>\n",
       "  <tbody>\n",
       "    <tr>\n",
       "      <th>0</th>\n",
       "      <td>1</td>\n",
       "      <td>RICHMOND</td>\n",
       "      <td>NSW</td>\n",
       "      <td>C</td>\n",
       "      <td>G</td>\n",
       "      <td>2017-09-13</td>\n",
       "      <td>1</td>\n",
       "      <td>LADBROKES INFO HUB MDN HT1</td>\n",
       "      <td>2017-09-13 05:12:00</td>\n",
       "      <td>Paying</td>\n",
       "      <td>400</td>\n",
       "      <td>[[4], [2], [1], [5]]</td>\n",
       "      <td>8</td>\n",
       "      <td>[{\"runnerName\": \"ZALI'S BLUEBOY\", \"runnerNumbe...</td>\n",
       "      <td>[[4], [2], [1], [5]]</td>\n",
       "      <td>[{'finishingPosition': 3, 'fixedOdds': {'propo...</td>\n",
       "    </tr>\n",
       "    <tr>\n",
       "      <th>1</th>\n",
       "      <td>2</td>\n",
       "      <td>RICHMOND</td>\n",
       "      <td>NSW</td>\n",
       "      <td>C</td>\n",
       "      <td>G</td>\n",
       "      <td>2017-09-13</td>\n",
       "      <td>2</td>\n",
       "      <td>KEVIN WATERS TOWING MDN HT2</td>\n",
       "      <td>2017-09-13 05:32:00</td>\n",
       "      <td>Paying</td>\n",
       "      <td>400</td>\n",
       "      <td>[[1], [8], [7], [2]]</td>\n",
       "      <td>8</td>\n",
       "      <td>[{\"runnerName\": \"SKETCHY LINDA\", \"runnerNumber...</td>\n",
       "      <td>[[1], [8], [7], [2]]</td>\n",
       "      <td>[{'finishingPosition': 0, 'fixedOdds': {'propo...</td>\n",
       "    </tr>\n",
       "    <tr>\n",
       "      <th>2</th>\n",
       "      <td>3</td>\n",
       "      <td>RICHMOND</td>\n",
       "      <td>NSW</td>\n",
       "      <td>C</td>\n",
       "      <td>G</td>\n",
       "      <td>2017-09-13</td>\n",
       "      <td>4</td>\n",
       "      <td>PENRITHELECTRICAL.COM.AU STKS</td>\n",
       "      <td>2017-09-13 06:07:00</td>\n",
       "      <td>Paying</td>\n",
       "      <td>400</td>\n",
       "      <td>[[9], [7], [8], [2]]</td>\n",
       "      <td>8</td>\n",
       "      <td>[{\"runnerName\": \"BROWZA BOB'\", \"runnerNumber\":...</td>\n",
       "      <td>[[9], [7], [8], [2]]</td>\n",
       "      <td>[{'finishingPosition': 1, 'fixedOdds': {'propo...</td>\n",
       "    </tr>\n",
       "    <tr>\n",
       "      <th>3</th>\n",
       "      <td>4</td>\n",
       "      <td>RICHMOND</td>\n",
       "      <td>NSW</td>\n",
       "      <td>C</td>\n",
       "      <td>G</td>\n",
       "      <td>2017-09-13</td>\n",
       "      <td>5</td>\n",
       "      <td>RICHMONDGREYHOUNDS.COM.AU STKS</td>\n",
       "      <td>2017-09-13 06:27:00</td>\n",
       "      <td>Paying</td>\n",
       "      <td>618</td>\n",
       "      <td>[[6], [7], [3], [1]]</td>\n",
       "      <td>8</td>\n",
       "      <td>[{\"runnerName\": \"MIAMI DEMON\", \"runnerNumber\":...</td>\n",
       "      <td>[[6], [7], [3], [1]]</td>\n",
       "      <td>[{'finishingPosition': 0, 'fixedOdds': {'propo...</td>\n",
       "    </tr>\n",
       "    <tr>\n",
       "      <th>4</th>\n",
       "      <td>5</td>\n",
       "      <td>RICHMOND</td>\n",
       "      <td>NSW</td>\n",
       "      <td>C</td>\n",
       "      <td>G</td>\n",
       "      <td>2017-09-13</td>\n",
       "      <td>6</td>\n",
       "      <td>SWIFT FANCY @ STUD 1-2W STKS</td>\n",
       "      <td>2017-09-13 06:42:00</td>\n",
       "      <td>Paying</td>\n",
       "      <td>535</td>\n",
       "      <td>[[6], [7], [1], [8]]</td>\n",
       "      <td>8</td>\n",
       "      <td>[{\"runnerName\": \"KILLING TIME\", \"runnerNumber\"...</td>\n",
       "      <td>[[6], [7], [1], [8]]</td>\n",
       "      <td>[{'finishingPosition': 0, 'fixedOdds': {'propo...</td>\n",
       "    </tr>\n",
       "  </tbody>\n",
       "</table>\n",
       "</div>"
      ],
      "text/plain": [
       "   id meeting_name location venue_mnemonic race_type meeting_date  \\\n",
       "0   1     RICHMOND      NSW              C         G   2017-09-13   \n",
       "1   2     RICHMOND      NSW              C         G   2017-09-13   \n",
       "2   3     RICHMOND      NSW              C         G   2017-09-13   \n",
       "3   4     RICHMOND      NSW              C         G   2017-09-13   \n",
       "4   5     RICHMOND      NSW              C         G   2017-09-13   \n",
       "\n",
       "   race_number                       race_name     race_start_time  \\\n",
       "0            1      LADBROKES INFO HUB MDN HT1 2017-09-13 05:12:00   \n",
       "1            2     KEVIN WATERS TOWING MDN HT2 2017-09-13 05:32:00   \n",
       "2            4   PENRITHELECTRICAL.COM.AU STKS 2017-09-13 06:07:00   \n",
       "3            5  RICHMONDGREYHOUNDS.COM.AU STKS 2017-09-13 06:27:00   \n",
       "4            6    SWIFT FANCY @ STUD 1-2W STKS 2017-09-13 06:42:00   \n",
       "\n",
       "  race_status  race_distance          results_data  num_runners  \\\n",
       "0      Paying            400  [[4], [2], [1], [5]]            8   \n",
       "1      Paying            400  [[1], [8], [7], [2]]            8   \n",
       "2      Paying            400  [[9], [7], [8], [2]]            8   \n",
       "3      Paying            618  [[6], [7], [3], [1]]            8   \n",
       "4      Paying            535  [[6], [7], [1], [8]]            8   \n",
       "\n",
       "                                        runners_data               results  \\\n",
       "0  [{\"runnerName\": \"ZALI'S BLUEBOY\", \"runnerNumbe...  [[4], [2], [1], [5]]   \n",
       "1  [{\"runnerName\": \"SKETCHY LINDA\", \"runnerNumber...  [[1], [8], [7], [2]]   \n",
       "2  [{\"runnerName\": \"BROWZA BOB'\", \"runnerNumber\":...  [[9], [7], [8], [2]]   \n",
       "3  [{\"runnerName\": \"MIAMI DEMON\", \"runnerNumber\":...  [[6], [7], [3], [1]]   \n",
       "4  [{\"runnerName\": \"KILLING TIME\", \"runnerNumber\"...  [[6], [7], [1], [8]]   \n",
       "\n",
       "                                             runners  \n",
       "0  [{'finishingPosition': 3, 'fixedOdds': {'propo...  \n",
       "1  [{'finishingPosition': 0, 'fixedOdds': {'propo...  \n",
       "2  [{'finishingPosition': 1, 'fixedOdds': {'propo...  \n",
       "3  [{'finishingPosition': 0, 'fixedOdds': {'propo...  \n",
       "4  [{'finishingPosition': 0, 'fixedOdds': {'propo...  "
      ]
     },
     "execution_count": 6,
     "metadata": {},
     "output_type": "execute_result"
    }
   ],
   "source": [
    "dfo['results'] = dfo['results_data'].map(json.loads)\n",
    "dfo['runners'] = dfo['runners_data'].map(json.loads)\n",
    "dfo.head()"
   ]
  },
  {
   "cell_type": "code",
   "execution_count": 48,
   "metadata": {},
   "outputs": [
    {
     "data": {
      "text/html": [
       "<div>\n",
       "<style>\n",
       "    .dataframe thead tr:only-child th {\n",
       "        text-align: right;\n",
       "    }\n",
       "\n",
       "    .dataframe thead th {\n",
       "        text-align: left;\n",
       "    }\n",
       "\n",
       "    .dataframe tbody tr th {\n",
       "        vertical-align: top;\n",
       "    }\n",
       "</style>\n",
       "<table border=\"1\" class=\"dataframe\">\n",
       "  <thead>\n",
       "    <tr style=\"text-align: right;\">\n",
       "      <th></th>\n",
       "      <th>barrierNumber</th>\n",
       "      <th>claimAmount</th>\n",
       "      <th>finishingPosition</th>\n",
       "      <th>fixedOdds</th>\n",
       "      <th>odds_best</th>\n",
       "      <th>odds_perc</th>\n",
       "      <th>odds_scaled</th>\n",
       "      <th>parimutuel</th>\n",
       "      <th>prediction</th>\n",
       "      <th>probability</th>\n",
       "      <th>riderDriverName</th>\n",
       "      <th>runnerName</th>\n",
       "      <th>runnerNumber</th>\n",
       "      <th>trainerName</th>\n",
       "    </tr>\n",
       "  </thead>\n",
       "  <tbody>\n",
       "    <tr>\n",
       "      <th>0</th>\n",
       "      <td>1</td>\n",
       "      <td>0.0</td>\n",
       "      <td>3</td>\n",
       "      <td>{'propositionNumber': 151981, 'returnWinOpen':...</td>\n",
       "      <td>6.0</td>\n",
       "      <td>0.166667</td>\n",
       "      <td>0.140341</td>\n",
       "      <td>{'returnWin': 5.1, 'returnPlace': 1.4, 'bettin...</td>\n",
       "      <td>2.509228e-01</td>\n",
       "      <td>1.313093e-01</td>\n",
       "      <td></td>\n",
       "      <td>ZALI'S BLUEBOY</td>\n",
       "      <td>1</td>\n",
       "      <td>BRAD PEARCE</td>\n",
       "    </tr>\n",
       "    <tr>\n",
       "      <th>1</th>\n",
       "      <td>2</td>\n",
       "      <td>0.0</td>\n",
       "      <td>2</td>\n",
       "      <td>{'propositionNumber': 151982, 'returnWinOpen':...</td>\n",
       "      <td>2.8</td>\n",
       "      <td>0.357143</td>\n",
       "      <td>0.300730</td>\n",
       "      <td>{'returnWin': 2.7, 'returnPlace': 1.1, 'bettin...</td>\n",
       "      <td>6.210967e-01</td>\n",
       "      <td>3.250234e-01</td>\n",
       "      <td></td>\n",
       "      <td>OVER WATCH</td>\n",
       "      <td>2</td>\n",
       "      <td>MATHEW EGGE</td>\n",
       "    </tr>\n",
       "    <tr>\n",
       "      <th>2</th>\n",
       "      <td>3</td>\n",
       "      <td>0.0</td>\n",
       "      <td>0</td>\n",
       "      <td>{'propositionNumber': 151983, 'returnWinOpen':...</td>\n",
       "      <td>21.0</td>\n",
       "      <td>0.047619</td>\n",
       "      <td>0.040097</td>\n",
       "      <td>{'returnWin': 28.5, 'returnPlace': 6.9, 'betti...</td>\n",
       "      <td>3.543074e-02</td>\n",
       "      <td>1.854111e-02</td>\n",
       "      <td></td>\n",
       "      <td>STATION GIRL</td>\n",
       "      <td>3</td>\n",
       "      <td>DANIEL MCDONALD</td>\n",
       "    </tr>\n",
       "    <tr>\n",
       "      <th>3</th>\n",
       "      <td>4</td>\n",
       "      <td>0.0</td>\n",
       "      <td>1</td>\n",
       "      <td>{'propositionNumber': 151984, 'returnWinOpen':...</td>\n",
       "      <td>34.0</td>\n",
       "      <td>0.029412</td>\n",
       "      <td>0.024766</td>\n",
       "      <td>{'returnWin': 16.7, 'returnPlace': 3.4, 'betti...</td>\n",
       "      <td>1.055459e-26</td>\n",
       "      <td>5.523279e-27</td>\n",
       "      <td></td>\n",
       "      <td>SANYA BAY</td>\n",
       "      <td>4</td>\n",
       "      <td>PAUL BOYD</td>\n",
       "    </tr>\n",
       "    <tr>\n",
       "      <th>4</th>\n",
       "      <td>5</td>\n",
       "      <td>0.0</td>\n",
       "      <td>4</td>\n",
       "      <td>{'propositionNumber': 151985, 'returnWinOpen':...</td>\n",
       "      <td>19.0</td>\n",
       "      <td>0.052632</td>\n",
       "      <td>0.044318</td>\n",
       "      <td>{'returnWin': 17.5, 'returnPlace': 5.6, 'betti...</td>\n",
       "      <td>3.640473e-02</td>\n",
       "      <td>1.905080e-02</td>\n",
       "      <td></td>\n",
       "      <td>FIRE IMAGE</td>\n",
       "      <td>5</td>\n",
       "      <td>PERCY GORDON</td>\n",
       "    </tr>\n",
       "  </tbody>\n",
       "</table>\n",
       "</div>"
      ],
      "text/plain": [
       "   barrierNumber  claimAmount  finishingPosition  \\\n",
       "0              1          0.0                  3   \n",
       "1              2          0.0                  2   \n",
       "2              3          0.0                  0   \n",
       "3              4          0.0                  1   \n",
       "4              5          0.0                  4   \n",
       "\n",
       "                                           fixedOdds  odds_best  odds_perc  \\\n",
       "0  {'propositionNumber': 151981, 'returnWinOpen':...        6.0   0.166667   \n",
       "1  {'propositionNumber': 151982, 'returnWinOpen':...        2.8   0.357143   \n",
       "2  {'propositionNumber': 151983, 'returnWinOpen':...       21.0   0.047619   \n",
       "3  {'propositionNumber': 151984, 'returnWinOpen':...       34.0   0.029412   \n",
       "4  {'propositionNumber': 151985, 'returnWinOpen':...       19.0   0.052632   \n",
       "\n",
       "   odds_scaled                                         parimutuel  \\\n",
       "0     0.140341  {'returnWin': 5.1, 'returnPlace': 1.4, 'bettin...   \n",
       "1     0.300730  {'returnWin': 2.7, 'returnPlace': 1.1, 'bettin...   \n",
       "2     0.040097  {'returnWin': 28.5, 'returnPlace': 6.9, 'betti...   \n",
       "3     0.024766  {'returnWin': 16.7, 'returnPlace': 3.4, 'betti...   \n",
       "4     0.044318  {'returnWin': 17.5, 'returnPlace': 5.6, 'betti...   \n",
       "\n",
       "     prediction   probability riderDriverName      runnerName  runnerNumber  \\\n",
       "0  2.509228e-01  1.313093e-01                  ZALI'S BLUEBOY             1   \n",
       "1  6.210967e-01  3.250234e-01                      OVER WATCH             2   \n",
       "2  3.543074e-02  1.854111e-02                    STATION GIRL             3   \n",
       "3  1.055459e-26  5.523279e-27                       SANYA BAY             4   \n",
       "4  3.640473e-02  1.905080e-02                      FIRE IMAGE             5   \n",
       "\n",
       "       trainerName  \n",
       "0      BRAD PEARCE  \n",
       "1      MATHEW EGGE  \n",
       "2  DANIEL MCDONALD  \n",
       "3        PAUL BOYD  \n",
       "4     PERCY GORDON  "
      ]
     },
     "execution_count": 48,
     "metadata": {},
     "output_type": "execute_result"
    }
   ],
   "source": [
    "data = pd.DataFrame()\n",
    "for row in dfo['runners']:\n",
    "    data = data.append(row)\n",
    "data.head()"
   ]
  },
  {
   "cell_type": "code",
   "execution_count": 49,
   "metadata": {},
   "outputs": [],
   "source": [
    "# set losers with 0 to 5\n",
    "data.loc[data['finishingPosition'] == 0, 'finishingPosition'] = 5"
   ]
  },
  {
   "cell_type": "code",
   "execution_count": 50,
   "metadata": {},
   "outputs": [
    {
     "data": {
      "text/plain": [
       "<seaborn.axisgrid.PairGrid at 0x7f6a9dcfa198>"
      ]
     },
     "execution_count": 50,
     "metadata": {},
     "output_type": "execute_result"
    },
    {
     "data": {
      "image/png": "[encoded data removed]",
      "text/plain": [
       "<matplotlib.figure.Figure at 0x7f6a9dcfa0b8>"
      ]
     },
     "metadata": {},
     "output_type": "display_data"
    }
   ],
   "source": [
    "sns.pairplot(data, vars=['probability', 'finishingPosition'])"
   ]
  },
  {
   "cell_type": "code",
   "execution_count": 51,
   "metadata": {},
   "outputs": [
    {
     "data": {
      "text/plain": [
       "<matplotlib.axes._subplots.AxesSubplot at 0x7f6a9d8cd588>"
      ]
     },
     "execution_count": 51,
     "metadata": {},
     "output_type": "execute_result"
    },
    {
     "data": {
      "image/png": "[encoded data removed]",
      "text/plain": [
       "<matplotlib.figure.Figure at 0x7f6a9da4ff98>"
      ]
     },
     "metadata": {},
     "output_type": "display_data"
    }
   ],
   "source": [
    "data.plot.scatter(x='probability', y='odds_scaled')"
   ]
  },
  {
   "cell_type": "code",
   "execution_count": 52,
   "metadata": {},
   "outputs": [
    {
     "data": {
      "text/plain": [
       "<matplotlib.axes._subplots.AxesSubplot at 0x7f6a9d81b9e8>"
      ]
     },
     "execution_count": 52,
     "metadata": {},
     "output_type": "execute_result"
    },
    {
     "data": {
      "image/png": "[encoded data removed]",
      "text/plain": [
       "<matplotlib.figure.Figure at 0x7f6aa4c4a160>"
      ]
     },
     "metadata": {},
     "output_type": "display_data"
    }
   ],
   "source": [
    "data.plot.scatter(x='finishingPosition', y='odds_scaled')"
   ]
  },
  {
   "cell_type": "code",
   "execution_count": 53,
   "metadata": {},
   "outputs": [
    {
     "data": {
      "text/plain": [
       "<matplotlib.axes._subplots.AxesSubplot at 0x7f6a9d791ef0>"
      ]
     },
     "execution_count": 53,
     "metadata": {},
     "output_type": "execute_result"
    },
    {
     "data": {
      "image/png": "[encoded data removed]",
      "text/plain": [
       "<matplotlib.figure.Figure at 0x7f6a9d79f2b0>"
      ]
     },
     "metadata": {},
     "output_type": "display_data"
    }
   ],
   "source": [
    "data.plot.scatter(x='finishingPosition', y='probability')"
   ]
  },
  {
   "cell_type": "code",
   "execution_count": 54,
   "metadata": {},
   "outputs": [
    {
     "data": {
      "text/plain": [
       "<matplotlib.axes._subplots.AxesSubplot at 0x7f6a9d7724e0>"
      ]
     },
     "execution_count": 54,
     "metadata": {},
     "output_type": "execute_result"
    },
    {
     "data": {
      "image/png": "[encoded data removed]",
      "text/plain": [
       "<matplotlib.figure.Figure at 0x7f6a9d705128>"
      ]
     },
     "metadata": {},
     "output_type": "display_data"
    }
   ],
   "source": [
    "data.boxplot(column=['odds_scaled', 'probability'])"
   ]
  },
  {
   "cell_type": "code",
   "execution_count": 56,
   "metadata": {},
   "outputs": [
    {
     "data": {
      "text/html": [
       "<div>\n",
       "<style>\n",
       "    .dataframe thead tr:only-child th {\n",
       "        text-align: right;\n",
       "    }\n",
       "\n",
       "    .dataframe thead th {\n",
       "        text-align: left;\n",
       "    }\n",
       "\n",
       "    .dataframe tbody tr th {\n",
       "        vertical-align: top;\n",
       "    }\n",
       "</style>\n",
       "<table border=\"1\" class=\"dataframe\">\n",
       "  <thead>\n",
       "    <tr style=\"text-align: right;\">\n",
       "      <th></th>\n",
       "      <th>barrierNumber</th>\n",
       "      <th>claimAmount</th>\n",
       "      <th>finishingPosition</th>\n",
       "      <th>fixedOdds</th>\n",
       "      <th>odds_best</th>\n",
       "      <th>odds_perc</th>\n",
       "      <th>odds_scaled</th>\n",
       "      <th>parimutuel</th>\n",
       "      <th>prediction</th>\n",
       "      <th>probability</th>\n",
       "      <th>riderDriverName</th>\n",
       "      <th>runnerName</th>\n",
       "      <th>runnerNumber</th>\n",
       "      <th>trainerName</th>\n",
       "    </tr>\n",
       "  </thead>\n",
       "  <tbody>\n",
       "    <tr>\n",
       "      <th>8</th>\n",
       "      <td>3</td>\n",
       "      <td>0.0</td>\n",
       "      <td>1</td>\n",
       "      <td>{'propositionNumber': 151153, 'returnWinOpen':...</td>\n",
       "      <td>1.08</td>\n",
       "      <td>0.925926</td>\n",
       "      <td>0.774723</td>\n",
       "      <td>{'returnWin': 1.1, 'returnPlace': 1.1, 'bettin...</td>\n",
       "      <td>5.889542e-15</td>\n",
       "      <td>3.463263e-14</td>\n",
       "      <td></td>\n",
       "      <td>BIG FLOOD</td>\n",
       "      <td>3</td>\n",
       "      <td>SEONA THOMPSON</td>\n",
       "    </tr>\n",
       "  </tbody>\n",
       "</table>\n",
       "</div>"
      ],
      "text/plain": [
       "   barrierNumber  claimAmount  finishingPosition  \\\n",
       "8              3          0.0                  1   \n",
       "\n",
       "                                           fixedOdds  odds_best  odds_perc  \\\n",
       "8  {'propositionNumber': 151153, 'returnWinOpen':...       1.08   0.925926   \n",
       "\n",
       "   odds_scaled                                         parimutuel  \\\n",
       "8     0.774723  {'returnWin': 1.1, 'returnPlace': 1.1, 'bettin...   \n",
       "\n",
       "     prediction   probability riderDriverName runnerName  runnerNumber  \\\n",
       "8  5.889542e-15  3.463263e-14                  BIG FLOOD             3   \n",
       "\n",
       "      trainerName  \n",
       "8  SEONA THOMPSON  "
      ]
     },
     "execution_count": 56,
     "metadata": {},
     "output_type": "execute_result"
    }
   ],
   "source": [
    "df_high = data[(data.odds_scaled > 0.7)]\n",
    "df_high"
   ]
  },
  {
   "cell_type": "code",
   "execution_count": null,
   "metadata": {},
   "outputs": [],
   "source": []
  }
 ],
 "metadata": {
  "kernelspec": {
   "display_name": "Python 3",
   "language": "python",
   "name": "python3"
  },
  "language_info": {
   "codemirror_mode": {
    "name": "ipython",
    "version": 3
   },
   "file_extension": ".py",
   "mimetype": "text/x-python",
   "name": "python",
   "nbconvert_exporter": "python",
   "pygments_lexer": "ipython3",
   "version": "3.4.3"
  }
 },
 "nbformat": 4,
 "nbformat_minor": 2
}
