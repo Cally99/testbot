{
 "cells": [
  {
   "cell_type": "code",
   "execution_count": 15,
   "metadata": {},
   "outputs": [],
   "source": [
    "from keras.models import Sequential, load_model\n",
    "from keras.layers import Dense, Activation, Dropout\n",
    "from keras_tqdm import TQDMNotebookCallback\n",
    "import keras.callbacks\n",
    "\n",
    "from sqlalchemy import create_engine\n",
    "from itertools import combinations\n",
    "from operator import itemgetter\n",
    "import json\n",
    "\n",
    "import pandas as pd\n",
    "import numpy as np\n",
    "import seaborn as sns\n",
    "import matplotlib.pyplot as plt\n",
    "%matplotlib inline"
   ]
  },
  {
   "cell_type": "code",
   "execution_count": 33,
   "metadata": {
    "collapsed": true
   },
   "outputs": [],
   "source": [
    "version = 'v2'\n",
    "\n",
    "race_type = 'R'\n",
    "r = 2\n",
    "\n",
    "bet_type = 'E'"
   ]
  },
  {
   "cell_type": "code",
   "execution_count": 7,
   "metadata": {},
   "outputs": [
    {
     "name": "stdout",
     "output_type": "stream",
     "text": [
      "31867 races loaded!\n"
     ]
    }
   ],
   "source": [
    "engine = create_engine('sqlite:///../../data/race.db')\n",
    "conn = engine.connect()\n",
    "conn\n",
    "dfoo = pd.read_sql_table('race', conn)\n",
    "print('{} races loaded!'.format(len(dfoo)))"
   ]
  },
  {
   "cell_type": "code",
   "execution_count": 8,
   "metadata": {},
   "outputs": [
    {
     "name": "stdout",
     "output_type": "stream",
     "text": [
      "10248 R races!\n"
     ]
    }
   ],
   "source": [
    "dfo = dfoo.loc[dfoo['race_type'].isin([race_type])]\n",
    "print('{} {} races!'.format(len(dfo), race_type))"
   ]
  },
  {
   "cell_type": "code",
   "execution_count": 9,
   "metadata": {},
   "outputs": [
    {
     "name": "stderr",
     "output_type": "stream",
     "text": [
      "/Users/jaco/.pyenv/versions/3.6.1/envs/tabby/lib/python3.6/site-packages/ipykernel_launcher.py:1: SettingWithCopyWarning: \n",
      "A value is trying to be set on a copy of a slice from a DataFrame.\n",
      "Try using .loc[row_indexer,col_indexer] = value instead\n",
      "\n",
      "See the caveats in the documentation: http://pandas.pydata.org/pandas-docs/stable/indexing.html#indexing-view-versus-copy\n",
      "  \"\"\"Entry point for launching an IPython kernel.\n",
      "/Users/jaco/.pyenv/versions/3.6.1/envs/tabby/lib/python3.6/site-packages/ipykernel_launcher.py:2: SettingWithCopyWarning: \n",
      "A value is trying to be set on a copy of a slice from a DataFrame.\n",
      "Try using .loc[row_indexer,col_indexer] = value instead\n",
      "\n",
      "See the caveats in the documentation: http://pandas.pydata.org/pandas-docs/stable/indexing.html#indexing-view-versus-copy\n",
      "  \n"
     ]
    },
    {
     "data": {
      "text/html": [
       "<div>\n",
       "<style>\n",
       "    .dataframe thead tr:only-child th {\n",
       "        text-align: right;\n",
       "    }\n",
       "\n",
       "    .dataframe thead th {\n",
       "        text-align: left;\n",
       "    }\n",
       "\n",
       "    .dataframe tbody tr th {\n",
       "        vertical-align: top;\n",
       "    }\n",
       "</style>\n",
       "<table border=\"1\" class=\"dataframe\">\n",
       "  <thead>\n",
       "    <tr style=\"text-align: right;\">\n",
       "      <th></th>\n",
       "      <th>id</th>\n",
       "      <th>meeting_name</th>\n",
       "      <th>location</th>\n",
       "      <th>venue_mnemonic</th>\n",
       "      <th>race_type</th>\n",
       "      <th>meeting_date</th>\n",
       "      <th>race_number</th>\n",
       "      <th>race_name</th>\n",
       "      <th>race_start_time</th>\n",
       "      <th>race_status</th>\n",
       "      <th>race_distance</th>\n",
       "      <th>results_data</th>\n",
       "      <th>num_runners</th>\n",
       "      <th>runners_data</th>\n",
       "      <th>quinella</th>\n",
       "      <th>exacta</th>\n",
       "      <th>trifecta</th>\n",
       "      <th>first_four</th>\n",
       "      <th>results</th>\n",
       "      <th>runners</th>\n",
       "    </tr>\n",
       "  </thead>\n",
       "  <tbody>\n",
       "    <tr>\n",
       "      <th>0</th>\n",
       "      <td>1</td>\n",
       "      <td>BALLINA</td>\n",
       "      <td>NSW</td>\n",
       "      <td>C</td>\n",
       "      <td>R</td>\n",
       "      <td>2017-10-01</td>\n",
       "      <td>1</td>\n",
       "      <td>COATES HIRE MAIDEN PLATE</td>\n",
       "      <td>2017-10-01 01:40:00</td>\n",
       "      <td>Paying</td>\n",
       "      <td>1600</td>\n",
       "      <td>[[4], [9], [7], [6]]</td>\n",
       "      <td>11.0</td>\n",
       "      <td>[{\"runnerName\": \"WHO AM I\", \"runnerNumber\": 12...</td>\n",
       "      <td>35.2</td>\n",
       "      <td>27.4</td>\n",
       "      <td>170.9</td>\n",
       "      <td>401.1</td>\n",
       "      <td>[[4], [9], [7], [6]]</td>\n",
       "      <td>[{'runnerName': 'WHO AM I', 'runnerNumber': 12...</td>\n",
       "    </tr>\n",
       "    <tr>\n",
       "      <th>1</th>\n",
       "      <td>3</td>\n",
       "      <td>BALLINA</td>\n",
       "      <td>NSW</td>\n",
       "      <td>C</td>\n",
       "      <td>R</td>\n",
       "      <td>2017-10-01</td>\n",
       "      <td>3</td>\n",
       "      <td>CNW ELECTRICAL WHOLESALE CG&amp;E BM55</td>\n",
       "      <td>2017-10-01 02:55:00</td>\n",
       "      <td>Paying</td>\n",
       "      <td>1000</td>\n",
       "      <td>[[3], [4], [5], [1]]</td>\n",
       "      <td>7.0</td>\n",
       "      <td>[{\"runnerName\": \"MCLENNAN\", \"runnerNumber\": 1,...</td>\n",
       "      <td>14.1</td>\n",
       "      <td>23.1</td>\n",
       "      <td>100.3</td>\n",
       "      <td>710.5</td>\n",
       "      <td>[[3], [4], [5], [1]]</td>\n",
       "      <td>[{'runnerName': 'MCLENNAN', 'runnerNumber': 1,...</td>\n",
       "    </tr>\n",
       "    <tr>\n",
       "      <th>2</th>\n",
       "      <td>4</td>\n",
       "      <td>BALLINA</td>\n",
       "      <td>NSW</td>\n",
       "      <td>C</td>\n",
       "      <td>R</td>\n",
       "      <td>2017-10-01</td>\n",
       "      <td>4</td>\n",
       "      <td>LEND LEASE MAIDEN HANDICAP</td>\n",
       "      <td>2017-10-01 03:35:00</td>\n",
       "      <td>Paying</td>\n",
       "      <td>1300</td>\n",
       "      <td>[[14], [5], [1], [13]]</td>\n",
       "      <td>12.0</td>\n",
       "      <td>[{\"runnerName\": \"WOODDITTON\", \"runnerNumber\": ...</td>\n",
       "      <td>8.5</td>\n",
       "      <td>22.6</td>\n",
       "      <td>49.6</td>\n",
       "      <td>1158.9</td>\n",
       "      <td>[[14], [5], [1], [13]]</td>\n",
       "      <td>[{'runnerName': 'WOODDITTON', 'runnerNumber': ...</td>\n",
       "    </tr>\n",
       "  </tbody>\n",
       "</table>\n",
       "</div>"
      ],
      "text/plain": [
       "   id meeting_name location venue_mnemonic race_type meeting_date  \\\n",
       "0   1      BALLINA      NSW              C         R   2017-10-01   \n",
       "1   3      BALLINA      NSW              C         R   2017-10-01   \n",
       "2   4      BALLINA      NSW              C         R   2017-10-01   \n",
       "\n",
       "   race_number                           race_name     race_start_time  \\\n",
       "0            1            COATES HIRE MAIDEN PLATE 2017-10-01 01:40:00   \n",
       "1            3  CNW ELECTRICAL WHOLESALE CG&E BM55 2017-10-01 02:55:00   \n",
       "2            4          LEND LEASE MAIDEN HANDICAP 2017-10-01 03:35:00   \n",
       "\n",
       "  race_status  race_distance            results_data  num_runners  \\\n",
       "0      Paying           1600    [[4], [9], [7], [6]]         11.0   \n",
       "1      Paying           1000    [[3], [4], [5], [1]]          7.0   \n",
       "2      Paying           1300  [[14], [5], [1], [13]]         12.0   \n",
       "\n",
       "                                        runners_data  quinella  exacta  \\\n",
       "0  [{\"runnerName\": \"WHO AM I\", \"runnerNumber\": 12...      35.2    27.4   \n",
       "1  [{\"runnerName\": \"MCLENNAN\", \"runnerNumber\": 1,...      14.1    23.1   \n",
       "2  [{\"runnerName\": \"WOODDITTON\", \"runnerNumber\": ...       8.5    22.6   \n",
       "\n",
       "   trifecta  first_four                 results  \\\n",
       "0     170.9       401.1    [[4], [9], [7], [6]]   \n",
       "1     100.3       710.5    [[3], [4], [5], [1]]   \n",
       "2      49.6      1158.9  [[14], [5], [1], [13]]   \n",
       "\n",
       "                                             runners  \n",
       "0  [{'runnerName': 'WHO AM I', 'runnerNumber': 12...  \n",
       "1  [{'runnerName': 'MCLENNAN', 'runnerNumber': 1,...  \n",
       "2  [{'runnerName': 'WOODDITTON', 'runnerNumber': ...  "
      ]
     },
     "execution_count": 9,
     "metadata": {},
     "output_type": "execute_result"
    }
   ],
   "source": [
    "dfo['results'] = dfo['results_data'].map(json.loads)\n",
    "dfo['runners'] = dfo['runners_data'].map(json.loads)\n",
    "dfo.head(3)"
   ]
  },
  {
   "cell_type": "code",
   "execution_count": 21,
   "metadata": {
    "collapsed": true
   },
   "outputs": [],
   "source": [
    "def build_combinations(runners, r, outcome=None, dividend=None):\n",
    "    data = []\n",
    "    # sort to combinations instead of permutations\n",
    "    runners = sorted(runners, key=itemgetter('win_scaled'), reverse=True)\n",
    "    # create combs for box of size 'r' runners\n",
    "    combs = combinations(runners, r)\n",
    "    # construct data object for every combination\n",
    "    for comb in combs:\n",
    "        item = {}\n",
    "        # add every runner data in comb\n",
    "        for i, runner in enumerate(comb):\n",
    "            # only add combs with runners that have odds\n",
    "            if not runner['has_odds']:\n",
    "                break\n",
    "            item.update({\n",
    "                'run{}_num'.format(i + 1): runner['runnerNumber'],\n",
    "                'run{}_win_perc'.format(i + 1): runner['win_perc'],\n",
    "                'run{}_win_scaled'.format(i + 1): runner['win_scaled'],\n",
    "                'run{}_win_rank'.format(i + 1): runner['win_rank'],\n",
    "                'run{}_place_perc'.format(i + 1): runner['place_perc'],\n",
    "                'run{}_place_scaled'.format(i + 1): runner['place_scaled'],\n",
    "                'run{}_place_rank'.format(i + 1): runner['place_rank'],\n",
    "            })\n",
    "        # if broken then a runner does not have odds, and rest (incl add) should be in else\n",
    "        else:\n",
    "            # all runners data added, now add rest or meeting specific data\n",
    "            item.update({\n",
    "                'num_runners': 1 / runner['num_runners'],\n",
    "                'race_type': race_type,\n",
    "                'bet_type': bet_type,\n",
    "            })\n",
    "            if outcome and dividend:\n",
    "                res1, res2, res3, res4 = outcome\n",
    "                try:\n",
    "                    res1, res2, res3, res4 = res1[0], res2[0], res3[0], res4[0]\n",
    "                except IndexError as e:\n",
    "                    continue\n",
    "                item.update({\n",
    "                    'success': 1 if item['run1_num'] == res1 and item['run2_num'] == res2 else 0,\n",
    "                    'dividend': dividend,\n",
    "                })\n",
    "            data.append(item)\n",
    "    return data"
   ]
  },
  {
   "cell_type": "code",
   "execution_count": 28,
   "metadata": {},
   "outputs": [
    {
     "data": {
      "text/html": [
       "<div>\n",
       "<style>\n",
       "    .dataframe thead tr:only-child th {\n",
       "        text-align: right;\n",
       "    }\n",
       "\n",
       "    .dataframe thead th {\n",
       "        text-align: left;\n",
       "    }\n",
       "\n",
       "    .dataframe tbody tr th {\n",
       "        vertical-align: top;\n",
       "    }\n",
       "</style>\n",
       "<table border=\"1\" class=\"dataframe\">\n",
       "  <thead>\n",
       "    <tr style=\"text-align: right;\">\n",
       "      <th></th>\n",
       "      <th>bet_type</th>\n",
       "      <th>dividend</th>\n",
       "      <th>num_runners</th>\n",
       "      <th>race_type</th>\n",
       "      <th>run1_num</th>\n",
       "      <th>run1_place_perc</th>\n",
       "      <th>run1_place_rank</th>\n",
       "      <th>run1_place_scaled</th>\n",
       "      <th>run1_win_perc</th>\n",
       "      <th>run1_win_rank</th>\n",
       "      <th>run1_win_scaled</th>\n",
       "      <th>run2_num</th>\n",
       "      <th>run2_place_perc</th>\n",
       "      <th>run2_place_rank</th>\n",
       "      <th>run2_place_scaled</th>\n",
       "      <th>run2_win_perc</th>\n",
       "      <th>run2_win_rank</th>\n",
       "      <th>run2_win_scaled</th>\n",
       "      <th>success</th>\n",
       "    </tr>\n",
       "  </thead>\n",
       "  <tbody>\n",
       "    <tr>\n",
       "      <th>50</th>\n",
       "      <td>Q</td>\n",
       "      <td>27.4</td>\n",
       "      <td>11.0</td>\n",
       "      <td>R</td>\n",
       "      <td>11</td>\n",
       "      <td>0.100000</td>\n",
       "      <td>0.416667</td>\n",
       "      <td>0.027687</td>\n",
       "      <td>0.018215</td>\n",
       "      <td>0.416667</td>\n",
       "      <td>0.015117</td>\n",
       "      <td>3</td>\n",
       "      <td>0.038911</td>\n",
       "      <td>0.166667</td>\n",
       "      <td>0.010773</td>\n",
       "      <td>0.008554</td>\n",
       "      <td>0.250000</td>\n",
       "      <td>0.007099</td>\n",
       "      <td>0</td>\n",
       "    </tr>\n",
       "    <tr>\n",
       "      <th>51</th>\n",
       "      <td>Q</td>\n",
       "      <td>27.4</td>\n",
       "      <td>11.0</td>\n",
       "      <td>R</td>\n",
       "      <td>11</td>\n",
       "      <td>0.100000</td>\n",
       "      <td>0.416667</td>\n",
       "      <td>0.027687</td>\n",
       "      <td>0.018215</td>\n",
       "      <td>0.416667</td>\n",
       "      <td>0.015117</td>\n",
       "      <td>2</td>\n",
       "      <td>0.041322</td>\n",
       "      <td>0.250000</td>\n",
       "      <td>0.011441</td>\n",
       "      <td>0.008410</td>\n",
       "      <td>0.166667</td>\n",
       "      <td>0.006980</td>\n",
       "      <td>0</td>\n",
       "    </tr>\n",
       "    <tr>\n",
       "      <th>52</th>\n",
       "      <td>Q</td>\n",
       "      <td>27.4</td>\n",
       "      <td>11.0</td>\n",
       "      <td>R</td>\n",
       "      <td>5</td>\n",
       "      <td>0.087719</td>\n",
       "      <td>0.333333</td>\n",
       "      <td>0.024287</td>\n",
       "      <td>0.011099</td>\n",
       "      <td>0.333333</td>\n",
       "      <td>0.009211</td>\n",
       "      <td>3</td>\n",
       "      <td>0.038911</td>\n",
       "      <td>0.166667</td>\n",
       "      <td>0.010773</td>\n",
       "      <td>0.008554</td>\n",
       "      <td>0.250000</td>\n",
       "      <td>0.007099</td>\n",
       "      <td>0</td>\n",
       "    </tr>\n",
       "    <tr>\n",
       "      <th>53</th>\n",
       "      <td>Q</td>\n",
       "      <td>27.4</td>\n",
       "      <td>11.0</td>\n",
       "      <td>R</td>\n",
       "      <td>5</td>\n",
       "      <td>0.087719</td>\n",
       "      <td>0.333333</td>\n",
       "      <td>0.024287</td>\n",
       "      <td>0.011099</td>\n",
       "      <td>0.333333</td>\n",
       "      <td>0.009211</td>\n",
       "      <td>2</td>\n",
       "      <td>0.041322</td>\n",
       "      <td>0.250000</td>\n",
       "      <td>0.011441</td>\n",
       "      <td>0.008410</td>\n",
       "      <td>0.166667</td>\n",
       "      <td>0.006980</td>\n",
       "      <td>0</td>\n",
       "    </tr>\n",
       "    <tr>\n",
       "      <th>54</th>\n",
       "      <td>Q</td>\n",
       "      <td>27.4</td>\n",
       "      <td>11.0</td>\n",
       "      <td>R</td>\n",
       "      <td>3</td>\n",
       "      <td>0.038911</td>\n",
       "      <td>0.166667</td>\n",
       "      <td>0.010773</td>\n",
       "      <td>0.008554</td>\n",
       "      <td>0.250000</td>\n",
       "      <td>0.007099</td>\n",
       "      <td>2</td>\n",
       "      <td>0.041322</td>\n",
       "      <td>0.250000</td>\n",
       "      <td>0.011441</td>\n",
       "      <td>0.008410</td>\n",
       "      <td>0.166667</td>\n",
       "      <td>0.006980</td>\n",
       "      <td>0</td>\n",
       "    </tr>\n",
       "  </tbody>\n",
       "</table>\n",
       "</div>"
      ],
      "text/plain": [
       "   bet_type  dividend  num_runners race_type  run1_num  run1_place_perc  \\\n",
       "50        Q      27.4         11.0         R        11         0.100000   \n",
       "51        Q      27.4         11.0         R        11         0.100000   \n",
       "52        Q      27.4         11.0         R         5         0.087719   \n",
       "53        Q      27.4         11.0         R         5         0.087719   \n",
       "54        Q      27.4         11.0         R         3         0.038911   \n",
       "\n",
       "    run1_place_rank  run1_place_scaled  run1_win_perc  run1_win_rank  \\\n",
       "50         0.416667           0.027687       0.018215       0.416667   \n",
       "51         0.416667           0.027687       0.018215       0.416667   \n",
       "52         0.333333           0.024287       0.011099       0.333333   \n",
       "53         0.333333           0.024287       0.011099       0.333333   \n",
       "54         0.166667           0.010773       0.008554       0.250000   \n",
       "\n",
       "    run1_win_scaled  run2_num  run2_place_perc  run2_place_rank  \\\n",
       "50         0.015117         3         0.038911         0.166667   \n",
       "51         0.015117         2         0.041322         0.250000   \n",
       "52         0.009211         3         0.038911         0.166667   \n",
       "53         0.009211         2         0.041322         0.250000   \n",
       "54         0.007099         2         0.041322         0.250000   \n",
       "\n",
       "    run2_place_scaled  run2_win_perc  run2_win_rank  run2_win_scaled  success  \n",
       "50           0.010773       0.008554       0.250000         0.007099        0  \n",
       "51           0.011441       0.008410       0.166667         0.006980        0  \n",
       "52           0.010773       0.008554       0.250000         0.007099        0  \n",
       "53           0.011441       0.008410       0.166667         0.006980        0  \n",
       "54           0.011441       0.008410       0.166667         0.006980        0  "
      ]
     },
     "execution_count": 28,
     "metadata": {},
     "output_type": "execute_result"
    }
   ],
   "source": [
    "# extract runners from races\n",
    "data_all = pd.DataFrame()\n",
    "for ri, race in dfo.iterrows():\n",
    "    combs = build_combinations(race['runners'], r, race['results'], race['exacta'])\n",
    "#     print(combs)\n",
    "    data_all = data_all.append(combs)\n",
    "    break\n",
    "data_all.tail()"
   ]
  },
  {
   "cell_type": "code",
   "execution_count": 30,
   "metadata": {},
   "outputs": [
    {
     "data": {
      "text/plain": [
       "count    55.000000\n",
       "mean      0.018182\n",
       "std       0.134840\n",
       "min       0.000000\n",
       "25%       0.000000\n",
       "50%       0.000000\n",
       "75%       0.000000\n",
       "max       1.000000\n",
       "Name: success, dtype: float64"
      ]
     },
     "execution_count": 30,
     "metadata": {},
     "output_type": "execute_result"
    }
   ],
   "source": [
    "# get label data\n",
    "Y = data_all['success']\n",
    "\n",
    "#print(data['finishingPosition'].head(10))\n",
    "Y = Y.astype(int)\n",
    "# Y.head(10)\n",
    "Y.describe()"
   ]
  },
  {
   "cell_type": "code",
   "execution_count": 31,
   "metadata": {},
   "outputs": [
    {
     "data": {
      "text/html": [
       "<div>\n",
       "<style>\n",
       "    .dataframe thead tr:only-child th {\n",
       "        text-align: right;\n",
       "    }\n",
       "\n",
       "    .dataframe thead th {\n",
       "        text-align: left;\n",
       "    }\n",
       "\n",
       "    .dataframe tbody tr th {\n",
       "        vertical-align: top;\n",
       "    }\n",
       "</style>\n",
       "<table border=\"1\" class=\"dataframe\">\n",
       "  <thead>\n",
       "    <tr style=\"text-align: right;\">\n",
       "      <th></th>\n",
       "      <th>num_runners</th>\n",
       "      <th>run1_win_perc</th>\n",
       "      <th>run1_win_scaled</th>\n",
       "      <th>run1_win_rank</th>\n",
       "      <th>run1_place_perc</th>\n",
       "      <th>run1_place_scaled</th>\n",
       "      <th>run1_place_rank</th>\n",
       "      <th>run2_win_perc</th>\n",
       "      <th>run2_win_scaled</th>\n",
       "      <th>run2_win_rank</th>\n",
       "      <th>run2_place_perc</th>\n",
       "      <th>run2_place_scaled</th>\n",
       "      <th>run2_place_rank</th>\n",
       "    </tr>\n",
       "  </thead>\n",
       "  <tbody>\n",
       "    <tr>\n",
       "      <th>50</th>\n",
       "      <td>11.0</td>\n",
       "      <td>0.018215</td>\n",
       "      <td>0.015117</td>\n",
       "      <td>0.416667</td>\n",
       "      <td>0.100000</td>\n",
       "      <td>0.027687</td>\n",
       "      <td>0.416667</td>\n",
       "      <td>0.008554</td>\n",
       "      <td>0.007099</td>\n",
       "      <td>0.250000</td>\n",
       "      <td>0.038911</td>\n",
       "      <td>0.010773</td>\n",
       "      <td>0.166667</td>\n",
       "    </tr>\n",
       "    <tr>\n",
       "      <th>51</th>\n",
       "      <td>11.0</td>\n",
       "      <td>0.018215</td>\n",
       "      <td>0.015117</td>\n",
       "      <td>0.416667</td>\n",
       "      <td>0.100000</td>\n",
       "      <td>0.027687</td>\n",
       "      <td>0.416667</td>\n",
       "      <td>0.008410</td>\n",
       "      <td>0.006980</td>\n",
       "      <td>0.166667</td>\n",
       "      <td>0.041322</td>\n",
       "      <td>0.011441</td>\n",
       "      <td>0.250000</td>\n",
       "    </tr>\n",
       "    <tr>\n",
       "      <th>52</th>\n",
       "      <td>11.0</td>\n",
       "      <td>0.011099</td>\n",
       "      <td>0.009211</td>\n",
       "      <td>0.333333</td>\n",
       "      <td>0.087719</td>\n",
       "      <td>0.024287</td>\n",
       "      <td>0.333333</td>\n",
       "      <td>0.008554</td>\n",
       "      <td>0.007099</td>\n",
       "      <td>0.250000</td>\n",
       "      <td>0.038911</td>\n",
       "      <td>0.010773</td>\n",
       "      <td>0.166667</td>\n",
       "    </tr>\n",
       "    <tr>\n",
       "      <th>53</th>\n",
       "      <td>11.0</td>\n",
       "      <td>0.011099</td>\n",
       "      <td>0.009211</td>\n",
       "      <td>0.333333</td>\n",
       "      <td>0.087719</td>\n",
       "      <td>0.024287</td>\n",
       "      <td>0.333333</td>\n",
       "      <td>0.008410</td>\n",
       "      <td>0.006980</td>\n",
       "      <td>0.166667</td>\n",
       "      <td>0.041322</td>\n",
       "      <td>0.011441</td>\n",
       "      <td>0.250000</td>\n",
       "    </tr>\n",
       "    <tr>\n",
       "      <th>54</th>\n",
       "      <td>11.0</td>\n",
       "      <td>0.008554</td>\n",
       "      <td>0.007099</td>\n",
       "      <td>0.250000</td>\n",
       "      <td>0.038911</td>\n",
       "      <td>0.010773</td>\n",
       "      <td>0.166667</td>\n",
       "      <td>0.008410</td>\n",
       "      <td>0.006980</td>\n",
       "      <td>0.166667</td>\n",
       "      <td>0.041322</td>\n",
       "      <td>0.011441</td>\n",
       "      <td>0.250000</td>\n",
       "    </tr>\n",
       "  </tbody>\n",
       "</table>\n",
       "</div>"
      ],
      "text/plain": [
       "    num_runners  run1_win_perc  run1_win_scaled  run1_win_rank  \\\n",
       "50         11.0       0.018215         0.015117       0.416667   \n",
       "51         11.0       0.018215         0.015117       0.416667   \n",
       "52         11.0       0.011099         0.009211       0.333333   \n",
       "53         11.0       0.011099         0.009211       0.333333   \n",
       "54         11.0       0.008554         0.007099       0.250000   \n",
       "\n",
       "    run1_place_perc  run1_place_scaled  run1_place_rank  run2_win_perc  \\\n",
       "50         0.100000           0.027687         0.416667       0.008554   \n",
       "51         0.100000           0.027687         0.416667       0.008410   \n",
       "52         0.087719           0.024287         0.333333       0.008554   \n",
       "53         0.087719           0.024287         0.333333       0.008410   \n",
       "54         0.038911           0.010773         0.166667       0.008410   \n",
       "\n",
       "    run2_win_scaled  run2_win_rank  run2_place_perc  run2_place_scaled  \\\n",
       "50         0.007099       0.250000         0.038911           0.010773   \n",
       "51         0.006980       0.166667         0.041322           0.011441   \n",
       "52         0.007099       0.250000         0.038911           0.010773   \n",
       "53         0.006980       0.166667         0.041322           0.011441   \n",
       "54         0.006980       0.166667         0.041322           0.011441   \n",
       "\n",
       "    run2_place_rank  \n",
       "50         0.166667  \n",
       "51         0.250000  \n",
       "52         0.166667  \n",
       "53         0.250000  \n",
       "54         0.250000  "
      ]
     },
     "execution_count": 31,
     "metadata": {},
     "output_type": "execute_result"
    }
   ],
   "source": [
    "X = data_all[[\n",
    "    'num_runners',\n",
    "    'run1_win_perc', 'run1_win_scaled', 'run1_win_rank', 'run1_place_perc', 'run1_place_scaled', 'run1_place_rank',\n",
    "    'run2_win_perc', 'run2_win_scaled', 'run2_win_rank', 'run2_place_perc', 'run2_place_scaled', 'run2_place_rank'\n",
    "]]\n",
    "X.tail()"
   ]
  },
  {
   "cell_type": "code",
   "execution_count": 34,
   "metadata": {},
   "outputs": [
    {
     "name": "stdout",
     "output_type": "stream",
     "text": [
      "input dimension = 13\n",
      "epochs = 100\n",
      "tag = R40x40E\n",
      "model created\n"
     ]
    }
   ],
   "source": [
    "# For a single-input model with 2 classes (binary classification):\n",
    "\n",
    "n = len(X.columns)\n",
    "print('input dimension = {}'.format(n))\n",
    "\n",
    "epochs = 100\n",
    "print('epochs = {}'.format(epochs))\n",
    "\n",
    "layer_1 = 40\n",
    "layer_2 = 40\n",
    "\n",
    "tag = '{}{}x{}{}'.format(race_type, layer_1, layer_2, bet_type)\n",
    "print('tag = {}'.format(tag))\n",
    "file_name = '/Users/jaco/code/tabby/exotic/{}/models/{}.h5'.format(version, tag)\n",
    "\n",
    "try:\n",
    "    model = load_model(file_name)\n",
    "    print('model loaded')\n",
    "except OSError:\n",
    "    model = Sequential()\n",
    "    model.add(Dense(layer_1, activation='relu', input_dim=n))\n",
    "    model.add(Dense(layer_2, activation='relu'))\n",
    "    model.add(Dense(1, activation='sigmoid'))\n",
    "    model.compile(optimizer='adam',\n",
    "                  loss='binary_crossentropy',\n",
    "                  metrics=['accuracy'])\n",
    "    print('model created')"
   ]
  },
  {
   "cell_type": "code",
   "execution_count": 25,
   "metadata": {},
   "outputs": [
    {
     "data": {
      "application/vnd.jupyter.widget-view+json": {
       "model_id": "3d22e1fbf71245fc98e7c8c18d14834e"
      }
     },
     "metadata": {},
     "output_type": "display_data"
    },
    {
     "data": {
      "application/vnd.jupyter.widget-view+json": {
       "model_id": "ac01c0ff9c434deb8b3f3b9504d4273d"
      }
     },
     "metadata": {},
     "output_type": "display_data"
    },
    {
     "data": {
      "application/vnd.jupyter.widget-view+json": {
       "model_id": "645fe381bad34526896485cad3f1bfd4"
      }
     },
     "metadata": {},
     "output_type": "display_data"
    },
    {
     "data": {
      "application/vnd.jupyter.widget-view+json": {
       "model_id": "98249b9e40b94333b1eeaaa2b7f5f9f8"
      }
     },
     "metadata": {},
     "output_type": "display_data"
    },
    {
     "data": {
      "application/vnd.jupyter.widget-view+json": {
       "model_id": "83bbc8803fc54d1a979ecdebb3dbf995"
      }
     },
     "metadata": {},
     "output_type": "display_data"
    },
    {
     "data": {
      "application/vnd.jupyter.widget-view+json": {
       "model_id": "2d6f21b6ebf04157a794261605ad8d6a"
      }
     },
     "metadata": {},
     "output_type": "display_data"
    },
    {
     "data": {
      "application/vnd.jupyter.widget-view+json": {
       "model_id": "14aa9845c0de46219fe789164829e1a9"
      }
     },
     "metadata": {},
     "output_type": "display_data"
    },
    {
     "data": {
      "application/vnd.jupyter.widget-view+json": {
       "model_id": "0b1c0c3f7eac45a88ac0fa917f7b0095"
      }
     },
     "metadata": {},
     "output_type": "display_data"
    },
    {
     "data": {
      "application/vnd.jupyter.widget-view+json": {
       "model_id": "d3d79f1ca24e461dabfbd5b6e9b8308e"
      }
     },
     "metadata": {},
     "output_type": "display_data"
    },
    {
     "data": {
      "application/vnd.jupyter.widget-view+json": {
       "model_id": "4e1834772d484db6ac5a0543f1ab6d5b"
      }
     },
     "metadata": {},
     "output_type": "display_data"
    },
    {
     "data": {
      "application/vnd.jupyter.widget-view+json": {
       "model_id": "c7f66cf31db645a0827ed94d1e94e23a"
      }
     },
     "metadata": {},
     "output_type": "display_data"
    },
    {
     "data": {
      "application/vnd.jupyter.widget-view+json": {
       "model_id": "6bb518a5e93248f8a1c3527fb1748c8b"
      }
     },
     "metadata": {},
     "output_type": "display_data"
    },
    {
     "data": {
      "application/vnd.jupyter.widget-view+json": {
       "model_id": "eec7f14ce1f740b89893e2dac07564f6"
      }
     },
     "metadata": {},
     "output_type": "display_data"
    },
    {
     "data": {
      "application/vnd.jupyter.widget-view+json": {
       "model_id": "525ea2b54ada4b96886a7338c3bef6cc"
      }
     },
     "metadata": {},
     "output_type": "display_data"
    },
    {
     "data": {
      "application/vnd.jupyter.widget-view+json": {
       "model_id": "ee5a6b3e55d940699bf291ef214c277c"
      }
     },
     "metadata": {},
     "output_type": "display_data"
    },
    {
     "data": {
      "application/vnd.jupyter.widget-view+json": {
       "model_id": "88769f9968f844e383799e837bc3854d"
      }
     },
     "metadata": {},
     "output_type": "display_data"
    },
    {
     "data": {
      "application/vnd.jupyter.widget-view+json": {
       "model_id": "972c81450f6b4f02ab18b2b624b7ba47"
      }
     },
     "metadata": {},
     "output_type": "display_data"
    },
    {
     "data": {
      "application/vnd.jupyter.widget-view+json": {
       "model_id": "e0197b2d33634fd7b112a189b38a5f67"
      }
     },
     "metadata": {},
     "output_type": "display_data"
    },
    {
     "data": {
      "application/vnd.jupyter.widget-view+json": {
       "model_id": "dca9c99d245d4692a41cddc77d6182f2"
      }
     },
     "metadata": {},
     "output_type": "display_data"
    },
    {
     "data": {
      "application/vnd.jupyter.widget-view+json": {
       "model_id": "672b395932804fc2b0c6b379e47d9d45"
      }
     },
     "metadata": {},
     "output_type": "display_data"
    },
    {
     "data": {
      "application/vnd.jupyter.widget-view+json": {
       "model_id": "544bdf9cebf142dc9c8c0310136ae89d"
      }
     },
     "metadata": {},
     "output_type": "display_data"
    },
    {
     "data": {
      "application/vnd.jupyter.widget-view+json": {
       "model_id": "e3c44a0c35d444aaa20b6e1b0f241e62"
      }
     },
     "metadata": {},
     "output_type": "display_data"
    },
    {
     "data": {
      "application/vnd.jupyter.widget-view+json": {
       "model_id": "35a6b2b550044a1fb8edf9b81ecff63f"
      }
     },
     "metadata": {},
     "output_type": "display_data"
    },
    {
     "data": {
      "application/vnd.jupyter.widget-view+json": {
       "model_id": "d352bf12bdf340048a1f53c7389c1f7b"
      }
     },
     "metadata": {},
     "output_type": "display_data"
    },
    {
     "data": {
      "application/vnd.jupyter.widget-view+json": {
       "model_id": "249dccea7d0c42fb8787ced33f11b679"
      }
     },
     "metadata": {},
     "output_type": "display_data"
    },
    {
     "data": {
      "application/vnd.jupyter.widget-view+json": {
       "model_id": "0567d30fd9cc490c94a380fe0a320a97"
      }
     },
     "metadata": {},
     "output_type": "display_data"
    },
    {
     "data": {
      "application/vnd.jupyter.widget-view+json": {
       "model_id": "bf4bdfeca50f4dda883dbfa8f2f93488"
      }
     },
     "metadata": {},
     "output_type": "display_data"
    },
    {
     "data": {
      "application/vnd.jupyter.widget-view+json": {
       "model_id": "9eef18ee67c04ad099d616e02dab3fc5"
      }
     },
     "metadata": {},
     "output_type": "display_data"
    },
    {
     "data": {
      "application/vnd.jupyter.widget-view+json": {
       "model_id": "f7bbafcf4c8c43a1bd779d1d7d5e0e3d"
      }
     },
     "metadata": {},
     "output_type": "display_data"
    },
    {
     "data": {
      "application/vnd.jupyter.widget-view+json": {
       "model_id": "9cac8cdd9bca437990a05a46aef77127"
      }
     },
     "metadata": {},
     "output_type": "display_data"
    },
    {
     "data": {
      "application/vnd.jupyter.widget-view+json": {
       "model_id": "7ad667faa8074752a5aa260efd68d2b6"
      }
     },
     "metadata": {},
     "output_type": "display_data"
    },
    {
     "data": {
      "application/vnd.jupyter.widget-view+json": {
       "model_id": "9d0cf7bc3e234e1d852e2a7067db4dc2"
      }
     },
     "metadata": {},
     "output_type": "display_data"
    },
    {
     "data": {
      "application/vnd.jupyter.widget-view+json": {
       "model_id": "d1faa0a5c1204837876a41f151789b36"
      }
     },
     "metadata": {},
     "output_type": "display_data"
    },
    {
     "data": {
      "application/vnd.jupyter.widget-view+json": {
       "model_id": "bf9c0389cdb14cdb915df15f73fa92ce"
      }
     },
     "metadata": {},
     "output_type": "display_data"
    },
    {
     "data": {
      "application/vnd.jupyter.widget-view+json": {
       "model_id": "b20a4de0846348249cdbcd759e3ee584"
      }
     },
     "metadata": {},
     "output_type": "display_data"
    },
    {
     "data": {
      "application/vnd.jupyter.widget-view+json": {
       "model_id": "c7533c0b4cf84a739c9a9b7cbae7cc55"
      }
     },
     "metadata": {},
     "output_type": "display_data"
    },
    {
     "data": {
      "application/vnd.jupyter.widget-view+json": {
       "model_id": "315cab2ea34a48e9984d9c3ea8be7546"
      }
     },
     "metadata": {},
     "output_type": "display_data"
    },
    {
     "data": {
      "application/vnd.jupyter.widget-view+json": {
       "model_id": "85db229a3d30403d840922694100eac1"
      }
     },
     "metadata": {},
     "output_type": "display_data"
    },
    {
     "data": {
      "application/vnd.jupyter.widget-view+json": {
       "model_id": "3fe558335fbf4055bae8ff7fc0c4d966"
      }
     },
     "metadata": {},
     "output_type": "display_data"
    },
    {
     "data": {
      "application/vnd.jupyter.widget-view+json": {
       "model_id": "ae9fcc2fbec24e75aaf15b525ca82da9"
      }
     },
     "metadata": {},
     "output_type": "display_data"
    },
    {
     "data": {
      "application/vnd.jupyter.widget-view+json": {
       "model_id": "ab26bcd53d30462a857d5a6f360f79e8"
      }
     },
     "metadata": {},
     "output_type": "display_data"
    },
    {
     "data": {
      "application/vnd.jupyter.widget-view+json": {
       "model_id": "ed09e9014b2a4102b2f007c316d75dd1"
      }
     },
     "metadata": {},
     "output_type": "display_data"
    },
    {
     "data": {
      "application/vnd.jupyter.widget-view+json": {
       "model_id": "071822d864074ada9f296a262740429c"
      }
     },
     "metadata": {},
     "output_type": "display_data"
    },
    {
     "data": {
      "application/vnd.jupyter.widget-view+json": {
       "model_id": "82b53059f8c749e2a8c5b3eadad3f00a"
      }
     },
     "metadata": {},
     "output_type": "display_data"
    },
    {
     "data": {
      "application/vnd.jupyter.widget-view+json": {
       "model_id": "8b2430d89f7b499ba5960dd80044e31f"
      }
     },
     "metadata": {},
     "output_type": "display_data"
    },
    {
     "data": {
      "application/vnd.jupyter.widget-view+json": {
       "model_id": "8017a2545e5947c2a3f8933ff591917f"
      }
     },
     "metadata": {},
     "output_type": "display_data"
    },
    {
     "data": {
      "application/vnd.jupyter.widget-view+json": {
       "model_id": "ddd06af342bb4f0a8c3a28cafcb994f1"
      }
     },
     "metadata": {},
     "output_type": "display_data"
    },
    {
     "data": {
      "application/vnd.jupyter.widget-view+json": {
       "model_id": "c282ae9f160e465bb7014f456c53e9d6"
      }
     },
     "metadata": {},
     "output_type": "display_data"
    },
    {
     "data": {
      "application/vnd.jupyter.widget-view+json": {
       "model_id": "e6c6789fa17b4df782c95726b9f717e3"
      }
     },
     "metadata": {},
     "output_type": "display_data"
    },
    {
     "data": {
      "application/vnd.jupyter.widget-view+json": {
       "model_id": "dec09b37a20846988b2a965430e59b41"
      }
     },
     "metadata": {},
     "output_type": "display_data"
    },
    {
     "data": {
      "application/vnd.jupyter.widget-view+json": {
       "model_id": "be49179e894d4003b50446ffb199c9db"
      }
     },
     "metadata": {},
     "output_type": "display_data"
    },
    {
     "data": {
      "application/vnd.jupyter.widget-view+json": {
       "model_id": "74ae344d28a447cfb4a5ef62b92d71bd"
      }
     },
     "metadata": {},
     "output_type": "display_data"
    },
    {
     "data": {
      "application/vnd.jupyter.widget-view+json": {
       "model_id": "c1186dd9221f4ecdb389459d5c35710e"
      }
     },
     "metadata": {},
     "output_type": "display_data"
    },
    {
     "data": {
      "application/vnd.jupyter.widget-view+json": {
       "model_id": "fd02059eab2349e4b7724313ec47bce9"
      }
     },
     "metadata": {},
     "output_type": "display_data"
    },
    {
     "data": {
      "application/vnd.jupyter.widget-view+json": {
       "model_id": "1ba415c3ee5544b4a5cb8102ecbef980"
      }
     },
     "metadata": {},
     "output_type": "display_data"
    },
    {
     "data": {
      "application/vnd.jupyter.widget-view+json": {
       "model_id": "b6374a2c8da8458581f0431433413254"
      }
     },
     "metadata": {},
     "output_type": "display_data"
    },
    {
     "data": {
      "application/vnd.jupyter.widget-view+json": {
       "model_id": "5efa0f9d9a454b1e9dd8c9e7ffbcf2d9"
      }
     },
     "metadata": {},
     "output_type": "display_data"
    },
    {
     "data": {
      "application/vnd.jupyter.widget-view+json": {
       "model_id": "f280fee25e544858a935121c08babd10"
      }
     },
     "metadata": {},
     "output_type": "display_data"
    },
    {
     "data": {
      "application/vnd.jupyter.widget-view+json": {
       "model_id": "c8f87d74e5d045dd9dcddb71e26f57e0"
      }
     },
     "metadata": {},
     "output_type": "display_data"
    },
    {
     "data": {
      "application/vnd.jupyter.widget-view+json": {
       "model_id": "fdf855442a8d40e88b1309b48e7c0a10"
      }
     },
     "metadata": {},
     "output_type": "display_data"
    },
    {
     "data": {
      "application/vnd.jupyter.widget-view+json": {
       "model_id": "19cc5b2e8cb54e96aeb06c7e9cebf222"
      }
     },
     "metadata": {},
     "output_type": "display_data"
    },
    {
     "data": {
      "application/vnd.jupyter.widget-view+json": {
       "model_id": "70512d7de6054851afcc55ed156c401d"
      }
     },
     "metadata": {},
     "output_type": "display_data"
    },
    {
     "data": {
      "application/vnd.jupyter.widget-view+json": {
       "model_id": "0ac794c9b4474d33bda35ecb4bcd74cf"
      }
     },
     "metadata": {},
     "output_type": "display_data"
    },
    {
     "data": {
      "application/vnd.jupyter.widget-view+json": {
       "model_id": "16c86e4f8a864098a38a6533c9dd067e"
      }
     },
     "metadata": {},
     "output_type": "display_data"
    },
    {
     "data": {
      "application/vnd.jupyter.widget-view+json": {
       "model_id": "51699f9700db41dea8a55dd4152d1e20"
      }
     },
     "metadata": {},
     "output_type": "display_data"
    },
    {
     "data": {
      "application/vnd.jupyter.widget-view+json": {
       "model_id": "202ad341319243b8acf627b0e9cb3485"
      }
     },
     "metadata": {},
     "output_type": "display_data"
    },
    {
     "data": {
      "application/vnd.jupyter.widget-view+json": {
       "model_id": "ed698eee866342abaada1eba182e8872"
      }
     },
     "metadata": {},
     "output_type": "display_data"
    },
    {
     "data": {
      "application/vnd.jupyter.widget-view+json": {
       "model_id": "c2d11dc7941646a0920a18e5cfd3a23f"
      }
     },
     "metadata": {},
     "output_type": "display_data"
    },
    {
     "data": {
      "application/vnd.jupyter.widget-view+json": {
       "model_id": "751d8efa64694f3ab255b811e8bdb88b"
      }
     },
     "metadata": {},
     "output_type": "display_data"
    },
    {
     "data": {
      "application/vnd.jupyter.widget-view+json": {
       "model_id": "2ff0f76d27b546e3ae4417c9da68e0b7"
      }
     },
     "metadata": {},
     "output_type": "display_data"
    },
    {
     "data": {
      "application/vnd.jupyter.widget-view+json": {
       "model_id": "7791da5d4ba246a1aa26fd5e1e071fb4"
      }
     },
     "metadata": {},
     "output_type": "display_data"
    },
    {
     "data": {
      "application/vnd.jupyter.widget-view+json": {
       "model_id": "38fc55c5936d47e1895a73ae4bb663cc"
      }
     },
     "metadata": {},
     "output_type": "display_data"
    },
    {
     "data": {
      "application/vnd.jupyter.widget-view+json": {
       "model_id": "086f3cddfb6c47efb4d3464055d6ba79"
      }
     },
     "metadata": {},
     "output_type": "display_data"
    },
    {
     "data": {
      "application/vnd.jupyter.widget-view+json": {
       "model_id": "d4c5b23a61f2453985dff45367529513"
      }
     },
     "metadata": {},
     "output_type": "display_data"
    },
    {
     "data": {
      "application/vnd.jupyter.widget-view+json": {
       "model_id": "ba035d12d233446fbce04ebdfa274f35"
      }
     },
     "metadata": {},
     "output_type": "display_data"
    },
    {
     "data": {
      "application/vnd.jupyter.widget-view+json": {
       "model_id": "a2b290a71b9948c09f687249afc2d70d"
      }
     },
     "metadata": {},
     "output_type": "display_data"
    },
    {
     "data": {
      "application/vnd.jupyter.widget-view+json": {
       "model_id": "0abae8c89da54437affa4acf5a16e4e7"
      }
     },
     "metadata": {},
     "output_type": "display_data"
    },
    {
     "data": {
      "application/vnd.jupyter.widget-view+json": {
       "model_id": "8f12e392422b4b78ac1698fc3604ea61"
      }
     },
     "metadata": {},
     "output_type": "display_data"
    },
    {
     "data": {
      "application/vnd.jupyter.widget-view+json": {
       "model_id": "d1056456f7f2442aaa1e37a698a5524b"
      }
     },
     "metadata": {},
     "output_type": "display_data"
    },
    {
     "data": {
      "application/vnd.jupyter.widget-view+json": {
       "model_id": "b8703feec61e46d9aa518519f8f4a860"
      }
     },
     "metadata": {},
     "output_type": "display_data"
    },
    {
     "data": {
      "application/vnd.jupyter.widget-view+json": {
       "model_id": "7a1345f9b0664e3e95bdcf8cff83c0a1"
      }
     },
     "metadata": {},
     "output_type": "display_data"
    },
    {
     "data": {
      "application/vnd.jupyter.widget-view+json": {
       "model_id": "87cd7bd6d9d04d4b84c2a4260f8602d2"
      }
     },
     "metadata": {},
     "output_type": "display_data"
    },
    {
     "data": {
      "application/vnd.jupyter.widget-view+json": {
       "model_id": "09734334f2634cdb9e7519f4cf5dfe13"
      }
     },
     "metadata": {},
     "output_type": "display_data"
    },
    {
     "data": {
      "application/vnd.jupyter.widget-view+json": {
       "model_id": "850e93e583f44d9e9f82ade2ce3401cb"
      }
     },
     "metadata": {},
     "output_type": "display_data"
    },
    {
     "data": {
      "application/vnd.jupyter.widget-view+json": {
       "model_id": "68011fd6f69946ad968c1794ac15e57e"
      }
     },
     "metadata": {},
     "output_type": "display_data"
    },
    {
     "data": {
      "application/vnd.jupyter.widget-view+json": {
       "model_id": "88be90792a804e0e8e1d9d365482b6ef"
      }
     },
     "metadata": {},
     "output_type": "display_data"
    },
    {
     "data": {
      "application/vnd.jupyter.widget-view+json": {
       "model_id": "9a33c366f54b47889a7c62b133eb7b55"
      }
     },
     "metadata": {},
     "output_type": "display_data"
    },
    {
     "data": {
      "application/vnd.jupyter.widget-view+json": {
       "model_id": "a39d02363ef44aa39c79935338596101"
      }
     },
     "metadata": {},
     "output_type": "display_data"
    },
    {
     "data": {
      "application/vnd.jupyter.widget-view+json": {
       "model_id": "a696cd3542e847f9a70c4b446843bb8e"
      }
     },
     "metadata": {},
     "output_type": "display_data"
    },
    {
     "data": {
      "application/vnd.jupyter.widget-view+json": {
       "model_id": "7873597ceeff4bd292f69155e669d647"
      }
     },
     "metadata": {},
     "output_type": "display_data"
    },
    {
     "data": {
      "application/vnd.jupyter.widget-view+json": {
       "model_id": "8228cecbd68d42e98d06c98d82121166"
      }
     },
     "metadata": {},
     "output_type": "display_data"
    },
    {
     "data": {
      "application/vnd.jupyter.widget-view+json": {
       "model_id": "62ba36d599ee43df92d4871243bb7f41"
      }
     },
     "metadata": {},
     "output_type": "display_data"
    },
    {
     "data": {
      "application/vnd.jupyter.widget-view+json": {
       "model_id": "4c5f539f53484332ac7c74bdadde97b5"
      }
     },
     "metadata": {},
     "output_type": "display_data"
    },
    {
     "data": {
      "application/vnd.jupyter.widget-view+json": {
       "model_id": "1a922aa14065463ba5a0377dc82a7e60"
      }
     },
     "metadata": {},
     "output_type": "display_data"
    },
    {
     "data": {
      "application/vnd.jupyter.widget-view+json": {
       "model_id": "3502e0ee4b22496c86c63eb8691c8e3f"
      }
     },
     "metadata": {},
     "output_type": "display_data"
    },
    {
     "data": {
      "application/vnd.jupyter.widget-view+json": {
       "model_id": "d30d152437d34e9aae2992ab11b2b023"
      }
     },
     "metadata": {},
     "output_type": "display_data"
    },
    {
     "data": {
      "application/vnd.jupyter.widget-view+json": {
       "model_id": "f0044adcd74848a1b057dde2627e931a"
      }
     },
     "metadata": {},
     "output_type": "display_data"
    },
    {
     "data": {
      "application/vnd.jupyter.widget-view+json": {
       "model_id": "2a4af2586dd44d14b79516c097fc7c44"
      }
     },
     "metadata": {},
     "output_type": "display_data"
    },
    {
     "data": {
      "application/vnd.jupyter.widget-view+json": {
       "model_id": "917d8a653c814a9a8385f062fff31b38"
      }
     },
     "metadata": {},
     "output_type": "display_data"
    },
    {
     "data": {
      "application/vnd.jupyter.widget-view+json": {
       "model_id": "25b1123b8cbf420ba569b0db8b2d8b32"
      }
     },
     "metadata": {},
     "output_type": "display_data"
    },
    {
     "data": {
      "application/vnd.jupyter.widget-view+json": {
       "model_id": "b3cb498d206b433c87589edc7fb21462"
      }
     },
     "metadata": {},
     "output_type": "display_data"
    },
    {
     "name": "stdout",
     "output_type": "stream",
     "text": [
      "\n",
      "model saved\n"
     ]
    }
   ],
   "source": [
    "# Train the model, iterating on the data in batches of 32 samples\n",
    "tqdm = TQDMNotebookCallback()\n",
    "\n",
    "tbCallBack = keras.callbacks.TensorBoard(\n",
    "    log_dir='/Users/jaco/code/tabby/exotic/{}/summary/{}'.format(version, tag), \n",
    "    histogram_freq=0,\n",
    "    write_graph=True,\n",
    "    write_images=True)\n",
    "\n",
    "model.fit(\n",
    "    X.as_matrix(), \n",
    "    Y.as_matrix(),\n",
    "    validation_split=0.2,\n",
    "    shuffle=True,\n",
    "    epochs=epochs,\n",
    "    batch_size=32,\n",
    "    verbose=0,\n",
    "    callbacks=[tqdm, tbCallBack])\n",
    "\n",
    "# creates a HDF5 file\n",
    "model.save(file_name)\n",
    "print('model saved')"
   ]
  },
  {
   "cell_type": "code",
   "execution_count": null,
   "metadata": {
    "collapsed": true
   },
   "outputs": [],
   "source": []
  }
 ],
 "metadata": {
  "kernelspec": {
   "display_name": "Python 3",
   "language": "python",
   "name": "python3"
  },
  "language_info": {
   "codemirror_mode": {
    "name": "ipython",
    "version": 3
   },
   "file_extension": ".py",
   "mimetype": "text/x-python",
   "name": "python",
   "nbconvert_exporter": "python",
   "pygments_lexer": "ipython3",
   "version": "3.6.1"
  }
 },
 "nbformat": 4,
 "nbformat_minor": 2
}
