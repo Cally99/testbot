{
 "cells": [
  {
   "cell_type": "code",
   "execution_count": 1,
   "metadata": {
    "collapsed": true
   },
   "outputs": [],
   "source": [
    "from sqlalchemy import create_engine\n",
    "from operator import itemgetter\n",
    "import json\n",
    "import math\n",
    "\n",
    "import pandas as pd\n",
    "import numpy as np\n",
    "#import seaborn as sns\n",
    "import matplotlib.pyplot as plt\n",
    "%matplotlib inline"
   ]
  },
  {
   "cell_type": "code",
   "execution_count": 2,
   "metadata": {},
   "outputs": [
    {
     "name": "stdout",
     "output_type": "stream",
     "text": [
      "9299 races loaded!\n"
     ]
    }
   ],
   "source": [
    "engine = create_engine('sqlite:///tab.db')\n",
    "conn = engine.connect()\n",
    "\n",
    "dfo = pd.read_sql_table('race', conn)\n",
    "print('{} races loaded!'.format(len(dfo)))"
   ]
  },
  {
   "cell_type": "code",
   "execution_count": 3,
   "metadata": {},
   "outputs": [
    {
     "name": "stdout",
     "output_type": "stream",
     "text": [
      "3796 G races!\n"
     ]
    }
   ],
   "source": [
    "category = 'G'\n",
    "dfo = dfo.loc[dfo['race_type'].isin([category])]\n",
    "print('{} {} races!'.format(len(dfo), category))"
   ]
  },
  {
   "cell_type": "code",
   "execution_count": 4,
   "metadata": {},
   "outputs": [
    {
     "data": {
      "text/html": [
       "<div>\n",
       "<style>\n",
       "    .dataframe thead tr:only-child th {\n",
       "        text-align: right;\n",
       "    }\n",
       "\n",
       "    .dataframe thead th {\n",
       "        text-align: left;\n",
       "    }\n",
       "\n",
       "    .dataframe tbody tr th {\n",
       "        vertical-align: top;\n",
       "    }\n",
       "</style>\n",
       "<table border=\"1\" class=\"dataframe\">\n",
       "  <thead>\n",
       "    <tr style=\"text-align: right;\">\n",
       "      <th></th>\n",
       "      <th>id</th>\n",
       "      <th>race_number</th>\n",
       "      <th>race_distance</th>\n",
       "      <th>num_runners</th>\n",
       "    </tr>\n",
       "  </thead>\n",
       "  <tbody>\n",
       "    <tr>\n",
       "      <th>count</th>\n",
       "      <td>3796.000000</td>\n",
       "      <td>3796.000000</td>\n",
       "      <td>3796.000000</td>\n",
       "      <td>3796.000000</td>\n",
       "    </tr>\n",
       "    <tr>\n",
       "      <th>mean</th>\n",
       "      <td>5195.928082</td>\n",
       "      <td>6.391992</td>\n",
       "      <td>435.177028</td>\n",
       "      <td>7.641201</td>\n",
       "    </tr>\n",
       "    <tr>\n",
       "      <th>std</th>\n",
       "      <td>2899.775745</td>\n",
       "      <td>3.288368</td>\n",
       "      <td>82.814514</td>\n",
       "      <td>0.777367</td>\n",
       "    </tr>\n",
       "    <tr>\n",
       "      <th>min</th>\n",
       "      <td>1.000000</td>\n",
       "      <td>1.000000</td>\n",
       "      <td>0.000000</td>\n",
       "      <td>4.000000</td>\n",
       "    </tr>\n",
       "    <tr>\n",
       "      <th>25%</th>\n",
       "      <td>3011.750000</td>\n",
       "      <td>4.000000</td>\n",
       "      <td>390.000000</td>\n",
       "      <td>8.000000</td>\n",
       "    </tr>\n",
       "    <tr>\n",
       "      <th>50%</th>\n",
       "      <td>5290.500000</td>\n",
       "      <td>6.000000</td>\n",
       "      <td>431.000000</td>\n",
       "      <td>8.000000</td>\n",
       "    </tr>\n",
       "    <tr>\n",
       "      <th>75%</th>\n",
       "      <td>7714.250000</td>\n",
       "      <td>9.000000</td>\n",
       "      <td>515.000000</td>\n",
       "      <td>8.000000</td>\n",
       "    </tr>\n",
       "    <tr>\n",
       "      <th>max</th>\n",
       "      <td>9971.000000</td>\n",
       "      <td>12.000000</td>\n",
       "      <td>732.000000</td>\n",
       "      <td>10.000000</td>\n",
       "    </tr>\n",
       "  </tbody>\n",
       "</table>\n",
       "</div>"
      ],
      "text/plain": [
       "                id  race_number  race_distance  num_runners\n",
       "count  3796.000000  3796.000000    3796.000000  3796.000000\n",
       "mean   5195.928082     6.391992     435.177028     7.641201\n",
       "std    2899.775745     3.288368      82.814514     0.777367\n",
       "min       1.000000     1.000000       0.000000     4.000000\n",
       "25%    3011.750000     4.000000     390.000000     8.000000\n",
       "50%    5290.500000     6.000000     431.000000     8.000000\n",
       "75%    7714.250000     9.000000     515.000000     8.000000\n",
       "max    9971.000000    12.000000     732.000000    10.000000"
      ]
     },
     "execution_count": 4,
     "metadata": {},
     "output_type": "execute_result"
    }
   ],
   "source": [
    "dfo['results'] = dfo['results_data'].map(json.loads)\n",
    "dfo['runners'] = dfo['runners_data'].map(json.loads)\n",
    "dfo.describe()"
   ]
  },
  {
   "cell_type": "code",
   "execution_count": 5,
   "metadata": {
    "collapsed": true
   },
   "outputs": [],
   "source": [
    "# bet size\n",
    "balance = 1000\n",
    "bet_chunk = balance * 0.01"
   ]
  },
  {
   "cell_type": "code",
   "execution_count": 6,
   "metadata": {
    "collapsed": true
   },
   "outputs": [],
   "source": [
    "def bettable(r):\n",
    "    return r['probability'] > r['odds_scale'] and r['odds_win'] > 0"
   ]
  },
  {
   "cell_type": "code",
   "execution_count": 7,
   "metadata": {
    "collapsed": true
   },
   "outputs": [],
   "source": [
    "def process_strategy(df, strategy):\n",
    "    \"\"\"run strategy, must pass runners returned back into results (it might be modified)\"\"\"\n",
    "    book = []\n",
    "    for _, race in df.iterrows():\n",
    "#         print(race['num_runners'])\n",
    "        runners = race['runners']\n",
    "        \n",
    "        # drop scratched\n",
    "        runners = [r for r in runners if r['odds_win']]\n",
    "        if not runners:\n",
    "            continue\n",
    "    \n",
    "        # default 0 bets\n",
    "        for runner in runners:\n",
    "            runner['bet'] = 0\n",
    "        \n",
    "        runners, num_bets = strategy(runners, bet_chunk)\n",
    "        if num_bets:\n",
    "            bet_results(book, runners, race['num_runners'], bet_chunk, num_bets, race['race_type'])\n",
    "    return book"
   ]
  },
  {
   "cell_type": "code",
   "execution_count": 8,
   "metadata": {
    "collapsed": true
   },
   "outputs": [],
   "source": [
    "def bet_results(book, runners, num_runners, bet_chunk, num_bets, race_type):\n",
    "    \"\"\"get results from bets\"\"\"\n",
    "    win_diff = 0\n",
    "    max_diff = 0\n",
    "    outcome = {\n",
    "        'success': 0,\n",
    "        'profit': -bet_chunk,\n",
    "        'num_bets': num_bets,\n",
    "        'num_runners': num_runners,\n",
    "    }\n",
    "    for i, runner in enumerate(runners):\n",
    "        diff = abs(runner['odds_scale'] - runner['probability'])\n",
    "        max_diff = max(max_diff, diff)\n",
    "        if int(runner['finishingPosition']) == 1:\n",
    "            win_diff = diff\n",
    "            if runner['bet'] > 0:\n",
    "                # odds = runner['parimutuel']['returnWin'] if runner['parimutuel']['returnWin'] else runner['odds_win']\n",
    "                odds = runner['odds_win']\n",
    "                profit = runner['bet'] * odds - bet_chunk\n",
    "                outcome = {\n",
    "                    'success': 1,\n",
    "                    'profit': profit,\n",
    "                    'num_bets': num_bets,\n",
    "                    'num_runners': num_runners,\n",
    "                }\n",
    "            break\n",
    "\n",
    "    outcome['max_diff'] = max_diff\n",
    "    outcome['win_diff'] = win_diff\n",
    "    outcome['bet_chunk'] = bet_chunk\n",
    "    outcome['race_type'] = race_type\n",
    "    outcome['runners'] = runners\n",
    "    book.append(outcome)"
   ]
  },
  {
   "cell_type": "code",
   "execution_count": null,
   "metadata": {},
   "outputs": [],
   "source": [
    "def bet_positive_max(runners, bet_chunk):\n",
    "    \"\"\"bet max given prob>scale\"\"\"\n",
    "\n",
    "    diffs = [(r['probability'] - r['odds_scale'], r) for r in runners]\n",
    "    diffs.sort(key=itemgetter(0), reverse=True)\n",
    "\n",
    "    ##############################################################################################\n",
    "    # -1% roi 42% wr 100% races\n",
    "    ##############################################################################################\n",
    "#     num_bets = math.ceil(len(runners) * 0.125)\n",
    "\n",
    "\n",
    "    ##############################################################################################\n",
    "    # -2% roi 29% wr 100% races\n",
    "    ##############################################################################################\n",
    "    num_bets = 1\n",
    "\n",
    "\n",
    "    ##############################################################################################\n",
    "    # 10% roi 35% wr 33% races\n",
    "    ##############################################################################################\n",
    "#     num_bets = 1\n",
    "#     if len(runners) > 8:\n",
    "#         return [], 0\n",
    "\n",
    "    \n",
    "    ##############################################################################################\n",
    "    # -3% roi 31% wr 77% races\n",
    "    ##############################################################################################\n",
    "#     num_bets = 1\n",
    "#     if len(runners) > 12:\n",
    "#         return [], 0\n",
    "\n",
    "    \n",
    "    ##############################################################################################\n",
    "    # 0% roi 53% wr 33% races\n",
    "    ##############################################################################################\n",
    "#     num_bets = 2\n",
    "#     if len(runners) > 8:\n",
    "#         return [], 0\n",
    "\n",
    "    total_probs = sum(d[1]['probability'] for d in diffs[:num_bets])\n",
    "    for d, r in diffs[:num_bets]:\n",
    "        r['bet'] = bet_chunk * r['probability'] / total_probs\n",
    "\n",
    "    runners = [d[1] for d in diffs]\n",
    "    return runners, num_bets\n",
    "\n",
    "\n",
    "dfo = dfo.sample(frac=1).reset_index(drop=True)\n",
    "print('Dataframe shuffled!')\n",
    "\n",
    "book = process_strategy(dfo, bet_positive_max)"
   ]
  },
  {
   "cell_type": "code",
   "execution_count": 158,
   "metadata": {},
   "outputs": [
    {
     "name": "stdout",
     "output_type": "stream",
     "text": [
      "Dataframe shuffled!\n"
     ]
    }
   ],
   "source": [
    "def bet_positive_dutch(runners, bet_chunk):\n",
    "    \"\"\"dutch betting on probability\"\"\"\n",
    "\n",
    "    # sort runners from favourite to underdog\n",
    "    ###############################################################################################\n",
    "    # -10% roi 69% wr 100% races\n",
    "    # runners.sort(key=itemgetter('probability'), reverse=True)\n",
    "    ###############################################################################################\n",
    "    # -7% roi 68% wr 100% races\n",
    "    runners.sort(key=lambda r: r['probability'] - r['odds_scale'], reverse=True)\n",
    "    ###############################################################################################\n",
    "    \n",
    "    # start betting on all and cut off worse runner till positive outcome\n",
    "    for num_bets in range(len(runners), 0, -1):\n",
    "\n",
    "        # reset bets for every iteration\n",
    "        for runner in runners:\n",
    "            runner['bet'] = 0\n",
    "\n",
    "        # recreate smaller pool\n",
    "        pool = runners[:num_bets]\n",
    "        # print('pool is {} from {} bets'.format(len(pool), num_bets))\n",
    "\n",
    "        # all odds\n",
    "        total_probs = sum([r['probability'] for r in pool])\n",
    "#         total_scale = sum([r['odds_scale'] for r in pool])\n",
    "        # print('total probability = {}'.format(total))\n",
    "\n",
    "        # dutch for all in pool\n",
    "        profits = []\n",
    "        for runner in pool:\n",
    "\n",
    "            # scale bet according to odds or prediction?\n",
    "            ###################################################################################\n",
    "            # -7% roi 68% wr\n",
    "            runner['bet'] = bet_chunk * runner['probability'] / total_probs\n",
    "            ###################################################################################\n",
    "            # -13% roi 79% wr 100% races\n",
    "            # runner['bet'] = bet_chunk * runner['odds_scale'] / total_scale\n",
    "            ###################################################################################\n",
    "            \n",
    "            # need to check all as we scale to probs and not odds\n",
    "            profits.append(runner['bet'] * runner['odds_win'] - bet_chunk)\n",
    "            \n",
    "#         if num_bets >= 4:\n",
    "#             continue\n",
    "            \n",
    "        if min(profits) <= 0:\n",
    "            continue\n",
    "\n",
    "        # exit with average profit\n",
    "        avg_profit = sum(profits) / len(profits)\n",
    "        \n",
    "        ###################################################################################\n",
    "        # -13.5% 78%w 38/38\n",
    "        #if avg_profit > 0:\n",
    "        ###################################################################################\n",
    "        # -0.4  25  12/38\n",
    "        if avg_profit > bet_chunk * 2:\n",
    "        ###################################################################################\n",
    "        # 2.2  23  9/38\n",
    "        #if avg_profit > bet_chunk * 2.2:\n",
    "        ###################################################################################\n",
    "        # 10.4  22  6/38\n",
    "        #if avg_profit > bet_chunk * 2.5:\n",
    "        ###################################################################################\n",
    "        # 28.1  20  2/38\n",
    "        #if avg_profit > bet_chunk * 3:\n",
    "            break\n",
    "            \n",
    "        if num_bets == 2:\n",
    "            break\n",
    "    else:\n",
    "        #print('no profit determined')\n",
    "        return [], 0\n",
    "\n",
    "    # put bets from pool into runners\n",
    "    for p in pool:\n",
    "        for r in runners:\n",
    "            if r['runnerNumber'] == p['runnerNumber']:\n",
    "                r['bet'] = p['bet']\n",
    "                break\n",
    "\n",
    "    return runners, num_bets\n",
    "\n",
    "\n",
    "dfo = dfo.sample(frac=1).reset_index(drop=True)\n",
    "print('Dataframe shuffled!')\n",
    "\n",
    "book = process_strategy(dfo, bet_positive_dutch)"
   ]
  },
  {
   "cell_type": "code",
   "execution_count": 159,
   "metadata": {},
   "outputs": [
    {
     "data": {
      "text/html": [
       "<div>\n",
       "<style>\n",
       "    .dataframe thead tr:only-child th {\n",
       "        text-align: right;\n",
       "    }\n",
       "\n",
       "    .dataframe thead th {\n",
       "        text-align: left;\n",
       "    }\n",
       "\n",
       "    .dataframe tbody tr th {\n",
       "        vertical-align: top;\n",
       "    }\n",
       "</style>\n",
       "<table border=\"1\" class=\"dataframe\">\n",
       "  <thead>\n",
       "    <tr style=\"text-align: right;\">\n",
       "      <th></th>\n",
       "      <th>bet_chunk</th>\n",
       "      <th>max_diff</th>\n",
       "      <th>num_bets</th>\n",
       "      <th>num_runners</th>\n",
       "      <th>profit</th>\n",
       "      <th>race_type</th>\n",
       "      <th>runners</th>\n",
       "      <th>success</th>\n",
       "      <th>win_diff</th>\n",
       "    </tr>\n",
       "  </thead>\n",
       "  <tbody>\n",
       "    <tr>\n",
       "      <th>3717</th>\n",
       "      <td>10.0</td>\n",
       "      <td>0.037130</td>\n",
       "      <td>2</td>\n",
       "      <td>8.0</td>\n",
       "      <td>-10.000000</td>\n",
       "      <td>G</td>\n",
       "      <td>[{'runnerName': 'SHE'S DEE ROCKET', 'runnerNum...</td>\n",
       "      <td>0</td>\n",
       "      <td>0.011348</td>\n",
       "    </tr>\n",
       "    <tr>\n",
       "      <th>3718</th>\n",
       "      <td>10.0</td>\n",
       "      <td>0.038548</td>\n",
       "      <td>2</td>\n",
       "      <td>7.0</td>\n",
       "      <td>2.990436</td>\n",
       "      <td>G</td>\n",
       "      <td>[{'runnerName': 'INTER OBLIVION', 'runnerNumbe...</td>\n",
       "      <td>1</td>\n",
       "      <td>0.038548</td>\n",
       "    </tr>\n",
       "    <tr>\n",
       "      <th>3719</th>\n",
       "      <td>10.0</td>\n",
       "      <td>0.033763</td>\n",
       "      <td>2</td>\n",
       "      <td>8.0</td>\n",
       "      <td>1.906883</td>\n",
       "      <td>G</td>\n",
       "      <td>[{'runnerName': 'PETADALE', 'runnerNumber': 3,...</td>\n",
       "      <td>1</td>\n",
       "      <td>0.006541</td>\n",
       "    </tr>\n",
       "    <tr>\n",
       "      <th>3720</th>\n",
       "      <td>10.0</td>\n",
       "      <td>0.032277</td>\n",
       "      <td>2</td>\n",
       "      <td>6.0</td>\n",
       "      <td>-10.000000</td>\n",
       "      <td>G</td>\n",
       "      <td>[{'runnerName': 'TOYSTORY WISHES', 'runnerNumb...</td>\n",
       "      <td>0</td>\n",
       "      <td>0.010026</td>\n",
       "    </tr>\n",
       "    <tr>\n",
       "      <th>3721</th>\n",
       "      <td>10.0</td>\n",
       "      <td>0.020043</td>\n",
       "      <td>2</td>\n",
       "      <td>8.0</td>\n",
       "      <td>-10.000000</td>\n",
       "      <td>G</td>\n",
       "      <td>[{'runnerName': 'ON BILLY'S WINGS', 'runnerNum...</td>\n",
       "      <td>0</td>\n",
       "      <td>0.004173</td>\n",
       "    </tr>\n",
       "    <tr>\n",
       "      <th>3722</th>\n",
       "      <td>10.0</td>\n",
       "      <td>0.038524</td>\n",
       "      <td>2</td>\n",
       "      <td>7.0</td>\n",
       "      <td>-10.000000</td>\n",
       "      <td>G</td>\n",
       "      <td>[{'runnerName': 'COSMIC BONUS', 'runnerNumber'...</td>\n",
       "      <td>0</td>\n",
       "      <td>0.000111</td>\n",
       "    </tr>\n",
       "    <tr>\n",
       "      <th>3723</th>\n",
       "      <td>10.0</td>\n",
       "      <td>0.042880</td>\n",
       "      <td>2</td>\n",
       "      <td>8.0</td>\n",
       "      <td>-10.000000</td>\n",
       "      <td>G</td>\n",
       "      <td>[{'runnerName': 'DUTY FREE', 'runnerNumber': 2...</td>\n",
       "      <td>0</td>\n",
       "      <td>0.007941</td>\n",
       "    </tr>\n",
       "    <tr>\n",
       "      <th>3724</th>\n",
       "      <td>10.0</td>\n",
       "      <td>0.039083</td>\n",
       "      <td>2</td>\n",
       "      <td>8.0</td>\n",
       "      <td>2.676718</td>\n",
       "      <td>G</td>\n",
       "      <td>[{'runnerName': 'CHROMOSOME FOUR', 'runnerNumb...</td>\n",
       "      <td>1</td>\n",
       "      <td>0.014709</td>\n",
       "    </tr>\n",
       "    <tr>\n",
       "      <th>3725</th>\n",
       "      <td>10.0</td>\n",
       "      <td>0.054042</td>\n",
       "      <td>2</td>\n",
       "      <td>8.0</td>\n",
       "      <td>3.971751</td>\n",
       "      <td>G</td>\n",
       "      <td>[{'runnerName': 'HUGO LINX', 'runnerNumber': 6...</td>\n",
       "      <td>1</td>\n",
       "      <td>0.001217</td>\n",
       "    </tr>\n",
       "    <tr>\n",
       "      <th>3726</th>\n",
       "      <td>10.0</td>\n",
       "      <td>0.019732</td>\n",
       "      <td>2</td>\n",
       "      <td>8.0</td>\n",
       "      <td>-10.000000</td>\n",
       "      <td>G</td>\n",
       "      <td>[{'runnerName': 'AZUMI CHIEF', 'runnerNumber':...</td>\n",
       "      <td>0</td>\n",
       "      <td>0.002624</td>\n",
       "    </tr>\n",
       "  </tbody>\n",
       "</table>\n",
       "</div>"
      ],
      "text/plain": [
       "      bet_chunk  max_diff  num_bets  num_runners     profit race_type  \\\n",
       "3717       10.0  0.037130         2          8.0 -10.000000         G   \n",
       "3718       10.0  0.038548         2          7.0   2.990436         G   \n",
       "3719       10.0  0.033763         2          8.0   1.906883         G   \n",
       "3720       10.0  0.032277         2          6.0 -10.000000         G   \n",
       "3721       10.0  0.020043         2          8.0 -10.000000         G   \n",
       "3722       10.0  0.038524         2          7.0 -10.000000         G   \n",
       "3723       10.0  0.042880         2          8.0 -10.000000         G   \n",
       "3724       10.0  0.039083         2          8.0   2.676718         G   \n",
       "3725       10.0  0.054042         2          8.0   3.971751         G   \n",
       "3726       10.0  0.019732         2          8.0 -10.000000         G   \n",
       "\n",
       "                                                runners  success  win_diff  \n",
       "3717  [{'runnerName': 'SHE'S DEE ROCKET', 'runnerNum...        0  0.011348  \n",
       "3718  [{'runnerName': 'INTER OBLIVION', 'runnerNumbe...        1  0.038548  \n",
       "3719  [{'runnerName': 'PETADALE', 'runnerNumber': 3,...        1  0.006541  \n",
       "3720  [{'runnerName': 'TOYSTORY WISHES', 'runnerNumb...        0  0.010026  \n",
       "3721  [{'runnerName': 'ON BILLY'S WINGS', 'runnerNum...        0  0.004173  \n",
       "3722  [{'runnerName': 'COSMIC BONUS', 'runnerNumber'...        0  0.000111  \n",
       "3723  [{'runnerName': 'DUTY FREE', 'runnerNumber': 2...        0  0.007941  \n",
       "3724  [{'runnerName': 'CHROMOSOME FOUR', 'runnerNumb...        1  0.014709  \n",
       "3725  [{'runnerName': 'HUGO LINX', 'runnerNumber': 6...        1  0.001217  \n",
       "3726  [{'runnerName': 'AZUMI CHIEF', 'runnerNumber':...        0  0.002624  "
      ]
     },
     "execution_count": 159,
     "metadata": {},
     "output_type": "execute_result"
    }
   ],
   "source": [
    "df = pd.DataFrame(book)\n",
    "df.tail(10)"
   ]
  },
  {
   "cell_type": "code",
   "execution_count": 160,
   "metadata": {},
   "outputs": [
    {
     "data": {
      "text/plain": [
       "<matplotlib.axes._subplots.AxesSubplot at 0x121323e10>"
      ]
     },
     "execution_count": 160,
     "metadata": {},
     "output_type": "execute_result"
    },
    {
     "data": {
      "image/png": "[encoded data removed]",
      "text/plain": [
       "<matplotlib.figure.Figure at 0x121328e48>"
      ]
     },
     "metadata": {},
     "output_type": "display_data"
    }
   ],
   "source": [
    "# ROI\n",
    "roi = df.profit.cumsum() / df.bet_chunk.cumsum()\n",
    "roi_title = '{:.1f}% ROI'.format(roi.iloc[-1] * 100)\n",
    "roi.rolling(10).mean().plot(title=roi_title, xlim=(100), ylim=(-1, 1))"
   ]
  },
  {
   "cell_type": "code",
   "execution_count": 161,
   "metadata": {},
   "outputs": [
    {
     "data": {
      "text/plain": [
       "<matplotlib.axes._subplots.AxesSubplot at 0x1217b7f98>"
      ]
     },
     "execution_count": 161,
     "metadata": {},
     "output_type": "execute_result"
    },
    {
     "data": {
      "image/png": "[encoded data removed]",
      "text/plain": [
       "<matplotlib.figure.Figure at 0x11f37c748>"
      ]
     },
     "metadata": {},
     "output_type": "display_data"
    }
   ],
   "source": [
    "df['ones'] = np.ones(len(df))\n",
    "df['win_rate'] = df.success.cumsum() / df.ones.cumsum()\n",
    "win_title = '{:.0f}% win rate'.format(df.win_rate.iloc[-1] * 100)\n",
    "df.win_rate.plot(title=win_title, xlim=(100), ylim=(0, 1))"
   ]
  },
  {
   "cell_type": "code",
   "execution_count": 162,
   "metadata": {},
   "outputs": [
    {
     "data": {
      "text/plain": [
       "<matplotlib.axes._subplots.AxesSubplot at 0x1218dfbe0>"
      ]
     },
     "execution_count": 162,
     "metadata": {},
     "output_type": "execute_result"
    },
    {
     "data": {
      "image/png": "[encoded data removed]",
      "text/plain": [
       "<matplotlib.figure.Figure at 0x120ea4748>"
      ]
     },
     "metadata": {},
     "output_type": "display_data"
    },
    {
     "data": {
      "image/png": "[encoded data removed]",
      "text/plain": [
       "<matplotlib.figure.Figure at 0x121826b70>"
      ]
     },
     "metadata": {},
     "output_type": "display_data"
    },
    {
     "data": {
      "image/png": "[encoded data removed]",
      "text/plain": [
       "<matplotlib.figure.Figure at 0x12193c7f0>"
      ]
     },
     "metadata": {},
     "output_type": "display_data"
    }
   ],
   "source": [
    "# profit per num bets \n",
    "df.num_bets.hist()\n",
    "groups = df.groupby('num_bets').mean()\n",
    "groups.plot(kind='bar', y='success', title='Win rate per #bets')\n",
    "groups.plot(kind='bar', y='profit', title='Profit per #bets')"
   ]
  },
  {
   "cell_type": "code",
   "execution_count": 163,
   "metadata": {},
   "outputs": [
    {
     "data": {
      "text/plain": [
       "<matplotlib.axes._subplots.AxesSubplot at 0x121c6fa90>"
      ]
     },
     "execution_count": 163,
     "metadata": {},
     "output_type": "execute_result"
    },
    {
     "data": {
      "image/png": "[encoded data removed]",
      "text/plain": [
       "<matplotlib.figure.Figure at 0x121a18d68>"
      ]
     },
     "metadata": {},
     "output_type": "display_data"
    },
    {
     "data": {
      "image/png": "[encoded data removed]",
      "text/plain": [
       "<matplotlib.figure.Figure at 0x121bea1d0>"
      ]
     },
     "metadata": {},
     "output_type": "display_data"
    },
    {
     "data": {
      "image/png": "[encoded data removed]",
      "text/plain": [
       "<matplotlib.figure.Figure at 0x121c457f0>"
      ]
     },
     "metadata": {},
     "output_type": "display_data"
    }
   ],
   "source": [
    "# profit per num runners\n",
    "df.num_runners.hist()\n",
    "groups = df.groupby('num_runners').mean()\n",
    "groups.plot(kind='bar', y='success', title='Win rate per #runners')\n",
    "groups.plot(kind='bar', y='profit', title='Profit per #runners')"
   ]
  },
  {
   "cell_type": "code",
   "execution_count": 164,
   "metadata": {},
   "outputs": [
    {
     "data": {
      "text/plain": [
       "<matplotlib.axes._subplots.AxesSubplot at 0x121c80be0>"
      ]
     },
     "execution_count": 164,
     "metadata": {},
     "output_type": "execute_result"
    },
    {
     "data": {
      "image/png": "[encoded data removed]",
      "text/plain": [
       "<matplotlib.figure.Figure at 0x11e91f2e8>"
      ]
     },
     "metadata": {},
     "output_type": "display_data"
    }
   ],
   "source": [
    "# max diff\n",
    "df.win_diff.plot(kind='hist', bins=200, alpha=0.6)\n",
    "df.max_diff.plot(kind='hist', bins=200, alpha=0.2)"
   ]
  },
  {
   "cell_type": "code",
   "execution_count": 165,
   "metadata": {},
   "outputs": [
    {
     "data": {
      "text/plain": [
       "<matplotlib.axes._subplots.AxesSubplot at 0x121fa0f98>"
      ]
     },
     "execution_count": 165,
     "metadata": {},
     "output_type": "execute_result"
    },
    {
     "data": {
      "image/png": "[encoded data removed]",
      "text/plain": [
       "<matplotlib.figure.Figure at 0x12147bda0>"
      ]
     },
     "metadata": {},
     "output_type": "display_data"
    }
   ],
   "source": [
    "# df.profit.plot(kind='hist', bins=50, xlim=(-5), ylim=(0, 140))\n",
    "df.profit.rolling(100).sum().plot(alpha=0.5)\n",
    "df.profit.cumsum().plot(alpha=0.8)"
   ]
  },
  {
   "cell_type": "code",
   "execution_count": 166,
   "metadata": {},
   "outputs": [
    {
     "data": {
      "text/plain": [
       "<matplotlib.axes._subplots.AxesSubplot at 0x12289a2e8>"
      ]
     },
     "execution_count": 166,
     "metadata": {},
     "output_type": "execute_result"
    },
    {
     "data": {
      "image/png": "[encoded data removed]",
      "text/plain": [
       "<matplotlib.figure.Figure at 0x12284d748>"
      ]
     },
     "metadata": {},
     "output_type": "display_data"
    },
    {
     "data": {
      "image/png": "[encoded data removed]",
      "text/plain": [
       "<matplotlib.figure.Figure at 0x12283af98>"
      ]
     },
     "metadata": {},
     "output_type": "display_data"
    }
   ],
   "source": [
    "# bets/runners\n",
    "df['bets_vs_runners'] = df.num_bets / df.num_runners\n",
    "df['bets_vs_runners'].hist(bins=10)\n",
    "groups = df.groupby(df['bets_vs_runners'].apply(lambda x: round(x, 3))).sum()\n",
    "groups.plot(kind='line', y='profit', title='mean profit/bets_per_runners')"
   ]
  },
  {
   "cell_type": "code",
   "execution_count": null,
   "metadata": {
    "collapsed": true
   },
   "outputs": [],
   "source": []
  }
 ],
 "metadata": {
  "kernelspec": {
   "display_name": "Python 3",
   "language": "python",
   "name": "python3"
  },
  "language_info": {
   "codemirror_mode": {
    "name": "ipython",
    "version": 3
   },
   "file_extension": ".py",
   "mimetype": "text/x-python",
   "name": "python",
   "nbconvert_exporter": "python",
   "pygments_lexer": "ipython3",
   "version": "3.6.1"
  }
 },
 "nbformat": 4,
 "nbformat_minor": 2
}
